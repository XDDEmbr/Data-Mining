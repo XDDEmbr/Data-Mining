{
 "cells": [
  {
   "cell_type": "markdown",
   "metadata": {},
   "source": [
    "The techniques used for in this notebook include:\n",
    "\n",
    "* Visualization of Important Insights using Matplotlib libraray\n",
    "* Data Wrangling using Pandas\n",
    "* Bagging and Boosting Techniques to improve bias and variance\n",
    "* Cross-Validation and Machine Learning Curves for Model Evaluation\n",
    "* Stacking: Improvement in bias and Variance by 10%."
   ]
  },
  {
   "cell_type": "code",
   "execution_count": 1,
   "metadata": {
    "_cell_guid": "b1076dfc-b9ad-4769-8c92-a6c4dae69d19",
    "_uuid": "8f2839f25d086af736a60e9eeb907d3b93b6e0e5"
   },
   "outputs": [
    {
     "name": "stdout",
     "output_type": "stream",
     "text": [
      "/kaggle/input/onlinenewspopularity/OnlineNewsPopularity.csv\n"
     ]
    }
   ],
   "source": [
    "# This Python 3 environment comes with many helpful analytics libraries installed\n",
    "# It is defined by the kaggle/python docker image: https://github.com/kaggle/docker-python\n",
    "# For example, here's several helpful packages to load in \n",
    "\n",
    "import numpy as np # linear algebra\n",
    "import pandas as pd # data processing, CSV file I/O (e.g. pd.read_csv)\n",
    "import matplotlib.pyplot as plt\n",
    "import seaborn as sns\n",
    "\n",
    "# Input data files are available in the \"../input/\" directory.\n",
    "# For example, running this (by clicking run or pressing Shift+Enter) will list all files under the input directory\n",
    "\n",
    "import os\n",
    "for dirname, _, filenames in os.walk('/kaggle/input'):\n",
    "    for filename in filenames:\n",
    "        print(os.path.join(dirname, filename))\n",
    "\n",
    "# Any results you write to the current directory are saved as output."
   ]
  },
  {
   "cell_type": "code",
   "execution_count": 2,
   "metadata": {
    "_cell_guid": "79c7e3d0-c299-4dcb-8224-4455121ee9b0",
    "_uuid": "d629ff2d2480ee46fbb7e2d37f6b5fab8052498a"
   },
   "outputs": [],
   "source": [
    "data=pd.read_csv('/kaggle/input/onlinenewspopularity/OnlineNewsPopularity.csv')"
   ]
  },
  {
   "cell_type": "code",
   "execution_count": 3,
   "metadata": {},
   "outputs": [
    {
     "data": {
      "text/html": [
       "<div>\n",
       "<style scoped>\n",
       "    .dataframe tbody tr th:only-of-type {\n",
       "        vertical-align: middle;\n",
       "    }\n",
       "\n",
       "    .dataframe tbody tr th {\n",
       "        vertical-align: top;\n",
       "    }\n",
       "\n",
       "    .dataframe thead th {\n",
       "        text-align: right;\n",
       "    }\n",
       "</style>\n",
       "<table border=\"1\" class=\"dataframe\">\n",
       "  <thead>\n",
       "    <tr style=\"text-align: right;\">\n",
       "      <th></th>\n",
       "      <th>url</th>\n",
       "      <th>timedelta</th>\n",
       "      <th>n_tokens_title</th>\n",
       "      <th>n_tokens_content</th>\n",
       "      <th>n_unique_tokens</th>\n",
       "      <th>n_non_stop_words</th>\n",
       "      <th>n_non_stop_unique_tokens</th>\n",
       "      <th>num_hrefs</th>\n",
       "      <th>num_self_hrefs</th>\n",
       "      <th>num_imgs</th>\n",
       "      <th>...</th>\n",
       "      <th>min_positive_polarity</th>\n",
       "      <th>max_positive_polarity</th>\n",
       "      <th>avg_negative_polarity</th>\n",
       "      <th>min_negative_polarity</th>\n",
       "      <th>max_negative_polarity</th>\n",
       "      <th>title_subjectivity</th>\n",
       "      <th>title_sentiment_polarity</th>\n",
       "      <th>abs_title_subjectivity</th>\n",
       "      <th>abs_title_sentiment_polarity</th>\n",
       "      <th>shares</th>\n",
       "    </tr>\n",
       "  </thead>\n",
       "  <tbody>\n",
       "    <tr>\n",
       "      <th>0</th>\n",
       "      <td>http://mashable.com/2013/01/07/amazon-instant-...</td>\n",
       "      <td>731.0</td>\n",
       "      <td>12.0</td>\n",
       "      <td>219.0</td>\n",
       "      <td>0.663594</td>\n",
       "      <td>1.0</td>\n",
       "      <td>0.815385</td>\n",
       "      <td>4.0</td>\n",
       "      <td>2.0</td>\n",
       "      <td>1.0</td>\n",
       "      <td>...</td>\n",
       "      <td>0.100000</td>\n",
       "      <td>0.7</td>\n",
       "      <td>-0.350000</td>\n",
       "      <td>-0.600</td>\n",
       "      <td>-0.200000</td>\n",
       "      <td>0.500000</td>\n",
       "      <td>-0.187500</td>\n",
       "      <td>0.000000</td>\n",
       "      <td>0.187500</td>\n",
       "      <td>593</td>\n",
       "    </tr>\n",
       "    <tr>\n",
       "      <th>1</th>\n",
       "      <td>http://mashable.com/2013/01/07/ap-samsung-spon...</td>\n",
       "      <td>731.0</td>\n",
       "      <td>9.0</td>\n",
       "      <td>255.0</td>\n",
       "      <td>0.604743</td>\n",
       "      <td>1.0</td>\n",
       "      <td>0.791946</td>\n",
       "      <td>3.0</td>\n",
       "      <td>1.0</td>\n",
       "      <td>1.0</td>\n",
       "      <td>...</td>\n",
       "      <td>0.033333</td>\n",
       "      <td>0.7</td>\n",
       "      <td>-0.118750</td>\n",
       "      <td>-0.125</td>\n",
       "      <td>-0.100000</td>\n",
       "      <td>0.000000</td>\n",
       "      <td>0.000000</td>\n",
       "      <td>0.500000</td>\n",
       "      <td>0.000000</td>\n",
       "      <td>711</td>\n",
       "    </tr>\n",
       "    <tr>\n",
       "      <th>2</th>\n",
       "      <td>http://mashable.com/2013/01/07/apple-40-billio...</td>\n",
       "      <td>731.0</td>\n",
       "      <td>9.0</td>\n",
       "      <td>211.0</td>\n",
       "      <td>0.575130</td>\n",
       "      <td>1.0</td>\n",
       "      <td>0.663866</td>\n",
       "      <td>3.0</td>\n",
       "      <td>1.0</td>\n",
       "      <td>1.0</td>\n",
       "      <td>...</td>\n",
       "      <td>0.100000</td>\n",
       "      <td>1.0</td>\n",
       "      <td>-0.466667</td>\n",
       "      <td>-0.800</td>\n",
       "      <td>-0.133333</td>\n",
       "      <td>0.000000</td>\n",
       "      <td>0.000000</td>\n",
       "      <td>0.500000</td>\n",
       "      <td>0.000000</td>\n",
       "      <td>1500</td>\n",
       "    </tr>\n",
       "    <tr>\n",
       "      <th>3</th>\n",
       "      <td>http://mashable.com/2013/01/07/astronaut-notre...</td>\n",
       "      <td>731.0</td>\n",
       "      <td>9.0</td>\n",
       "      <td>531.0</td>\n",
       "      <td>0.503788</td>\n",
       "      <td>1.0</td>\n",
       "      <td>0.665635</td>\n",
       "      <td>9.0</td>\n",
       "      <td>0.0</td>\n",
       "      <td>1.0</td>\n",
       "      <td>...</td>\n",
       "      <td>0.136364</td>\n",
       "      <td>0.8</td>\n",
       "      <td>-0.369697</td>\n",
       "      <td>-0.600</td>\n",
       "      <td>-0.166667</td>\n",
       "      <td>0.000000</td>\n",
       "      <td>0.000000</td>\n",
       "      <td>0.500000</td>\n",
       "      <td>0.000000</td>\n",
       "      <td>1200</td>\n",
       "    </tr>\n",
       "    <tr>\n",
       "      <th>4</th>\n",
       "      <td>http://mashable.com/2013/01/07/att-u-verse-apps/</td>\n",
       "      <td>731.0</td>\n",
       "      <td>13.0</td>\n",
       "      <td>1072.0</td>\n",
       "      <td>0.415646</td>\n",
       "      <td>1.0</td>\n",
       "      <td>0.540890</td>\n",
       "      <td>19.0</td>\n",
       "      <td>19.0</td>\n",
       "      <td>20.0</td>\n",
       "      <td>...</td>\n",
       "      <td>0.033333</td>\n",
       "      <td>1.0</td>\n",
       "      <td>-0.220192</td>\n",
       "      <td>-0.500</td>\n",
       "      <td>-0.050000</td>\n",
       "      <td>0.454545</td>\n",
       "      <td>0.136364</td>\n",
       "      <td>0.045455</td>\n",
       "      <td>0.136364</td>\n",
       "      <td>505</td>\n",
       "    </tr>\n",
       "  </tbody>\n",
       "</table>\n",
       "<p>5 rows × 61 columns</p>\n",
       "</div>"
      ],
      "text/plain": [
       "                                                 url   timedelta  \\\n",
       "0  http://mashable.com/2013/01/07/amazon-instant-...       731.0   \n",
       "1  http://mashable.com/2013/01/07/ap-samsung-spon...       731.0   \n",
       "2  http://mashable.com/2013/01/07/apple-40-billio...       731.0   \n",
       "3  http://mashable.com/2013/01/07/astronaut-notre...       731.0   \n",
       "4   http://mashable.com/2013/01/07/att-u-verse-apps/       731.0   \n",
       "\n",
       "    n_tokens_title   n_tokens_content   n_unique_tokens   n_non_stop_words  \\\n",
       "0             12.0              219.0          0.663594                1.0   \n",
       "1              9.0              255.0          0.604743                1.0   \n",
       "2              9.0              211.0          0.575130                1.0   \n",
       "3              9.0              531.0          0.503788                1.0   \n",
       "4             13.0             1072.0          0.415646                1.0   \n",
       "\n",
       "    n_non_stop_unique_tokens   num_hrefs   num_self_hrefs   num_imgs  ...  \\\n",
       "0                   0.815385         4.0              2.0        1.0  ...   \n",
       "1                   0.791946         3.0              1.0        1.0  ...   \n",
       "2                   0.663866         3.0              1.0        1.0  ...   \n",
       "3                   0.665635         9.0              0.0        1.0  ...   \n",
       "4                   0.540890        19.0             19.0       20.0  ...   \n",
       "\n",
       "    min_positive_polarity   max_positive_polarity   avg_negative_polarity  \\\n",
       "0                0.100000                     0.7               -0.350000   \n",
       "1                0.033333                     0.7               -0.118750   \n",
       "2                0.100000                     1.0               -0.466667   \n",
       "3                0.136364                     0.8               -0.369697   \n",
       "4                0.033333                     1.0               -0.220192   \n",
       "\n",
       "    min_negative_polarity   max_negative_polarity   title_subjectivity  \\\n",
       "0                  -0.600               -0.200000             0.500000   \n",
       "1                  -0.125               -0.100000             0.000000   \n",
       "2                  -0.800               -0.133333             0.000000   \n",
       "3                  -0.600               -0.166667             0.000000   \n",
       "4                  -0.500               -0.050000             0.454545   \n",
       "\n",
       "    title_sentiment_polarity   abs_title_subjectivity  \\\n",
       "0                  -0.187500                 0.000000   \n",
       "1                   0.000000                 0.500000   \n",
       "2                   0.000000                 0.500000   \n",
       "3                   0.000000                 0.500000   \n",
       "4                   0.136364                 0.045455   \n",
       "\n",
       "    abs_title_sentiment_polarity   shares  \n",
       "0                       0.187500      593  \n",
       "1                       0.000000      711  \n",
       "2                       0.000000     1500  \n",
       "3                       0.000000     1200  \n",
       "4                       0.136364      505  \n",
       "\n",
       "[5 rows x 61 columns]"
      ]
     },
     "execution_count": 3,
     "metadata": {},
     "output_type": "execute_result"
    }
   ],
   "source": [
    "data.head()"
   ]
  },
  {
   "cell_type": "markdown",
   "metadata": {},
   "source": [
    "# ****1. Expolatory Data Analysis (EDA)****"
   ]
  },
  {
   "cell_type": "code",
   "execution_count": 4,
   "metadata": {},
   "outputs": [
    {
     "data": {
      "text/plain": [
       "'http://mashable.com/2013/02/10/wedding-proposal-videos/'"
      ]
     },
     "execution_count": 4,
     "metadata": {},
     "output_type": "execute_result"
    }
   ],
   "source": [
    "data['url'][2000]"
   ]
  },
  {
   "cell_type": "code",
   "execution_count": 5,
   "metadata": {},
   "outputs": [],
   "source": [
    "import nltk\n",
    "import re\n",
    "import string\n",
    "from datetime import datetime"
   ]
  },
  {
   "cell_type": "code",
   "execution_count": 6,
   "metadata": {},
   "outputs": [],
   "source": [
    "date=[]\n",
    "date_original=[]\n",
    "\n",
    "for i in range(data.shape[0]):\n",
    "    x=re.findall(r'[0-9]{4}/[0-9]{2}/[0-9]{2}',data['url'][i])\n",
    "    date.append(x)\n",
    "    \n",
    "for i in date:\n",
    "    for r in i:\n",
    "        date_original.append(r)"
   ]
  },
  {
   "cell_type": "code",
   "execution_count": 7,
   "metadata": {},
   "outputs": [],
   "source": [
    "data['date']=date_original"
   ]
  },
  {
   "cell_type": "code",
   "execution_count": 8,
   "metadata": {},
   "outputs": [],
   "source": [
    "data['date']= pd.to_datetime(data['date'])"
   ]
  },
  {
   "cell_type": "code",
   "execution_count": 9,
   "metadata": {},
   "outputs": [
    {
     "name": "stderr",
     "output_type": "stream",
     "text": [
      "/opt/conda/lib/python3.6/site-packages/pandas/plotting/_matplotlib/converter.py:103: FutureWarning: Using an implicitly registered datetime converter for a matplotlib plotting method. The converter was registered by pandas on import. Future versions of pandas will require you to explicitly register matplotlib converters.\n",
      "\n",
      "To register the converters:\n",
      "\t>>> from pandas.plotting import register_matplotlib_converters\n",
      "\t>>> register_matplotlib_converters()\n",
      "  warnings.warn(msg, FutureWarning)\n"
     ]
    },
    {
     "data": {
      "image/png": "[encoded data removed]",
      "text/plain": [
       "<Figure size 720x720 with 1 Axes>"
      ]
     },
     "metadata": {
      "needs_background": "light"
     },
     "output_type": "display_data"
    }
   ],
   "source": [
    "fig=plt.figure(figsize=(10,10))\n",
    "ax=fig.gca()\n",
    "plt.plot(data['date'],data[' shares'])\n",
    "plt.show()"
   ]
  },
  {
   "cell_type": "code",
   "execution_count": 10,
   "metadata": {},
   "outputs": [
    {
     "data": {
      "text/plain": [
       "<matplotlib.collections.PathCollection at 0x7f61a333efd0>"
      ]
     },
     "execution_count": 10,
     "metadata": {},
     "output_type": "execute_result"
    },
    {
     "data": {
      "image/png": "[encoded data removed]",
      "text/plain": [
       "<Figure size 432x288 with 1 Axes>"
      ]
     },
     "metadata": {
      "needs_background": "light"
     },
     "output_type": "display_data"
    }
   ],
   "source": [
    "plt.scatter(data[' timedelta'],data[' shares'],c='r')\n"
   ]
  },
  {
   "cell_type": "markdown",
   "metadata": {},
   "source": [
    "### Observations:\n",
    "\n",
    "1) Time Delta (The days between the dataset compilation and article publishing) v Number of shares\n",
    "\n",
    "2) There are more outliers such as after 400 days more articles have been shared more than 20k times\n",
    "\n",
    "3) These outliers are not helping to check the exact distribution of data and are skewing the results"
   ]
  },
  {
   "cell_type": "code",
   "execution_count": 11,
   "metadata": {},
   "outputs": [
    {
     "data": {
      "text/plain": [
       "39644"
      ]
     },
     "execution_count": 11,
     "metadata": {},
     "output_type": "execute_result"
    }
   ],
   "source": [
    "data.shape[0]"
   ]
  },
  {
   "cell_type": "code",
   "execution_count": 12,
   "metadata": {},
   "outputs": [],
   "source": [
    "for i in range(data.shape[0]):\n",
    "    if data[' shares'][i] > 28000:\n",
    "        data.drop(index=i,inplace=True)\n",
    "        "
   ]
  },
  {
   "cell_type": "code",
   "execution_count": 13,
   "metadata": {},
   "outputs": [],
   "source": [
    "data=data.reset_index(drop=True)"
   ]
  },
  {
   "cell_type": "code",
   "execution_count": 14,
   "metadata": {},
   "outputs": [
    {
     "data": {
      "text/plain": [
       "<matplotlib.collections.PathCollection at 0x7f61a32c7400>"
      ]
     },
     "execution_count": 14,
     "metadata": {},
     "output_type": "execute_result"
    },
    {
     "data": {
      "image/png": "[encoded data removed]",
      "text/plain": [
       "<Figure size 432x288 with 1 Axes>"
      ]
     },
     "metadata": {
      "needs_background": "light"
     },
     "output_type": "display_data"
    }
   ],
   "source": [
    "plt.scatter(data[' timedelta'],data[' shares'],c='r')"
   ]
  },
  {
   "cell_type": "code",
   "execution_count": 15,
   "metadata": {},
   "outputs": [
    {
     "data": {
      "text/plain": [
       "<matplotlib.legend.Legend at 0x7f61a32284e0>"
      ]
     },
     "execution_count": 15,
     "metadata": {},
     "output_type": "execute_result"
    },
    {
     "data": {
      "image/png": "[encoded data removed]",
      "text/plain": [
       "<Figure size 432x288 with 1 Axes>"
      ]
     },
     "metadata": {
      "needs_background": "light"
     },
     "output_type": "display_data"
    }
   ],
   "source": [
    "plt.plot(data[' num_imgs'],data[' shares'],'ro',label='Images')\n",
    "plt.plot(data[' num_videos'],data[' shares'],'b^',label='Videos')\n",
    "plt.legend()"
   ]
  },
  {
   "cell_type": "markdown",
   "metadata": {},
   "source": [
    "### This was for getting the relation between number of videos and images in an article with their corresponding shares.\n",
    "\n",
    "1) If number of videos and images exceeds 80 then shares come close to 0-5k.\n",
    "\n",
    "2) Most of the articles between 0-40 images and videos has been shared 0-20k times"
   ]
  },
  {
   "cell_type": "code",
   "execution_count": 16,
   "metadata": {},
   "outputs": [
    {
     "data": {
      "text/plain": [
       "<matplotlib.axes._subplots.AxesSubplot at 0x7f61a31d3198>"
      ]
     },
     "execution_count": 16,
     "metadata": {},
     "output_type": "execute_result"
    },
    {
     "data": {
      "image/png": "[encoded data removed]",
      "text/plain": [
       "<Figure size 432x288 with 1 Axes>"
      ]
     },
     "metadata": {
      "needs_background": "light"
     },
     "output_type": "display_data"
    }
   ],
   "source": [
    "sns.scatterplot(data[' n_tokens_title'],data[' shares'])"
   ]
  },
  {
   "cell_type": "code",
   "execution_count": 17,
   "metadata": {},
   "outputs": [
    {
     "data": {
      "text/plain": [
       "<matplotlib.axes._subplots.AxesSubplot at 0x7f61a31b8710>"
      ]
     },
     "execution_count": 17,
     "metadata": {},
     "output_type": "execute_result"
    },
    {
     "data": {
      "image/png": "[encoded data removed]",
      "text/plain": [
       "<Figure size 432x288 with 1 Axes>"
      ]
     },
     "metadata": {
      "needs_background": "light"
     },
     "output_type": "display_data"
    }
   ],
   "source": [
    "sns.scatterplot(data[' n_tokens_content'],data[' shares'])"
   ]
  },
  {
   "cell_type": "code",
   "execution_count": 24,
   "metadata": {},
   "outputs": [
    {
     "data": {
      "text/plain": [
       "<matplotlib.legend.Legend at 0x7f61a16f40f0>"
      ]
     },
     "execution_count": 24,
     "metadata": {},
     "output_type": "execute_result"
    },
    {
     "data": {
      "image/png": "[encoded data removed]",
      "text/plain": [
       "<Figure size 432x288 with 1 Axes>"
      ]
     },
     "metadata": {
      "needs_background": "light"
     },
     "output_type": "display_data"
    }
   ],
   "source": [
    "plt.hist(data[' n_tokens_content'],alpha=0.5,color='b')\n",
    "plt.hist(data[' shares'],alpha=0.5,color='g')\n",
    "plt.legend()"
   ]
  },
  {
   "cell_type": "markdown",
   "metadata": {},
   "source": [
    "## Observations:\n",
    "\n",
    "1) Too short and too long titles are not getting good response. Words between 5-18 are good.\n",
    "\n",
    "2) Total words between 0-20k are getting the higher response.Above 20k articles have not been shared more than 500 times.\n",
    "\n",
    "3) Both \"shares\" and \"n_number_tokens\" are right skewed.That means data is concentrated in lower half."
   ]
  },
  {
   "cell_type": "code",
   "execution_count": 25,
   "metadata": {},
   "outputs": [
    {
     "data": {
      "text/plain": [
       "<matplotlib.axes._subplots.AxesSubplot at 0x7f61a1aed898>"
      ]
     },
     "execution_count": 25,
     "metadata": {},
     "output_type": "execute_result"
    },
    {
     "data": {
      "image/png": "[encoded data removed]",
      "text/plain": [
       "<Figure size 720x720 with 1 Axes>"
      ]
     },
     "metadata": {
      "needs_background": "light"
     },
     "output_type": "display_data"
    }
   ],
   "source": [
    "from scipy.stats import norm\n",
    "fig= plt.figure(figsize=(10,10))\n",
    "ax=fig.gca()\n",
    "ax.set_title(\"The 'Sharing' distribution of whole dataset\")\n",
    "sns.distplot(data[' shares'],ax=ax, fit=norm)\n"
   ]
  },
  {
   "cell_type": "code",
   "execution_count": 26,
   "metadata": {},
   "outputs": [
    {
     "name": "stdout",
     "output_type": "stream",
     "text": [
      "Skew: 3.6009669969582965\n"
     ]
    }
   ],
   "source": [
    "print(\"Skew:\",data[' shares'].skew())"
   ]
  },
  {
   "cell_type": "markdown",
   "metadata": {},
   "source": [
    "A Positive Skew means that data is right skewed and it can be corrected with log or square root."
   ]
  },
  {
   "cell_type": "markdown",
   "metadata": {},
   "source": [
    "#### 1. it is positive skewed so more data in lower half.\n",
    "#### 2. We cannot use squared error term as it would highlight the higher terms with errors so would make results less interpretable.\n",
    "#### 3. We can power transform the target variable or leave it as it is."
   ]
  },
  {
   "cell_type": "code",
   "execution_count": 35,
   "metadata": {},
   "outputs": [],
   "source": [
    "lifestyle_articles=data[data[' data_channel_is_lifestyle'] == 1][' shares'].sum()\n",
    "entertainment_articles=data[data[' data_channel_is_entertainment'] == 1][' shares'].sum()\n",
    "business_articles=data[data[' data_channel_is_bus'] == 1][' shares'].sum()\n",
    "socialmedia_articles=data[data[' data_channel_is_socmed'] == 1][' shares'].sum()\n",
    "technical_articles=data[data[' data_channel_is_tech'] == 1][' shares'].sum()\n",
    "world_articles=data[data[' data_channel_is_world'] == 1][' shares'].sum()"
   ]
  },
  {
   "cell_type": "code",
   "execution_count": 38,
   "metadata": {
    "scrolled": true
   },
   "outputs": [
    {
     "data": {
      "text/plain": [
       "<BarContainer object of 6 artists>"
      ]
     },
     "execution_count": 38,
     "metadata": {},
     "output_type": "execute_result"
    },
    {
     "data": {
      "image/png": "[encoded data removed]",
      "text/plain": [
       "<Figure size 720x720 with 1 Axes>"
      ]
     },
     "metadata": {
      "needs_background": "light"
     },
     "output_type": "display_data"
    }
   ],
   "source": [
    "articles_types=np.array([lifestyle_articles,entertainment_articles,business_articles,socialmedia_articles,technical_articles,world_articles],dtype=np.int64)\n",
    "fig= plt.figure(figsize=(10,10))\n",
    "ax=fig.gca()\n",
    "ax.set_title('TOTAL SHARED ARTICLES OF EACH GENRE')\n",
    "ax.set_ylabel('Number of Articles')\n",
    "plt.bar(x=['lifestyle','entertainment','business','socialmedia','technical','world'],height=articles_types,color='rgbkymc')\n"
   ]
  },
  {
   "cell_type": "code",
   "execution_count": 29,
   "metadata": {},
   "outputs": [
    {
     "data": {
      "text/plain": [
       "array([ 6272279, 16238428, 14180070,  7481357, 20069193, 16379535])"
      ]
     },
     "execution_count": 29,
     "metadata": {},
     "output_type": "execute_result"
    }
   ],
   "source": [
    "articles_types"
   ]
  },
  {
   "cell_type": "markdown",
   "metadata": {},
   "source": [
    "### Observations:\n",
    "\n",
    "1) Technical genre articles are the highest ones in sharing order.\n",
    "\n",
    "2) lifestyle articles are shared the least."
   ]
  },
  {
   "cell_type": "code",
   "execution_count": 30,
   "metadata": {},
   "outputs": [],
   "source": [
    "monday_articles=data[data[' weekday_is_monday'] == 1][' shares'].sum()\n",
    "tuesday_articles=data[data[' weekday_is_tuesday'] == 1][' shares'].sum()\n",
    "wednesday_articles=data[data[' weekday_is_wednesday'] == 1][' shares'].sum()\n",
    "thursday_articles=data[data[' weekday_is_thursday'] == 1][' shares'].sum()\n",
    "friday_articles=data[data[' weekday_is_friday'] == 1][' shares'].sum()\n",
    "saturday_articles=data[data[' weekday_is_saturday'] == 1][' shares'].sum()\n",
    "sunday_articles=data[data[' weekday_is_sunday'] == 1][' shares'].sum()\n",
    "weekend_articles=data[data[' is_weekend'] == 1][' shares'].sum()"
   ]
  },
  {
   "cell_type": "code",
   "execution_count": 39,
   "metadata": {},
   "outputs": [
    {
     "data": {
      "text/plain": [
       "<BarContainer object of 8 artists>"
      ]
     },
     "execution_count": 39,
     "metadata": {},
     "output_type": "execute_result"
    },
    {
     "data": {
      "image/png": "[encoded data removed]",
      "text/plain": [
       "<Figure size 720x720 with 1 Axes>"
      ]
     },
     "metadata": {
      "needs_background": "light"
     },
     "output_type": "display_data"
    }
   ],
   "source": [
    "articles_publishing_days= np.array([monday_articles,tuesday_articles,wednesday_articles,thursday_articles,friday_articles,\n",
    "                                    saturday_articles,sunday_articles,weekend_articles])\n",
    "fig= plt.figure(figsize=(10,10))\n",
    "ax=fig.gca()\n",
    "ax.set_title('Total sharing of articles day-wise')\n",
    "ax.set_ylabel('Number of Articles')\n",
    "plt.bar(x=['monday','tuesday','wednesday','thursday','friday','saturday','sunday','weekend'],height=articles_publishing_days\n",
    "        ,color='rgbkymc')\n"
   ]
  },
  {
   "cell_type": "code",
   "execution_count": 32,
   "metadata": {},
   "outputs": [
    {
     "name": "stdout",
     "output_type": "stream",
     "text": [
      "Best channel on  weekday_is_monday has articles 3230332 and channel is  data_channel_is_tech\n",
      "Best channel on  weekday_is_tuesday has articles 3883646 and channel is  data_channel_is_tech\n",
      "Best channel on  weekday_is_wednesday has articles 3807165 and channel is  data_channel_is_tech\n",
      "Best channel on  weekday_is_thursday has articles 3328651 and channel is  data_channel_is_tech\n",
      "Best channel on  weekday_is_friday has articles 2607854 and channel is  data_channel_is_tech\n",
      "Best channel on  weekday_is_saturday has articles 1764513 and channel is  data_channel_is_tech\n",
      "Best channel on  weekday_is_sunday has articles 1770970 and channel is  data_channel_is_entertainment\n",
      "Best channel on  is_weekend has articles 3211545 and channel is  data_channel_is_tech\n"
     ]
    }
   ],
   "source": [
    "result=[]\n",
    "days=[' weekday_is_monday',' weekday_is_tuesday',' weekday_is_wednesday',' weekday_is_thursday',' weekday_is_friday',\n",
    "     ' weekday_is_saturday',' weekday_is_sunday',' is_weekend']\n",
    "genre=[' data_channel_is_lifestyle',' data_channel_is_entertainment',' data_channel_is_bus',' data_channel_is_socmed',\n",
    "       ' data_channel_is_tech',' data_channel_is_world']\n",
    "for i in days:\n",
    "    list1=[]\n",
    "    for j in genre:\n",
    "        list1.append(data.groupby([i,j])[' shares'].sum()[1][1])\n",
    "    print('Best channel on {} has articles {} and channel is {}'.format(i,max(list1),genre[list1.index(max(list1))]))"
   ]
  },
  {
   "cell_type": "code",
   "execution_count": 40,
   "metadata": {},
   "outputs": [],
   "source": [
    "Worst_min_shares=pd.DataFrame(data.groupby([' kw_min_min'],sort=True)[' shares'].sum())\n",
    "Worst_max_shares=pd.DataFrame(data.groupby([' kw_max_min'],sort=True)[' shares'].sum())\n",
    "Worst_avg_shares=pd.DataFrame(data.groupby([' kw_avg_min'],sort=True)[' shares'].sum())\n",
    "Best_min_shares=pd.DataFrame(data.groupby([' kw_min_max'],sort=True)[' shares'].sum())\n",
    "Best_max_shares=pd.DataFrame(data.groupby([' kw_max_max'],sort=True)[' shares'].sum())\n",
    "Best_avg_shares=pd.DataFrame(data.groupby([' kw_avg_max'],sort=True)[' shares'].sum())\n",
    "Normal_min_shares=pd.DataFrame(data.groupby([' kw_min_avg'],sort=True)[' shares'].sum())\n",
    "Normal_max_shares=pd.DataFrame(data.groupby([' kw_max_avg'],sort=True)[' shares'].sum())\n",
    "Normal_avg_shares=pd.DataFrame(data.groupby([' kw_avg_avg'],sort=True)[' shares'].sum())"
   ]
  },
  {
   "cell_type": "code",
   "execution_count": 41,
   "metadata": {},
   "outputs": [
    {
     "data": {
      "text/plain": [
       "<matplotlib.axes._subplots.AxesSubplot at 0x7f61a1511710>"
      ]
     },
     "execution_count": 41,
     "metadata": {},
     "output_type": "execute_result"
    },
    {
     "data": {
      "image/png": "[encoded data removed]",
      "text/plain": [
       "<Figure size 432x288 with 1 Axes>"
      ]
     },
     "metadata": {
      "needs_background": "light"
     },
     "output_type": "display_data"
    }
   ],
   "source": [
    "Worst_min_shares.plot()"
   ]
  },
  {
   "cell_type": "code",
   "execution_count": 1,
   "metadata": {},
   "outputs": [
    {
     "ename": "NameError",
     "evalue": "name 'pd' is not defined",
     "output_type": "error",
     "traceback": [
      "\u001b[1;31m---------------------------------------------------------------------------\u001b[0m",
      "\u001b[1;31mNameError\u001b[0m                                 Traceback (most recent call last)",
      "\u001b[1;32m~\\AppData\\Local\\Temp/ipykernel_23448/588071166.py\u001b[0m in \u001b[0;36m<module>\u001b[1;34m\u001b[0m\n\u001b[1;32m----> 1\u001b[1;33m \u001b[0mLda_00\u001b[0m\u001b[1;33m=\u001b[0m\u001b[0mpd\u001b[0m\u001b[1;33m.\u001b[0m\u001b[0mDataFrame\u001b[0m\u001b[1;33m(\u001b[0m\u001b[0mdata\u001b[0m\u001b[1;33m.\u001b[0m\u001b[0mgroupby\u001b[0m\u001b[1;33m(\u001b[0m\u001b[0mby\u001b[0m\u001b[1;33m=\u001b[0m\u001b[1;33m[\u001b[0m\u001b[1;34m' LDA_00'\u001b[0m\u001b[1;33m]\u001b[0m\u001b[1;33m)\u001b[0m\u001b[1;33m[\u001b[0m\u001b[1;34m' shares'\u001b[0m\u001b[1;33m]\u001b[0m\u001b[1;33m.\u001b[0m\u001b[0msum\u001b[0m\u001b[1;33m(\u001b[0m\u001b[1;33m)\u001b[0m\u001b[1;33m.\u001b[0m\u001b[0msort_values\u001b[0m\u001b[1;33m(\u001b[0m\u001b[0mascending\u001b[0m\u001b[1;33m=\u001b[0m\u001b[1;32mFalse\u001b[0m\u001b[1;33m)\u001b[0m\u001b[1;33m)\u001b[0m\u001b[1;33m.\u001b[0m\u001b[0mreset_index\u001b[0m\u001b[1;33m(\u001b[0m\u001b[1;33m)\u001b[0m\u001b[1;33m\u001b[0m\u001b[1;33m\u001b[0m\u001b[0m\n\u001b[0m\u001b[0;32m      2\u001b[0m \u001b[0mLda_01\u001b[0m\u001b[1;33m=\u001b[0m\u001b[0mpd\u001b[0m\u001b[1;33m.\u001b[0m\u001b[0mDataFrame\u001b[0m\u001b[1;33m(\u001b[0m\u001b[0mdata\u001b[0m\u001b[1;33m.\u001b[0m\u001b[0mgroupby\u001b[0m\u001b[1;33m(\u001b[0m\u001b[0mby\u001b[0m\u001b[1;33m=\u001b[0m\u001b[1;33m[\u001b[0m\u001b[1;34m' LDA_01'\u001b[0m\u001b[1;33m]\u001b[0m\u001b[1;33m)\u001b[0m\u001b[1;33m[\u001b[0m\u001b[1;34m' shares'\u001b[0m\u001b[1;33m]\u001b[0m\u001b[1;33m.\u001b[0m\u001b[0msum\u001b[0m\u001b[1;33m(\u001b[0m\u001b[1;33m)\u001b[0m\u001b[1;33m.\u001b[0m\u001b[0msort_values\u001b[0m\u001b[1;33m(\u001b[0m\u001b[0mascending\u001b[0m\u001b[1;33m=\u001b[0m\u001b[1;32mFalse\u001b[0m\u001b[1;33m)\u001b[0m\u001b[1;33m)\u001b[0m\u001b[1;33m.\u001b[0m\u001b[0mreset_index\u001b[0m\u001b[1;33m(\u001b[0m\u001b[1;33m)\u001b[0m\u001b[1;33m\u001b[0m\u001b[1;33m\u001b[0m\u001b[0m\n\u001b[0;32m      3\u001b[0m \u001b[0mLda_02\u001b[0m\u001b[1;33m=\u001b[0m\u001b[0mpd\u001b[0m\u001b[1;33m.\u001b[0m\u001b[0mDataFrame\u001b[0m\u001b[1;33m(\u001b[0m\u001b[0mdata\u001b[0m\u001b[1;33m.\u001b[0m\u001b[0mgroupby\u001b[0m\u001b[1;33m(\u001b[0m\u001b[0mby\u001b[0m\u001b[1;33m=\u001b[0m\u001b[1;33m[\u001b[0m\u001b[1;34m' LDA_02'\u001b[0m\u001b[1;33m]\u001b[0m\u001b[1;33m)\u001b[0m\u001b[1;33m[\u001b[0m\u001b[1;34m' shares'\u001b[0m\u001b[1;33m]\u001b[0m\u001b[1;33m.\u001b[0m\u001b[0msum\u001b[0m\u001b[1;33m(\u001b[0m\u001b[1;33m)\u001b[0m\u001b[1;33m.\u001b[0m\u001b[0msort_values\u001b[0m\u001b[1;33m(\u001b[0m\u001b[0mascending\u001b[0m\u001b[1;33m=\u001b[0m\u001b[1;32mFalse\u001b[0m\u001b[1;33m)\u001b[0m\u001b[1;33m)\u001b[0m\u001b[1;33m.\u001b[0m\u001b[0mreset_index\u001b[0m\u001b[1;33m(\u001b[0m\u001b[1;33m)\u001b[0m\u001b[1;33m\u001b[0m\u001b[1;33m\u001b[0m\u001b[0m\n\u001b[0;32m      4\u001b[0m \u001b[0mLda_03\u001b[0m\u001b[1;33m=\u001b[0m\u001b[0mpd\u001b[0m\u001b[1;33m.\u001b[0m\u001b[0mDataFrame\u001b[0m\u001b[1;33m(\u001b[0m\u001b[0mdata\u001b[0m\u001b[1;33m.\u001b[0m\u001b[0mgroupby\u001b[0m\u001b[1;33m(\u001b[0m\u001b[0mby\u001b[0m\u001b[1;33m=\u001b[0m\u001b[1;33m[\u001b[0m\u001b[1;34m' LDA_03'\u001b[0m\u001b[1;33m]\u001b[0m\u001b[1;33m)\u001b[0m\u001b[1;33m[\u001b[0m\u001b[1;34m' shares'\u001b[0m\u001b[1;33m]\u001b[0m\u001b[1;33m.\u001b[0m\u001b[0msum\u001b[0m\u001b[1;33m(\u001b[0m\u001b[1;33m)\u001b[0m\u001b[1;33m.\u001b[0m\u001b[0msort_values\u001b[0m\u001b[1;33m(\u001b[0m\u001b[0mascending\u001b[0m\u001b[1;33m=\u001b[0m\u001b[1;32mFalse\u001b[0m\u001b[1;33m)\u001b[0m\u001b[1;33m)\u001b[0m\u001b[1;33m.\u001b[0m\u001b[0mreset_index\u001b[0m\u001b[1;33m(\u001b[0m\u001b[1;33m)\u001b[0m\u001b[1;33m\u001b[0m\u001b[1;33m\u001b[0m\u001b[0m\n\u001b[0;32m      5\u001b[0m \u001b[0mLda_04\u001b[0m\u001b[1;33m=\u001b[0m\u001b[0mpd\u001b[0m\u001b[1;33m.\u001b[0m\u001b[0mDataFrame\u001b[0m\u001b[1;33m(\u001b[0m\u001b[0mdata\u001b[0m\u001b[1;33m.\u001b[0m\u001b[0mgroupby\u001b[0m\u001b[1;33m(\u001b[0m\u001b[0mby\u001b[0m\u001b[1;33m=\u001b[0m\u001b[1;33m[\u001b[0m\u001b[1;34m' LDA_04'\u001b[0m\u001b[1;33m]\u001b[0m\u001b[1;33m)\u001b[0m\u001b[1;33m[\u001b[0m\u001b[1;34m' shares'\u001b[0m\u001b[1;33m]\u001b[0m\u001b[1;33m.\u001b[0m\u001b[0msum\u001b[0m\u001b[1;33m(\u001b[0m\u001b[1;33m)\u001b[0m\u001b[1;33m.\u001b[0m\u001b[0msort_values\u001b[0m\u001b[1;33m(\u001b[0m\u001b[0mascending\u001b[0m\u001b[1;33m=\u001b[0m\u001b[1;32mFalse\u001b[0m\u001b[1;33m)\u001b[0m\u001b[1;33m)\u001b[0m\u001b[1;33m.\u001b[0m\u001b[0mreset_index\u001b[0m\u001b[1;33m(\u001b[0m\u001b[1;33m)\u001b[0m\u001b[1;33m\u001b[0m\u001b[1;33m\u001b[0m\u001b[0m\n",
      "\u001b[1;31mNameError\u001b[0m: name 'pd' is not defined"
     ]
    }
   ],
   "source": [
    "Lda_00=pd.DataFrame(data.groupby(by=[' LDA_00'])[' shares'].sum().sort_values(ascending=False)).reset_index()\n",
    "Lda_01=pd.DataFrame(data.groupby(by=[' LDA_01'])[' shares'].sum().sort_values(ascending=False)).reset_index()\n",
    "Lda_02=pd.DataFrame(data.groupby(by=[' LDA_02'])[' shares'].sum().sort_values(ascending=False)).reset_index()\n",
    "Lda_03=pd.DataFrame(data.groupby(by=[' LDA_03'])[' shares'].sum().sort_values(ascending=False)).reset_index()\n",
    "Lda_04=pd.DataFrame(data.groupby(by=[' LDA_04'])[' shares'].sum().sort_values(ascending=False)).reset_index()"
   ]
  },
  {
   "cell_type": "code",
   "execution_count": 43,
   "metadata": {},
   "outputs": [],
   "source": [
    "## mean respective lda for > 50 shares\n",
    "mean_lda_00=np.mean(Lda_00[Lda_00[' shares'] > 50])[0]\n",
    "mean_lda_01=np.mean(Lda_01[Lda_01[' shares'] > 50])[0]\n",
    "mean_lda_02=np.mean(Lda_02[Lda_02[' shares'] > 50])[0]\n",
    "mean_lda_03=np.mean(Lda_03[Lda_03[' shares'] > 50])[0]\n",
    "mean_lda_04=np.mean(Lda_04[Lda_04[' shares'] > 50])[0]"
   ]
  },
  {
   "cell_type": "code",
   "execution_count": 44,
   "metadata": {},
   "outputs": [
    {
     "data": {
      "text/plain": [
       "<BarContainer object of 5 artists>"
      ]
     },
     "execution_count": 44,
     "metadata": {},
     "output_type": "execute_result"
    },
    {
     "data": {
      "image/png": "[encoded data removed]",
      "text/plain": [
       "<Figure size 576x576 with 1 Axes>"
      ]
     },
     "metadata": {
      "needs_background": "light"
     },
     "output_type": "display_data"
    }
   ],
   "source": [
    "fig=plt.figure(figsize=(8,8))\n",
    "ax=fig.gca()\n",
    "plt.bar(x=['mean_lda_00','mean_lda_01','mean_lda_02','mean_lda_03','mean_lda_04'],\n",
    "        height=[mean_lda_00,mean_lda_01,mean_lda_02,mean_lda_03,mean_lda_04])"
   ]
  },
  {
   "cell_type": "code",
   "execution_count": 45,
   "metadata": {},
   "outputs": [
    {
     "data": {
      "text/plain": [
       "<matplotlib.axes._subplots.AxesSubplot at 0x7f61a1464c50>"
      ]
     },
     "execution_count": 45,
     "metadata": {},
     "output_type": "execute_result"
    },
    {
     "data": {
      "image/png": "[encoded data removed]",
      "text/plain": [
       "<Figure size 432x288 with 1 Axes>"
      ]
     },
     "metadata": {
      "needs_background": "light"
     },
     "output_type": "display_data"
    }
   ],
   "source": [
    "sns.scatterplot(x=data[' global_subjectivity'],y=data[' shares']) # Subjectivity from 0.0-1.0"
   ]
  },
  {
   "cell_type": "code",
   "execution_count": 46,
   "metadata": {},
   "outputs": [],
   "source": [
    "columns_group_3=[' global_sentiment_polarity', ' global_rate_positive_words',\n",
    "       ' global_rate_negative_words', ' rate_positive_words',\n",
    "       ' rate_negative_words', ' avg_positive_polarity',\n",
    "       ' min_positive_polarity', ' max_positive_polarity',\n",
    "       ' avg_negative_polarity', ' min_negative_polarity',\n",
    "       ' max_negative_polarity', ' title_subjectivity',\n",
    "       ' title_sentiment_polarity', ' abs_title_subjectivity',\n",
    "       ' abs_title_sentiment_polarity', ' shares']"
   ]
  },
  {
   "cell_type": "code",
   "execution_count": 47,
   "metadata": {},
   "outputs": [
    {
     "data": {
      "text/plain": [
       "<matplotlib.axes._subplots.AxesSubplot at 0x7f61a144ce48>"
      ]
     },
     "execution_count": 47,
     "metadata": {},
     "output_type": "execute_result"
    },
    {
     "data": {
      "image/png": "[encoded data removed]",
      "text/plain": [
       "<Figure size 1440x1440 with 2 Axes>"
      ]
     },
     "metadata": {
      "needs_background": "light"
     },
     "output_type": "display_data"
    }
   ],
   "source": [
    "fig, ax = plt.subplots(figsize=(20,20))\n",
    "\n",
    "sns.heatmap(data[columns_group_3].corr(),linewidth=1.0,ax=ax,square=True,annot=True)"
   ]
  },
  {
   "cell_type": "markdown",
   "metadata": {},
   "source": [
    "# 2. Principal Component Analysis"
   ]
  },
  {
   "cell_type": "code",
   "execution_count": 48,
   "metadata": {},
   "outputs": [],
   "source": [
    "from sklearn.decomposition import PCA"
   ]
  },
  {
   "cell_type": "code",
   "execution_count": 49,
   "metadata": {},
   "outputs": [],
   "source": [
    "y= data[' shares']"
   ]
  },
  {
   "cell_type": "code",
   "execution_count": 50,
   "metadata": {},
   "outputs": [],
   "source": [
    "pca_data=data.drop(labels=['url',' shares','date'],axis=1)"
   ]
  },
  {
   "cell_type": "code",
   "execution_count": 51,
   "metadata": {},
   "outputs": [
    {
     "data": {
      "text/html": [
       "<div>\n",
       "<style scoped>\n",
       "    .dataframe tbody tr th:only-of-type {\n",
       "        vertical-align: middle;\n",
       "    }\n",
       "\n",
       "    .dataframe tbody tr th {\n",
       "        vertical-align: top;\n",
       "    }\n",
       "\n",
       "    .dataframe thead th {\n",
       "        text-align: right;\n",
       "    }\n",
       "</style>\n",
       "<table border=\"1\" class=\"dataframe\">\n",
       "  <thead>\n",
       "    <tr style=\"text-align: right;\">\n",
       "      <th></th>\n",
       "      <th>timedelta</th>\n",
       "      <th>n_tokens_title</th>\n",
       "      <th>n_tokens_content</th>\n",
       "      <th>n_unique_tokens</th>\n",
       "      <th>n_non_stop_words</th>\n",
       "      <th>n_non_stop_unique_tokens</th>\n",
       "      <th>num_hrefs</th>\n",
       "      <th>num_self_hrefs</th>\n",
       "      <th>num_imgs</th>\n",
       "      <th>num_videos</th>\n",
       "      <th>...</th>\n",
       "      <th>avg_positive_polarity</th>\n",
       "      <th>min_positive_polarity</th>\n",
       "      <th>max_positive_polarity</th>\n",
       "      <th>avg_negative_polarity</th>\n",
       "      <th>min_negative_polarity</th>\n",
       "      <th>max_negative_polarity</th>\n",
       "      <th>title_subjectivity</th>\n",
       "      <th>title_sentiment_polarity</th>\n",
       "      <th>abs_title_subjectivity</th>\n",
       "      <th>abs_title_sentiment_polarity</th>\n",
       "    </tr>\n",
       "  </thead>\n",
       "  <tbody>\n",
       "    <tr>\n",
       "      <th>0</th>\n",
       "      <td>731.0</td>\n",
       "      <td>12.0</td>\n",
       "      <td>219.0</td>\n",
       "      <td>0.663594</td>\n",
       "      <td>1.0</td>\n",
       "      <td>0.815385</td>\n",
       "      <td>4.0</td>\n",
       "      <td>2.0</td>\n",
       "      <td>1.0</td>\n",
       "      <td>0.0</td>\n",
       "      <td>...</td>\n",
       "      <td>0.378636</td>\n",
       "      <td>0.100000</td>\n",
       "      <td>0.7</td>\n",
       "      <td>-0.350000</td>\n",
       "      <td>-0.600</td>\n",
       "      <td>-0.200000</td>\n",
       "      <td>0.500000</td>\n",
       "      <td>-0.187500</td>\n",
       "      <td>0.000000</td>\n",
       "      <td>0.187500</td>\n",
       "    </tr>\n",
       "    <tr>\n",
       "      <th>1</th>\n",
       "      <td>731.0</td>\n",
       "      <td>9.0</td>\n",
       "      <td>255.0</td>\n",
       "      <td>0.604743</td>\n",
       "      <td>1.0</td>\n",
       "      <td>0.791946</td>\n",
       "      <td>3.0</td>\n",
       "      <td>1.0</td>\n",
       "      <td>1.0</td>\n",
       "      <td>0.0</td>\n",
       "      <td>...</td>\n",
       "      <td>0.286915</td>\n",
       "      <td>0.033333</td>\n",
       "      <td>0.7</td>\n",
       "      <td>-0.118750</td>\n",
       "      <td>-0.125</td>\n",
       "      <td>-0.100000</td>\n",
       "      <td>0.000000</td>\n",
       "      <td>0.000000</td>\n",
       "      <td>0.500000</td>\n",
       "      <td>0.000000</td>\n",
       "    </tr>\n",
       "    <tr>\n",
       "      <th>2</th>\n",
       "      <td>731.0</td>\n",
       "      <td>9.0</td>\n",
       "      <td>211.0</td>\n",
       "      <td>0.575130</td>\n",
       "      <td>1.0</td>\n",
       "      <td>0.663866</td>\n",
       "      <td>3.0</td>\n",
       "      <td>1.0</td>\n",
       "      <td>1.0</td>\n",
       "      <td>0.0</td>\n",
       "      <td>...</td>\n",
       "      <td>0.495833</td>\n",
       "      <td>0.100000</td>\n",
       "      <td>1.0</td>\n",
       "      <td>-0.466667</td>\n",
       "      <td>-0.800</td>\n",
       "      <td>-0.133333</td>\n",
       "      <td>0.000000</td>\n",
       "      <td>0.000000</td>\n",
       "      <td>0.500000</td>\n",
       "      <td>0.000000</td>\n",
       "    </tr>\n",
       "    <tr>\n",
       "      <th>3</th>\n",
       "      <td>731.0</td>\n",
       "      <td>9.0</td>\n",
       "      <td>531.0</td>\n",
       "      <td>0.503788</td>\n",
       "      <td>1.0</td>\n",
       "      <td>0.665635</td>\n",
       "      <td>9.0</td>\n",
       "      <td>0.0</td>\n",
       "      <td>1.0</td>\n",
       "      <td>0.0</td>\n",
       "      <td>...</td>\n",
       "      <td>0.385965</td>\n",
       "      <td>0.136364</td>\n",
       "      <td>0.8</td>\n",
       "      <td>-0.369697</td>\n",
       "      <td>-0.600</td>\n",
       "      <td>-0.166667</td>\n",
       "      <td>0.000000</td>\n",
       "      <td>0.000000</td>\n",
       "      <td>0.500000</td>\n",
       "      <td>0.000000</td>\n",
       "    </tr>\n",
       "    <tr>\n",
       "      <th>4</th>\n",
       "      <td>731.0</td>\n",
       "      <td>13.0</td>\n",
       "      <td>1072.0</td>\n",
       "      <td>0.415646</td>\n",
       "      <td>1.0</td>\n",
       "      <td>0.540890</td>\n",
       "      <td>19.0</td>\n",
       "      <td>19.0</td>\n",
       "      <td>20.0</td>\n",
       "      <td>0.0</td>\n",
       "      <td>...</td>\n",
       "      <td>0.411127</td>\n",
       "      <td>0.033333</td>\n",
       "      <td>1.0</td>\n",
       "      <td>-0.220192</td>\n",
       "      <td>-0.500</td>\n",
       "      <td>-0.050000</td>\n",
       "      <td>0.454545</td>\n",
       "      <td>0.136364</td>\n",
       "      <td>0.045455</td>\n",
       "      <td>0.136364</td>\n",
       "    </tr>\n",
       "  </tbody>\n",
       "</table>\n",
       "<p>5 rows × 59 columns</p>\n",
       "</div>"
      ],
      "text/plain": [
       "    timedelta   n_tokens_title   n_tokens_content   n_unique_tokens  \\\n",
       "0       731.0             12.0              219.0          0.663594   \n",
       "1       731.0              9.0              255.0          0.604743   \n",
       "2       731.0              9.0              211.0          0.575130   \n",
       "3       731.0              9.0              531.0          0.503788   \n",
       "4       731.0             13.0             1072.0          0.415646   \n",
       "\n",
       "    n_non_stop_words   n_non_stop_unique_tokens   num_hrefs   num_self_hrefs  \\\n",
       "0                1.0                   0.815385         4.0              2.0   \n",
       "1                1.0                   0.791946         3.0              1.0   \n",
       "2                1.0                   0.663866         3.0              1.0   \n",
       "3                1.0                   0.665635         9.0              0.0   \n",
       "4                1.0                   0.540890        19.0             19.0   \n",
       "\n",
       "    num_imgs   num_videos  ...   avg_positive_polarity  \\\n",
       "0        1.0          0.0  ...                0.378636   \n",
       "1        1.0          0.0  ...                0.286915   \n",
       "2        1.0          0.0  ...                0.495833   \n",
       "3        1.0          0.0  ...                0.385965   \n",
       "4       20.0          0.0  ...                0.411127   \n",
       "\n",
       "    min_positive_polarity   max_positive_polarity   avg_negative_polarity  \\\n",
       "0                0.100000                     0.7               -0.350000   \n",
       "1                0.033333                     0.7               -0.118750   \n",
       "2                0.100000                     1.0               -0.466667   \n",
       "3                0.136364                     0.8               -0.369697   \n",
       "4                0.033333                     1.0               -0.220192   \n",
       "\n",
       "    min_negative_polarity   max_negative_polarity   title_subjectivity  \\\n",
       "0                  -0.600               -0.200000             0.500000   \n",
       "1                  -0.125               -0.100000             0.000000   \n",
       "2                  -0.800               -0.133333             0.000000   \n",
       "3                  -0.600               -0.166667             0.000000   \n",
       "4                  -0.500               -0.050000             0.454545   \n",
       "\n",
       "    title_sentiment_polarity   abs_title_subjectivity  \\\n",
       "0                  -0.187500                 0.000000   \n",
       "1                   0.000000                 0.500000   \n",
       "2                   0.000000                 0.500000   \n",
       "3                   0.000000                 0.500000   \n",
       "4                   0.136364                 0.045455   \n",
       "\n",
       "    abs_title_sentiment_polarity  \n",
       "0                       0.187500  \n",
       "1                       0.000000  \n",
       "2                       0.000000  \n",
       "3                       0.000000  \n",
       "4                       0.136364  \n",
       "\n",
       "[5 rows x 59 columns]"
      ]
     },
     "execution_count": 51,
     "metadata": {},
     "output_type": "execute_result"
    }
   ],
   "source": [
    "pca_data.head()"
   ]
  },
  {
   "cell_type": "code",
   "execution_count": 52,
   "metadata": {},
   "outputs": [],
   "source": [
    "from sklearn.preprocessing import StandardScaler\n",
    "scaler= StandardScaler()\n",
    "data_transformed= scaler.fit_transform(pca_data)"
   ]
  },
  {
   "cell_type": "code",
   "execution_count": 53,
   "metadata": {},
   "outputs": [],
   "source": [
    "pca=PCA()\n",
    "principal_comp=pd.DataFrame(pca.fit_transform(pca_data))"
   ]
  },
  {
   "cell_type": "code",
   "execution_count": 54,
   "metadata": {},
   "outputs": [
    {
     "data": {
      "text/html": [
       "<div>\n",
       "<style scoped>\n",
       "    .dataframe tbody tr th:only-of-type {\n",
       "        vertical-align: middle;\n",
       "    }\n",
       "\n",
       "    .dataframe tbody tr th {\n",
       "        vertical-align: top;\n",
       "    }\n",
       "\n",
       "    .dataframe thead th {\n",
       "        text-align: right;\n",
       "    }\n",
       "</style>\n",
       "<table border=\"1\" class=\"dataframe\">\n",
       "  <thead>\n",
       "    <tr style=\"text-align: right;\">\n",
       "      <th></th>\n",
       "      <th>0</th>\n",
       "      <th>1</th>\n",
       "      <th>2</th>\n",
       "      <th>3</th>\n",
       "      <th>4</th>\n",
       "      <th>5</th>\n",
       "      <th>6</th>\n",
       "      <th>7</th>\n",
       "      <th>8</th>\n",
       "      <th>9</th>\n",
       "      <th>...</th>\n",
       "      <th>49</th>\n",
       "      <th>50</th>\n",
       "      <th>51</th>\n",
       "      <th>52</th>\n",
       "      <th>53</th>\n",
       "      <th>54</th>\n",
       "      <th>55</th>\n",
       "      <th>56</th>\n",
       "      <th>57</th>\n",
       "      <th>58</th>\n",
       "    </tr>\n",
       "  </thead>\n",
       "  <tbody>\n",
       "    <tr>\n",
       "      <th>0</th>\n",
       "      <td>791021.495428</td>\n",
       "      <td>83404.305658</td>\n",
       "      <td>-4678.168676</td>\n",
       "      <td>-5776.270379</td>\n",
       "      <td>-144.076118</td>\n",
       "      <td>-4092.341275</td>\n",
       "      <td>-102.275303</td>\n",
       "      <td>650.736809</td>\n",
       "      <td>1038.849780</td>\n",
       "      <td>936.544594</td>\n",
       "      <td>...</td>\n",
       "      <td>0.005491</td>\n",
       "      <td>-0.009271</td>\n",
       "      <td>0.005382</td>\n",
       "      <td>0.052455</td>\n",
       "      <td>0.011097</td>\n",
       "      <td>-0.002560</td>\n",
       "      <td>-0.003052</td>\n",
       "      <td>-4.487488e-07</td>\n",
       "      <td>7.007984e-11</td>\n",
       "      <td>1.644919e-10</td>\n",
       "    </tr>\n",
       "    <tr>\n",
       "      <th>1</th>\n",
       "      <td>791031.717685</td>\n",
       "      <td>83378.123283</td>\n",
       "      <td>-4483.142243</td>\n",
       "      <td>-6536.584976</td>\n",
       "      <td>-491.641366</td>\n",
       "      <td>-4081.641056</td>\n",
       "      <td>-117.560039</td>\n",
       "      <td>647.114347</td>\n",
       "      <td>1038.175264</td>\n",
       "      <td>952.836909</td>\n",
       "      <td>...</td>\n",
       "      <td>-0.040361</td>\n",
       "      <td>-0.007435</td>\n",
       "      <td>-0.004695</td>\n",
       "      <td>-0.016577</td>\n",
       "      <td>0.024048</td>\n",
       "      <td>0.002821</td>\n",
       "      <td>0.002272</td>\n",
       "      <td>-1.313122e-06</td>\n",
       "      <td>-1.169854e-10</td>\n",
       "      <td>-8.244335e-11</td>\n",
       "    </tr>\n",
       "    <tr>\n",
       "      <th>2</th>\n",
       "      <td>791012.797033</td>\n",
       "      <td>83426.566435</td>\n",
       "      <td>-4844.084574</td>\n",
       "      <td>-5129.380620</td>\n",
       "      <td>151.599427</td>\n",
       "      <td>-4101.483712</td>\n",
       "      <td>-89.155679</td>\n",
       "      <td>653.873676</td>\n",
       "      <td>1039.316305</td>\n",
       "      <td>933.230955</td>\n",
       "      <td>...</td>\n",
       "      <td>-0.050266</td>\n",
       "      <td>0.037994</td>\n",
       "      <td>0.067029</td>\n",
       "      <td>-0.045597</td>\n",
       "      <td>-0.040833</td>\n",
       "      <td>-0.015745</td>\n",
       "      <td>0.000572</td>\n",
       "      <td>6.488661e-07</td>\n",
       "      <td>1.939724e-10</td>\n",
       "      <td>-8.838428e-11</td>\n",
       "    </tr>\n",
       "    <tr>\n",
       "      <th>3</th>\n",
       "      <td>791031.702526</td>\n",
       "      <td>83377.935742</td>\n",
       "      <td>-4482.973401</td>\n",
       "      <td>-6536.472238</td>\n",
       "      <td>-492.072895</td>\n",
       "      <td>-4082.110141</td>\n",
       "      <td>-116.145104</td>\n",
       "      <td>647.777587</td>\n",
       "      <td>1036.835804</td>\n",
       "      <td>1081.576060</td>\n",
       "      <td>...</td>\n",
       "      <td>0.031495</td>\n",
       "      <td>0.020979</td>\n",
       "      <td>-0.029307</td>\n",
       "      <td>-0.020405</td>\n",
       "      <td>0.002897</td>\n",
       "      <td>0.005661</td>\n",
       "      <td>0.000900</td>\n",
       "      <td>6.731578e-07</td>\n",
       "      <td>-4.395995e-11</td>\n",
       "      <td>-2.689508e-12</td>\n",
       "    </tr>\n",
       "    <tr>\n",
       "      <th>4</th>\n",
       "      <td>790836.088810</td>\n",
       "      <td>83897.886679</td>\n",
       "      <td>-8235.468719</td>\n",
       "      <td>7996.887885</td>\n",
       "      <td>-6443.340052</td>\n",
       "      <td>-4532.560234</td>\n",
       "      <td>2124.075318</td>\n",
       "      <td>724.081334</td>\n",
       "      <td>1037.112774</td>\n",
       "      <td>1321.347730</td>\n",
       "      <td>...</td>\n",
       "      <td>-0.064586</td>\n",
       "      <td>0.010790</td>\n",
       "      <td>0.042097</td>\n",
       "      <td>-0.015292</td>\n",
       "      <td>0.000365</td>\n",
       "      <td>0.013418</td>\n",
       "      <td>-0.004283</td>\n",
       "      <td>-6.134374e-07</td>\n",
       "      <td>-6.427848e-11</td>\n",
       "      <td>1.094328e-10</td>\n",
       "    </tr>\n",
       "  </tbody>\n",
       "</table>\n",
       "<p>5 rows × 59 columns</p>\n",
       "</div>"
      ],
      "text/plain": [
       "              0             1            2            3            4   \\\n",
       "0  791021.495428  83404.305658 -4678.168676 -5776.270379  -144.076118   \n",
       "1  791031.717685  83378.123283 -4483.142243 -6536.584976  -491.641366   \n",
       "2  791012.797033  83426.566435 -4844.084574 -5129.380620   151.599427   \n",
       "3  791031.702526  83377.935742 -4482.973401 -6536.472238  -492.072895   \n",
       "4  790836.088810  83897.886679 -8235.468719  7996.887885 -6443.340052   \n",
       "\n",
       "            5            6           7            8            9   ...  \\\n",
       "0 -4092.341275  -102.275303  650.736809  1038.849780   936.544594  ...   \n",
       "1 -4081.641056  -117.560039  647.114347  1038.175264   952.836909  ...   \n",
       "2 -4101.483712   -89.155679  653.873676  1039.316305   933.230955  ...   \n",
       "3 -4082.110141  -116.145104  647.777587  1036.835804  1081.576060  ...   \n",
       "4 -4532.560234  2124.075318  724.081334  1037.112774  1321.347730  ...   \n",
       "\n",
       "         49        50        51        52        53        54        55  \\\n",
       "0  0.005491 -0.009271  0.005382  0.052455  0.011097 -0.002560 -0.003052   \n",
       "1 -0.040361 -0.007435 -0.004695 -0.016577  0.024048  0.002821  0.002272   \n",
       "2 -0.050266  0.037994  0.067029 -0.045597 -0.040833 -0.015745  0.000572   \n",
       "3  0.031495  0.020979 -0.029307 -0.020405  0.002897  0.005661  0.000900   \n",
       "4 -0.064586  0.010790  0.042097 -0.015292  0.000365  0.013418 -0.004283   \n",
       "\n",
       "             56            57            58  \n",
       "0 -4.487488e-07  7.007984e-11  1.644919e-10  \n",
       "1 -1.313122e-06 -1.169854e-10 -8.244335e-11  \n",
       "2  6.488661e-07  1.939724e-10 -8.838428e-11  \n",
       "3  6.731578e-07 -4.395995e-11 -2.689508e-12  \n",
       "4 -6.134374e-07 -6.427848e-11  1.094328e-10  \n",
       "\n",
       "[5 rows x 59 columns]"
      ]
     },
     "execution_count": 54,
     "metadata": {},
     "output_type": "execute_result"
    }
   ],
   "source": [
    "principal_comp.head()"
   ]
  },
  {
   "cell_type": "code",
   "execution_count": 55,
   "metadata": {},
   "outputs": [
    {
     "data": {
      "text/plain": [
       "array([7.63976554e-01, 1.63195754e-01, 3.52492986e-02, 3.17219496e-02,\n",
       "       4.84094167e-03, 6.01627888e-04, 2.77247942e-04, 1.12639413e-04,\n",
       "       1.67201215e-05, 3.46046463e-06, 2.90853352e-06, 5.28805716e-07,\n",
       "       3.47409938e-07, 1.79607444e-08, 1.46381115e-09, 7.59014860e-10,\n",
       "       7.15471984e-10, 2.16898393e-10, 1.59100963e-10, 5.90130965e-11,\n",
       "       3.75327159e-11, 9.35781288e-12, 3.59951878e-12, 3.15248023e-12,\n",
       "       2.73366160e-12, 2.65784910e-12, 2.63119067e-12, 2.60477714e-12,\n",
       "       2.42879948e-12, 2.16956337e-12, 2.11278768e-12, 1.19290115e-12,\n",
       "       1.02603041e-12, 9.27831512e-13, 8.52270783e-13, 7.96517257e-13,\n",
       "       7.72828491e-13, 6.49858477e-13, 3.80464247e-13, 3.66363498e-13,\n",
       "       3.44065381e-13, 3.24521033e-13, 2.71216098e-13, 2.30916328e-13,\n",
       "       1.49117430e-13, 1.12166411e-13, 8.07278714e-14, 6.68598282e-14,\n",
       "       6.29388154e-14, 3.26726283e-14, 2.16222079e-14, 1.79645290e-14,\n",
       "       1.20365051e-14, 6.66033423e-15, 1.89505378e-15, 2.20213457e-16,\n",
       "       2.55131059e-22, 4.32568607e-33, 4.32568607e-33])"
      ]
     },
     "execution_count": 55,
     "metadata": {},
     "output_type": "execute_result"
    }
   ],
   "source": [
    "pca.explained_variance_ratio_"
   ]
  },
  {
   "cell_type": "markdown",
   "metadata": {},
   "source": [
    "# 3. Model Selection:"
   ]
  },
  {
   "cell_type": "markdown",
   "metadata": {},
   "source": [
    "# 3(a).Random Forest Regressor"
   ]
  },
  {
   "cell_type": "code",
   "execution_count": 56,
   "metadata": {},
   "outputs": [],
   "source": [
    "from sklearn.ensemble import RandomForestRegressor\n",
    "from sklearn.model_selection import train_test_split\n",
    "from sklearn.model_selection import RandomizedSearchCV"
   ]
  },
  {
   "cell_type": "code",
   "execution_count": 57,
   "metadata": {},
   "outputs": [],
   "source": [
    "test_size=0.2\n",
    "X_train, X_test, y_train, y_test = train_test_split(pca_data, y,  \n",
    "    test_size=test_size,random_state=23)"
   ]
  },
  {
   "cell_type": "code",
   "execution_count": 58,
   "metadata": {},
   "outputs": [],
   "source": [
    "\n",
    "param_grid= {'n_estimators':[20,40],\n",
    "            'max_depth':[10,20],\n",
    "             'max_features':['auto',10,20],\n",
    "             'bootstrap':[True,False],             \n",
    "            }\n",
    "\n",
    "## Initial result gave both extreme values as best parameters so run again by increasing limit"
   ]
  },
  {
   "cell_type": "code",
   "execution_count": 59,
   "metadata": {},
   "outputs": [
    {
     "name": "stdout",
     "output_type": "stream",
     "text": [
      "Fitting 5 folds for each of 10 candidates, totalling 50 fits\n"
     ]
    },
    {
     "name": "stderr",
     "output_type": "stream",
     "text": [
      "[Parallel(n_jobs=-1)]: Using backend LokyBackend with 4 concurrent workers.\n",
      "[Parallel(n_jobs=-1)]: Done  42 tasks      | elapsed:  3.2min\n",
      "[Parallel(n_jobs=-1)]: Done  50 out of  50 | elapsed:  4.1min finished\n"
     ]
    }
   ],
   "source": [
    "random_search= RandomizedSearchCV(RandomForestRegressor(),param_distributions=param_grid,\n",
    "                                  cv=5,scoring='neg_mean_absolute_error',\n",
    "                         verbose=1,n_jobs=-1)\n",
    "randomsearch_result=random_search.fit(X_train,y_train)\n",
    "best_paramters= randomsearch_result.best_params_"
   ]
  },
  {
   "cell_type": "code",
   "execution_count": 60,
   "metadata": {},
   "outputs": [
    {
     "data": {
      "text/html": [
       "<div>\n",
       "<style scoped>\n",
       "    .dataframe tbody tr th:only-of-type {\n",
       "        vertical-align: middle;\n",
       "    }\n",
       "\n",
       "    .dataframe tbody tr th {\n",
       "        vertical-align: top;\n",
       "    }\n",
       "\n",
       "    .dataframe thead th {\n",
       "        text-align: right;\n",
       "    }\n",
       "</style>\n",
       "<table border=\"1\" class=\"dataframe\">\n",
       "  <thead>\n",
       "    <tr style=\"text-align: right;\">\n",
       "      <th></th>\n",
       "      <th>mean_fit_time</th>\n",
       "      <th>std_fit_time</th>\n",
       "      <th>mean_score_time</th>\n",
       "      <th>std_score_time</th>\n",
       "      <th>param_n_estimators</th>\n",
       "      <th>param_max_features</th>\n",
       "      <th>param_max_depth</th>\n",
       "      <th>param_bootstrap</th>\n",
       "      <th>params</th>\n",
       "      <th>split0_test_score</th>\n",
       "      <th>split1_test_score</th>\n",
       "      <th>split2_test_score</th>\n",
       "      <th>split3_test_score</th>\n",
       "      <th>split4_test_score</th>\n",
       "      <th>mean_test_score</th>\n",
       "      <th>std_test_score</th>\n",
       "      <th>rank_test_score</th>\n",
       "    </tr>\n",
       "  </thead>\n",
       "  <tbody>\n",
       "    <tr>\n",
       "      <th>6</th>\n",
       "      <td>5.815596</td>\n",
       "      <td>0.092147</td>\n",
       "      <td>0.039396</td>\n",
       "      <td>0.001053</td>\n",
       "      <td>40</td>\n",
       "      <td>10</td>\n",
       "      <td>10</td>\n",
       "      <td>True</td>\n",
       "      <td>{'n_estimators': 40, 'max_features': 10, 'max_...</td>\n",
       "      <td>-1935.776324</td>\n",
       "      <td>-1944.238832</td>\n",
       "      <td>-1874.096747</td>\n",
       "      <td>-1896.424904</td>\n",
       "      <td>-1911.582520</td>\n",
       "      <td>-1912.423865</td>\n",
       "      <td>25.624879</td>\n",
       "      <td>1</td>\n",
       "    </tr>\n",
       "    <tr>\n",
       "      <th>7</th>\n",
       "      <td>8.492078</td>\n",
       "      <td>0.123533</td>\n",
       "      <td>0.040710</td>\n",
       "      <td>0.000337</td>\n",
       "      <td>40</td>\n",
       "      <td>10</td>\n",
       "      <td>10</td>\n",
       "      <td>False</td>\n",
       "      <td>{'n_estimators': 40, 'max_features': 10, 'max_...</td>\n",
       "      <td>-1943.233885</td>\n",
       "      <td>-1940.827379</td>\n",
       "      <td>-1881.034535</td>\n",
       "      <td>-1904.243480</td>\n",
       "      <td>-1915.222470</td>\n",
       "      <td>-1916.912350</td>\n",
       "      <td>23.303757</td>\n",
       "      <td>2</td>\n",
       "    </tr>\n",
       "    <tr>\n",
       "      <th>5</th>\n",
       "      <td>5.653952</td>\n",
       "      <td>0.172501</td>\n",
       "      <td>0.021401</td>\n",
       "      <td>0.000349</td>\n",
       "      <td>20</td>\n",
       "      <td>20</td>\n",
       "      <td>10</td>\n",
       "      <td>True</td>\n",
       "      <td>{'n_estimators': 20, 'max_features': 20, 'max_...</td>\n",
       "      <td>-1947.247671</td>\n",
       "      <td>-1950.848381</td>\n",
       "      <td>-1883.624260</td>\n",
       "      <td>-1895.345200</td>\n",
       "      <td>-1925.781395</td>\n",
       "      <td>-1920.569381</td>\n",
       "      <td>27.044095</td>\n",
       "      <td>3</td>\n",
       "    </tr>\n",
       "    <tr>\n",
       "      <th>4</th>\n",
       "      <td>16.142001</td>\n",
       "      <td>0.473542</td>\n",
       "      <td>0.100243</td>\n",
       "      <td>0.003762</td>\n",
       "      <td>40</td>\n",
       "      <td>10</td>\n",
       "      <td>20</td>\n",
       "      <td>False</td>\n",
       "      <td>{'n_estimators': 40, 'max_features': 10, 'max_...</td>\n",
       "      <td>-2001.826895</td>\n",
       "      <td>-2007.926716</td>\n",
       "      <td>-1960.648320</td>\n",
       "      <td>-1976.010983</td>\n",
       "      <td>-1984.680212</td>\n",
       "      <td>-1986.218625</td>\n",
       "      <td>17.177092</td>\n",
       "      <td>4</td>\n",
       "    </tr>\n",
       "    <tr>\n",
       "      <th>1</th>\n",
       "      <td>22.648995</td>\n",
       "      <td>3.720015</td>\n",
       "      <td>0.117054</td>\n",
       "      <td>0.044595</td>\n",
       "      <td>40</td>\n",
       "      <td>20</td>\n",
       "      <td>20</td>\n",
       "      <td>True</td>\n",
       "      <td>{'n_estimators': 40, 'max_features': 20, 'max_...</td>\n",
       "      <td>-2006.064531</td>\n",
       "      <td>-2035.079426</td>\n",
       "      <td>-1970.848304</td>\n",
       "      <td>-1995.995794</td>\n",
       "      <td>-2001.658634</td>\n",
       "      <td>-2001.929338</td>\n",
       "      <td>20.578334</td>\n",
       "      <td>5</td>\n",
       "    </tr>\n",
       "    <tr>\n",
       "      <th>9</th>\n",
       "      <td>29.496117</td>\n",
       "      <td>3.190066</td>\n",
       "      <td>0.087300</td>\n",
       "      <td>0.007276</td>\n",
       "      <td>40</td>\n",
       "      <td>20</td>\n",
       "      <td>20</td>\n",
       "      <td>False</td>\n",
       "      <td>{'n_estimators': 40, 'max_features': 20, 'max_...</td>\n",
       "      <td>-2012.516283</td>\n",
       "      <td>-2036.879998</td>\n",
       "      <td>-1972.687616</td>\n",
       "      <td>-2004.262539</td>\n",
       "      <td>-1992.368317</td>\n",
       "      <td>-2003.742951</td>\n",
       "      <td>21.303151</td>\n",
       "      <td>6</td>\n",
       "    </tr>\n",
       "    <tr>\n",
       "      <th>8</th>\n",
       "      <td>7.914309</td>\n",
       "      <td>0.078642</td>\n",
       "      <td>0.051293</td>\n",
       "      <td>0.001305</td>\n",
       "      <td>20</td>\n",
       "      <td>10</td>\n",
       "      <td>20</td>\n",
       "      <td>False</td>\n",
       "      <td>{'n_estimators': 20, 'max_features': 10, 'max_...</td>\n",
       "      <td>-2023.299222</td>\n",
       "      <td>-2019.459058</td>\n",
       "      <td>-2000.653059</td>\n",
       "      <td>-2009.174231</td>\n",
       "      <td>-2004.399242</td>\n",
       "      <td>-2011.396963</td>\n",
       "      <td>8.671808</td>\n",
       "      <td>7</td>\n",
       "    </tr>\n",
       "    <tr>\n",
       "      <th>3</th>\n",
       "      <td>5.120726</td>\n",
       "      <td>0.081363</td>\n",
       "      <td>0.048333</td>\n",
       "      <td>0.001175</td>\n",
       "      <td>20</td>\n",
       "      <td>10</td>\n",
       "      <td>20</td>\n",
       "      <td>True</td>\n",
       "      <td>{'n_estimators': 20, 'max_features': 10, 'max_...</td>\n",
       "      <td>-2033.726267</td>\n",
       "      <td>-2038.803748</td>\n",
       "      <td>-1981.778711</td>\n",
       "      <td>-2005.473339</td>\n",
       "      <td>-2006.246058</td>\n",
       "      <td>-2013.205625</td>\n",
       "      <td>20.843394</td>\n",
       "      <td>8</td>\n",
       "    </tr>\n",
       "    <tr>\n",
       "      <th>2</th>\n",
       "      <td>29.591577</td>\n",
       "      <td>4.818376</td>\n",
       "      <td>0.022726</td>\n",
       "      <td>0.003169</td>\n",
       "      <td>20</td>\n",
       "      <td>auto</td>\n",
       "      <td>10</td>\n",
       "      <td>False</td>\n",
       "      <td>{'n_estimators': 20, 'max_features': 'auto', '...</td>\n",
       "      <td>-2047.925352</td>\n",
       "      <td>-2058.913871</td>\n",
       "      <td>-2010.583281</td>\n",
       "      <td>-2001.062286</td>\n",
       "      <td>-2010.463583</td>\n",
       "      <td>-2025.789675</td>\n",
       "      <td>23.085787</td>\n",
       "      <td>9</td>\n",
       "    </tr>\n",
       "    <tr>\n",
       "      <th>0</th>\n",
       "      <td>51.729282</td>\n",
       "      <td>5.957328</td>\n",
       "      <td>0.039102</td>\n",
       "      <td>0.001109</td>\n",
       "      <td>40</td>\n",
       "      <td>auto</td>\n",
       "      <td>10</td>\n",
       "      <td>False</td>\n",
       "      <td>{'n_estimators': 40, 'max_features': 'auto', '...</td>\n",
       "      <td>-2047.046471</td>\n",
       "      <td>-2061.406103</td>\n",
       "      <td>-2006.126169</td>\n",
       "      <td>-2005.871625</td>\n",
       "      <td>-2014.911924</td>\n",
       "      <td>-2027.072458</td>\n",
       "      <td>22.864214</td>\n",
       "      <td>10</td>\n",
       "    </tr>\n",
       "  </tbody>\n",
       "</table>\n",
       "</div>"
      ],
      "text/plain": [
       "   mean_fit_time  std_fit_time  mean_score_time  std_score_time  \\\n",
       "6       5.815596      0.092147         0.039396        0.001053   \n",
       "7       8.492078      0.123533         0.040710        0.000337   \n",
       "5       5.653952      0.172501         0.021401        0.000349   \n",
       "4      16.142001      0.473542         0.100243        0.003762   \n",
       "1      22.648995      3.720015         0.117054        0.044595   \n",
       "9      29.496117      3.190066         0.087300        0.007276   \n",
       "8       7.914309      0.078642         0.051293        0.001305   \n",
       "3       5.120726      0.081363         0.048333        0.001175   \n",
       "2      29.591577      4.818376         0.022726        0.003169   \n",
       "0      51.729282      5.957328         0.039102        0.001109   \n",
       "\n",
       "  param_n_estimators param_max_features param_max_depth param_bootstrap  \\\n",
       "6                 40                 10              10            True   \n",
       "7                 40                 10              10           False   \n",
       "5                 20                 20              10            True   \n",
       "4                 40                 10              20           False   \n",
       "1                 40                 20              20            True   \n",
       "9                 40                 20              20           False   \n",
       "8                 20                 10              20           False   \n",
       "3                 20                 10              20            True   \n",
       "2                 20               auto              10           False   \n",
       "0                 40               auto              10           False   \n",
       "\n",
       "                                              params  split0_test_score  \\\n",
       "6  {'n_estimators': 40, 'max_features': 10, 'max_...       -1935.776324   \n",
       "7  {'n_estimators': 40, 'max_features': 10, 'max_...       -1943.233885   \n",
       "5  {'n_estimators': 20, 'max_features': 20, 'max_...       -1947.247671   \n",
       "4  {'n_estimators': 40, 'max_features': 10, 'max_...       -2001.826895   \n",
       "1  {'n_estimators': 40, 'max_features': 20, 'max_...       -2006.064531   \n",
       "9  {'n_estimators': 40, 'max_features': 20, 'max_...       -2012.516283   \n",
       "8  {'n_estimators': 20, 'max_features': 10, 'max_...       -2023.299222   \n",
       "3  {'n_estimators': 20, 'max_features': 10, 'max_...       -2033.726267   \n",
       "2  {'n_estimators': 20, 'max_features': 'auto', '...       -2047.925352   \n",
       "0  {'n_estimators': 40, 'max_features': 'auto', '...       -2047.046471   \n",
       "\n",
       "   split1_test_score  split2_test_score  split3_test_score  split4_test_score  \\\n",
       "6       -1944.238832       -1874.096747       -1896.424904       -1911.582520   \n",
       "7       -1940.827379       -1881.034535       -1904.243480       -1915.222470   \n",
       "5       -1950.848381       -1883.624260       -1895.345200       -1925.781395   \n",
       "4       -2007.926716       -1960.648320       -1976.010983       -1984.680212   \n",
       "1       -2035.079426       -1970.848304       -1995.995794       -2001.658634   \n",
       "9       -2036.879998       -1972.687616       -2004.262539       -1992.368317   \n",
       "8       -2019.459058       -2000.653059       -2009.174231       -2004.399242   \n",
       "3       -2038.803748       -1981.778711       -2005.473339       -2006.246058   \n",
       "2       -2058.913871       -2010.583281       -2001.062286       -2010.463583   \n",
       "0       -2061.406103       -2006.126169       -2005.871625       -2014.911924   \n",
       "\n",
       "   mean_test_score  std_test_score  rank_test_score  \n",
       "6     -1912.423865       25.624879                1  \n",
       "7     -1916.912350       23.303757                2  \n",
       "5     -1920.569381       27.044095                3  \n",
       "4     -1986.218625       17.177092                4  \n",
       "1     -2001.929338       20.578334                5  \n",
       "9     -2003.742951       21.303151                6  \n",
       "8     -2011.396963        8.671808                7  \n",
       "3     -2013.205625       20.843394                8  \n",
       "2     -2025.789675       23.085787                9  \n",
       "0     -2027.072458       22.864214               10  "
      ]
     },
     "execution_count": 60,
     "metadata": {},
     "output_type": "execute_result"
    }
   ],
   "source": [
    "pd.DataFrame(randomsearch_result.cv_results_).sort_values('mean_test_score',ascending=False)"
   ]
  },
  {
   "cell_type": "code",
   "execution_count": 61,
   "metadata": {},
   "outputs": [
    {
     "data": {
      "text/plain": [
       "{'n_estimators': 40, 'max_features': 10, 'max_depth': 10, 'bootstrap': True}"
      ]
     },
     "execution_count": 61,
     "metadata": {},
     "output_type": "execute_result"
    }
   ],
   "source": [
    "best_paramters"
   ]
  },
  {
   "cell_type": "code",
   "execution_count": 62,
   "metadata": {},
   "outputs": [],
   "source": [
    "from sklearn.model_selection import cross_val_score\n",
    "rf=RandomForestRegressor(n_estimators=40,max_depth=10,max_features=10)\n",
    "scores=cross_val_score(rf,X_train,y_train,scoring='neg_mean_absolute_error',cv=5)"
   ]
  },
  {
   "cell_type": "code",
   "execution_count": 63,
   "metadata": {},
   "outputs": [],
   "source": [
    "absolute_scores= -scores.mean()"
   ]
  },
  {
   "cell_type": "code",
   "execution_count": 64,
   "metadata": {},
   "outputs": [],
   "source": [
    "## def display_scores(score):\n",
    "   ## print(\"Mean:\", score.mean())\n",
    "   ## print(\"Standard deviation:\", score.std())"
   ]
  },
  {
   "cell_type": "code",
   "execution_count": 65,
   "metadata": {},
   "outputs": [
    {
     "data": {
      "text/plain": [
       "RandomForestRegressor(bootstrap=True, ccp_alpha=0.0, criterion='mse',\n",
       "                      max_depth=10, max_features=10, max_leaf_nodes=None,\n",
       "                      max_samples=None, min_impurity_decrease=0.0,\n",
       "                      min_impurity_split=None, min_samples_leaf=1,\n",
       "                      min_samples_split=2, min_weight_fraction_leaf=0.0,\n",
       "                      n_estimators=40, n_jobs=None, oob_score=False,\n",
       "                      random_state=None, verbose=0, warm_start=False)"
      ]
     },
     "execution_count": 65,
     "metadata": {},
     "output_type": "execute_result"
    }
   ],
   "source": [
    "rf.fit(X_train,y_train)"
   ]
  },
  {
   "cell_type": "code",
   "execution_count": 66,
   "metadata": {},
   "outputs": [],
   "source": [
    "from sklearn.metrics import mean_absolute_error\n",
    "y_pred=rf.predict(X_test)\n",
    "test_score=mean_absolute_error(y_test,y_pred)"
   ]
  },
  {
   "cell_type": "code",
   "execution_count": 67,
   "metadata": {},
   "outputs": [
    {
     "data": {
      "text/plain": [
       "1944.3565517258612"
      ]
     },
     "execution_count": 67,
     "metadata": {},
     "output_type": "execute_result"
    }
   ],
   "source": [
    "test_score"
   ]
  },
  {
   "cell_type": "code",
   "execution_count": 68,
   "metadata": {},
   "outputs": [
    {
     "data": {
      "text/html": [
       "<div>\n",
       "<style scoped>\n",
       "    .dataframe tbody tr th:only-of-type {\n",
       "        vertical-align: middle;\n",
       "    }\n",
       "\n",
       "    .dataframe tbody tr th {\n",
       "        vertical-align: top;\n",
       "    }\n",
       "\n",
       "    .dataframe thead th {\n",
       "        text-align: right;\n",
       "    }\n",
       "</style>\n",
       "<table border=\"1\" class=\"dataframe\">\n",
       "  <thead>\n",
       "    <tr style=\"text-align: right;\">\n",
       "      <th></th>\n",
       "      <th>actual_train_mae_score</th>\n",
       "      <th>actual_test_mae_score</th>\n",
       "    </tr>\n",
       "  </thead>\n",
       "  <tbody>\n",
       "    <tr>\n",
       "      <th>Mean</th>\n",
       "      <td>1917.978131</td>\n",
       "      <td>1944.356552</td>\n",
       "    </tr>\n",
       "  </tbody>\n",
       "</table>\n",
       "</div>"
      ],
      "text/plain": [
       "      actual_train_mae_score  actual_test_mae_score\n",
       "Mean             1917.978131            1944.356552"
      ]
     },
     "execution_count": 68,
     "metadata": {},
     "output_type": "execute_result"
    }
   ],
   "source": [
    "pd.DataFrame({'actual_train_mae_score':absolute_scores,\n",
    "             'actual_test_mae_score':test_score},index=['Mean'])\n",
    "\n",
    "### reversing the normalizing of target variable"
   ]
  },
  {
   "cell_type": "code",
   "execution_count": 69,
   "metadata": {},
   "outputs": [],
   "source": [
    "df=pd.DataFrame(rf.feature_importances_,pca_data.columns).reset_index()"
   ]
  },
  {
   "cell_type": "code",
   "execution_count": 70,
   "metadata": {},
   "outputs": [],
   "source": [
    "df.columns=['variables','score']"
   ]
  },
  {
   "cell_type": "code",
   "execution_count": 156,
   "metadata": {},
   "outputs": [],
   "source": [
    "sorted_df=df.sort_values('score',ascending=False)"
   ]
  },
  {
   "cell_type": "code",
   "execution_count": 158,
   "metadata": {},
   "outputs": [],
   "source": [
    "important_variables=sorted_df.iloc[1:15,:]"
   ]
  },
  {
   "cell_type": "code",
   "execution_count": 162,
   "metadata": {},
   "outputs": [
    {
     "data": {
      "image/png": "[encoded data removed]",
      "text/plain": [
       "<Figure size 1080x1080 with 1 Axes>"
      ]
     },
     "metadata": {
      "needs_background": "light"
     },
     "output_type": "display_data"
    }
   ],
   "source": [
    "fig=plt.figure(figsize=(15,15))\n",
    "ax=fig.gca()\n",
    "plt.bar(x=important_variables.variables,height=important_variables.score,color='r')\n",
    "plt.xticks(rotation=90)\n",
    "plt.show()"
   ]
  },
  {
   "cell_type": "markdown",
   "metadata": {},
   "source": [
    "# 3(b).   RandomForest.PCA__"
   ]
  },
  {
   "cell_type": "code",
   "execution_count": 73,
   "metadata": {},
   "outputs": [],
   "source": [
    "pca_final_data=principal_comp[[0,1]]"
   ]
  },
  {
   "cell_type": "code",
   "execution_count": 74,
   "metadata": {},
   "outputs": [],
   "source": [
    "X_train_pca,X_test_pca,y_train_pca,y_test_pca=train_test_split(pca_final_data,y,test_size=0.2,random_state=23)"
   ]
  },
  {
   "cell_type": "code",
   "execution_count": 75,
   "metadata": {},
   "outputs": [],
   "source": [
    "param_grid_pca= {'n_estimators':[20,40],\n",
    "            'max_depth':[10,20],\n",
    "             'bootstrap':[True,False],             \n",
    "            }"
   ]
  },
  {
   "cell_type": "code",
   "execution_count": 76,
   "metadata": {},
   "outputs": [
    {
     "name": "stderr",
     "output_type": "stream",
     "text": [
      "/opt/conda/lib/python3.6/site-packages/sklearn/model_selection/_search.py:281: UserWarning: The total space of parameters 8 is smaller than n_iter=10. Running 8 iterations. For exhaustive searches, use GridSearchCV.\n",
      "  % (grid_size, self.n_iter, grid_size), UserWarning)\n",
      "[Parallel(n_jobs=-1)]: Using backend LokyBackend with 4 concurrent workers.\n"
     ]
    },
    {
     "name": "stdout",
     "output_type": "stream",
     "text": [
      "Fitting 5 folds for each of 8 candidates, totalling 40 fits\n"
     ]
    },
    {
     "name": "stderr",
     "output_type": "stream",
     "text": [
      "[Parallel(n_jobs=-1)]: Done  40 out of  40 | elapsed:   33.6s finished\n"
     ]
    }
   ],
   "source": [
    "random_search_pca= RandomizedSearchCV(RandomForestRegressor(),param_distributions=param_grid_pca,\n",
    "                                  cv=5,scoring='neg_mean_absolute_error',\n",
    "                                  verbose=1,n_jobs=-1)\n",
    "randomsearch_result_pca=random_search_pca.fit(X_train_pca,y_train_pca)\n",
    "best_paramters_pca= randomsearch_result_pca.best_params_"
   ]
  },
  {
   "cell_type": "code",
   "execution_count": 77,
   "metadata": {},
   "outputs": [
    {
     "data": {
      "text/html": [
       "<div>\n",
       "<style scoped>\n",
       "    .dataframe tbody tr th:only-of-type {\n",
       "        vertical-align: middle;\n",
       "    }\n",
       "\n",
       "    .dataframe tbody tr th {\n",
       "        vertical-align: top;\n",
       "    }\n",
       "\n",
       "    .dataframe thead th {\n",
       "        text-align: right;\n",
       "    }\n",
       "</style>\n",
       "<table border=\"1\" class=\"dataframe\">\n",
       "  <thead>\n",
       "    <tr style=\"text-align: right;\">\n",
       "      <th></th>\n",
       "      <th>mean_fit_time</th>\n",
       "      <th>std_fit_time</th>\n",
       "      <th>mean_score_time</th>\n",
       "      <th>std_score_time</th>\n",
       "      <th>param_n_estimators</th>\n",
       "      <th>param_max_depth</th>\n",
       "      <th>param_bootstrap</th>\n",
       "      <th>params</th>\n",
       "      <th>split0_test_score</th>\n",
       "      <th>split1_test_score</th>\n",
       "      <th>split2_test_score</th>\n",
       "      <th>split3_test_score</th>\n",
       "      <th>split4_test_score</th>\n",
       "      <th>mean_test_score</th>\n",
       "      <th>std_test_score</th>\n",
       "      <th>rank_test_score</th>\n",
       "    </tr>\n",
       "  </thead>\n",
       "  <tbody>\n",
       "    <tr>\n",
       "      <th>1</th>\n",
       "      <td>2.370865</td>\n",
       "      <td>0.013772</td>\n",
       "      <td>0.029958</td>\n",
       "      <td>0.001390</td>\n",
       "      <td>40</td>\n",
       "      <td>10</td>\n",
       "      <td>True</td>\n",
       "      <td>{'n_estimators': 40, 'max_depth': 10, 'bootstr...</td>\n",
       "      <td>-2067.454177</td>\n",
       "      <td>-2054.769830</td>\n",
       "      <td>-2001.312722</td>\n",
       "      <td>-2017.238719</td>\n",
       "      <td>-2056.102169</td>\n",
       "      <td>-2039.375523</td>\n",
       "      <td>25.471518</td>\n",
       "      <td>1</td>\n",
       "    </tr>\n",
       "    <tr>\n",
       "      <th>0</th>\n",
       "      <td>1.181632</td>\n",
       "      <td>0.016947</td>\n",
       "      <td>0.016282</td>\n",
       "      <td>0.000463</td>\n",
       "      <td>20</td>\n",
       "      <td>10</td>\n",
       "      <td>True</td>\n",
       "      <td>{'n_estimators': 20, 'max_depth': 10, 'bootstr...</td>\n",
       "      <td>-2067.315105</td>\n",
       "      <td>-2062.852015</td>\n",
       "      <td>-2005.583040</td>\n",
       "      <td>-2015.420991</td>\n",
       "      <td>-2057.078913</td>\n",
       "      <td>-2041.650013</td>\n",
       "      <td>25.826579</td>\n",
       "      <td>2</td>\n",
       "    </tr>\n",
       "    <tr>\n",
       "      <th>5</th>\n",
       "      <td>3.678126</td>\n",
       "      <td>0.109839</td>\n",
       "      <td>0.028786</td>\n",
       "      <td>0.001164</td>\n",
       "      <td>40</td>\n",
       "      <td>10</td>\n",
       "      <td>False</td>\n",
       "      <td>{'n_estimators': 40, 'max_depth': 10, 'bootstr...</td>\n",
       "      <td>-2098.675108</td>\n",
       "      <td>-2086.508778</td>\n",
       "      <td>-2066.116651</td>\n",
       "      <td>-2063.259876</td>\n",
       "      <td>-2109.033966</td>\n",
       "      <td>-2084.718876</td>\n",
       "      <td>17.864687</td>\n",
       "      <td>3</td>\n",
       "    </tr>\n",
       "    <tr>\n",
       "      <th>4</th>\n",
       "      <td>1.811456</td>\n",
       "      <td>0.017749</td>\n",
       "      <td>0.015643</td>\n",
       "      <td>0.000691</td>\n",
       "      <td>20</td>\n",
       "      <td>10</td>\n",
       "      <td>False</td>\n",
       "      <td>{'n_estimators': 20, 'max_depth': 10, 'bootstr...</td>\n",
       "      <td>-2097.851207</td>\n",
       "      <td>-2087.245433</td>\n",
       "      <td>-2067.761988</td>\n",
       "      <td>-2062.863086</td>\n",
       "      <td>-2109.768908</td>\n",
       "      <td>-2085.098125</td>\n",
       "      <td>17.724774</td>\n",
       "      <td>4</td>\n",
       "    </tr>\n",
       "    <tr>\n",
       "      <th>3</th>\n",
       "      <td>4.129092</td>\n",
       "      <td>0.041929</td>\n",
       "      <td>0.062987</td>\n",
       "      <td>0.000918</td>\n",
       "      <td>40</td>\n",
       "      <td>20</td>\n",
       "      <td>True</td>\n",
       "      <td>{'n_estimators': 40, 'max_depth': 20, 'bootstr...</td>\n",
       "      <td>-2125.259739</td>\n",
       "      <td>-2118.566176</td>\n",
       "      <td>-2080.553753</td>\n",
       "      <td>-2083.748034</td>\n",
       "      <td>-2107.595303</td>\n",
       "      <td>-2103.144601</td>\n",
       "      <td>18.073662</td>\n",
       "      <td>5</td>\n",
       "    </tr>\n",
       "    <tr>\n",
       "      <th>2</th>\n",
       "      <td>2.057995</td>\n",
       "      <td>0.029585</td>\n",
       "      <td>0.033363</td>\n",
       "      <td>0.000814</td>\n",
       "      <td>20</td>\n",
       "      <td>20</td>\n",
       "      <td>True</td>\n",
       "      <td>{'n_estimators': 20, 'max_depth': 20, 'bootstr...</td>\n",
       "      <td>-2131.974526</td>\n",
       "      <td>-2128.545961</td>\n",
       "      <td>-2079.312686</td>\n",
       "      <td>-2100.339796</td>\n",
       "      <td>-2124.571312</td>\n",
       "      <td>-2112.948856</td>\n",
       "      <td>20.152953</td>\n",
       "      <td>6</td>\n",
       "    </tr>\n",
       "    <tr>\n",
       "      <th>7</th>\n",
       "      <td>6.189789</td>\n",
       "      <td>0.625470</td>\n",
       "      <td>0.064311</td>\n",
       "      <td>0.009640</td>\n",
       "      <td>40</td>\n",
       "      <td>20</td>\n",
       "      <td>False</td>\n",
       "      <td>{'n_estimators': 40, 'max_depth': 20, 'bootstr...</td>\n",
       "      <td>-2298.053572</td>\n",
       "      <td>-2347.568791</td>\n",
       "      <td>-2321.768628</td>\n",
       "      <td>-2257.297554</td>\n",
       "      <td>-2323.147113</td>\n",
       "      <td>-2309.567131</td>\n",
       "      <td>30.469950</td>\n",
       "      <td>7</td>\n",
       "    </tr>\n",
       "    <tr>\n",
       "      <th>6</th>\n",
       "      <td>3.249658</td>\n",
       "      <td>0.074030</td>\n",
       "      <td>0.035944</td>\n",
       "      <td>0.002416</td>\n",
       "      <td>20</td>\n",
       "      <td>20</td>\n",
       "      <td>False</td>\n",
       "      <td>{'n_estimators': 20, 'max_depth': 20, 'bootstr...</td>\n",
       "      <td>-2293.222946</td>\n",
       "      <td>-2349.935077</td>\n",
       "      <td>-2326.464924</td>\n",
       "      <td>-2256.875223</td>\n",
       "      <td>-2322.802961</td>\n",
       "      <td>-2309.860226</td>\n",
       "      <td>32.041953</td>\n",
       "      <td>8</td>\n",
       "    </tr>\n",
       "  </tbody>\n",
       "</table>\n",
       "</div>"
      ],
      "text/plain": [
       "   mean_fit_time  std_fit_time  mean_score_time  std_score_time  \\\n",
       "1       2.370865      0.013772         0.029958        0.001390   \n",
       "0       1.181632      0.016947         0.016282        0.000463   \n",
       "5       3.678126      0.109839         0.028786        0.001164   \n",
       "4       1.811456      0.017749         0.015643        0.000691   \n",
       "3       4.129092      0.041929         0.062987        0.000918   \n",
       "2       2.057995      0.029585         0.033363        0.000814   \n",
       "7       6.189789      0.625470         0.064311        0.009640   \n",
       "6       3.249658      0.074030         0.035944        0.002416   \n",
       "\n",
       "  param_n_estimators param_max_depth param_bootstrap  \\\n",
       "1                 40              10            True   \n",
       "0                 20              10            True   \n",
       "5                 40              10           False   \n",
       "4                 20              10           False   \n",
       "3                 40              20            True   \n",
       "2                 20              20            True   \n",
       "7                 40              20           False   \n",
       "6                 20              20           False   \n",
       "\n",
       "                                              params  split0_test_score  \\\n",
       "1  {'n_estimators': 40, 'max_depth': 10, 'bootstr...       -2067.454177   \n",
       "0  {'n_estimators': 20, 'max_depth': 10, 'bootstr...       -2067.315105   \n",
       "5  {'n_estimators': 40, 'max_depth': 10, 'bootstr...       -2098.675108   \n",
       "4  {'n_estimators': 20, 'max_depth': 10, 'bootstr...       -2097.851207   \n",
       "3  {'n_estimators': 40, 'max_depth': 20, 'bootstr...       -2125.259739   \n",
       "2  {'n_estimators': 20, 'max_depth': 20, 'bootstr...       -2131.974526   \n",
       "7  {'n_estimators': 40, 'max_depth': 20, 'bootstr...       -2298.053572   \n",
       "6  {'n_estimators': 20, 'max_depth': 20, 'bootstr...       -2293.222946   \n",
       "\n",
       "   split1_test_score  split2_test_score  split3_test_score  split4_test_score  \\\n",
       "1       -2054.769830       -2001.312722       -2017.238719       -2056.102169   \n",
       "0       -2062.852015       -2005.583040       -2015.420991       -2057.078913   \n",
       "5       -2086.508778       -2066.116651       -2063.259876       -2109.033966   \n",
       "4       -2087.245433       -2067.761988       -2062.863086       -2109.768908   \n",
       "3       -2118.566176       -2080.553753       -2083.748034       -2107.595303   \n",
       "2       -2128.545961       -2079.312686       -2100.339796       -2124.571312   \n",
       "7       -2347.568791       -2321.768628       -2257.297554       -2323.147113   \n",
       "6       -2349.935077       -2326.464924       -2256.875223       -2322.802961   \n",
       "\n",
       "   mean_test_score  std_test_score  rank_test_score  \n",
       "1     -2039.375523       25.471518                1  \n",
       "0     -2041.650013       25.826579                2  \n",
       "5     -2084.718876       17.864687                3  \n",
       "4     -2085.098125       17.724774                4  \n",
       "3     -2103.144601       18.073662                5  \n",
       "2     -2112.948856       20.152953                6  \n",
       "7     -2309.567131       30.469950                7  \n",
       "6     -2309.860226       32.041953                8  "
      ]
     },
     "execution_count": 77,
     "metadata": {},
     "output_type": "execute_result"
    }
   ],
   "source": [
    "pd.DataFrame(randomsearch_result_pca.cv_results_).sort_values('mean_test_score',ascending=False)"
   ]
  },
  {
   "cell_type": "code",
   "execution_count": 78,
   "metadata": {},
   "outputs": [
    {
     "data": {
      "text/plain": [
       "{'n_estimators': 40, 'max_depth': 10, 'bootstrap': True}"
      ]
     },
     "execution_count": 78,
     "metadata": {},
     "output_type": "execute_result"
    }
   ],
   "source": [
    "best_paramters_pca"
   ]
  },
  {
   "cell_type": "code",
   "execution_count": 79,
   "metadata": {},
   "outputs": [],
   "source": [
    "rf_pca=RandomForestRegressor(n_estimators=20,max_depth=10)"
   ]
  },
  {
   "cell_type": "code",
   "execution_count": 80,
   "metadata": {},
   "outputs": [],
   "source": [
    "scores_1=cross_val_score(rf_pca,X_train_pca,y_train_pca,scoring='neg_mean_absolute_error',cv=10)"
   ]
  },
  {
   "cell_type": "code",
   "execution_count": 81,
   "metadata": {},
   "outputs": [],
   "source": [
    "absolute_scores_1=-scores_1.mean()"
   ]
  },
  {
   "cell_type": "code",
   "execution_count": 82,
   "metadata": {},
   "outputs": [
    {
     "data": {
      "text/plain": [
       "RandomForestRegressor(bootstrap=True, ccp_alpha=0.0, criterion='mse',\n",
       "                      max_depth=10, max_features='auto', max_leaf_nodes=None,\n",
       "                      max_samples=None, min_impurity_decrease=0.0,\n",
       "                      min_impurity_split=None, min_samples_leaf=1,\n",
       "                      min_samples_split=2, min_weight_fraction_leaf=0.0,\n",
       "                      n_estimators=20, n_jobs=None, oob_score=False,\n",
       "                      random_state=None, verbose=0, warm_start=False)"
      ]
     },
     "execution_count": 82,
     "metadata": {},
     "output_type": "execute_result"
    }
   ],
   "source": [
    "\n",
    "rf_pca.fit(X_train_pca,y_train_pca)"
   ]
  },
  {
   "cell_type": "code",
   "execution_count": 83,
   "metadata": {},
   "outputs": [],
   "source": [
    "y_predict_pca= rf_pca.predict(X_test_pca)\n",
    "test_score_pca= mean_absolute_error(y_test_pca,y_predict_pca)"
   ]
  },
  {
   "cell_type": "code",
   "execution_count": 84,
   "metadata": {},
   "outputs": [
    {
     "data": {
      "text/html": [
       "<div>\n",
       "<style scoped>\n",
       "    .dataframe tbody tr th:only-of-type {\n",
       "        vertical-align: middle;\n",
       "    }\n",
       "\n",
       "    .dataframe tbody tr th {\n",
       "        vertical-align: top;\n",
       "    }\n",
       "\n",
       "    .dataframe thead th {\n",
       "        text-align: right;\n",
       "    }\n",
       "</style>\n",
       "<table border=\"1\" class=\"dataframe\">\n",
       "  <thead>\n",
       "    <tr style=\"text-align: right;\">\n",
       "      <th></th>\n",
       "      <th>train_mse_score</th>\n",
       "      <th>test_mse_score</th>\n",
       "    </tr>\n",
       "  </thead>\n",
       "  <tbody>\n",
       "    <tr>\n",
       "      <th>Mean</th>\n",
       "      <td>2038.648742</td>\n",
       "      <td>2068.501312</td>\n",
       "    </tr>\n",
       "  </tbody>\n",
       "</table>\n",
       "</div>"
      ],
      "text/plain": [
       "      train_mse_score  test_mse_score\n",
       "Mean      2038.648742     2068.501312"
      ]
     },
     "execution_count": 84,
     "metadata": {},
     "output_type": "execute_result"
    }
   ],
   "source": [
    "pd.DataFrame({'train_mse_score':[absolute_scores_1],\n",
    "             'test_mse_score':[test_score_pca]},index=['Mean'])"
   ]
  },
  {
   "cell_type": "markdown",
   "metadata": {},
   "source": [
    "__1(d). Learning Curves__"
   ]
  },
  {
   "cell_type": "code",
   "execution_count": 85,
   "metadata": {},
   "outputs": [
    {
     "data": {
      "text/plain": [
       "31340"
      ]
     },
     "execution_count": 85,
     "metadata": {},
     "output_type": "execute_result"
    }
   ],
   "source": [
    "X_train.shape[0]"
   ]
  },
  {
   "cell_type": "code",
   "execution_count": 86,
   "metadata": {},
   "outputs": [],
   "source": [
    "train_sizes=[500,800,1000,1250,2500,5000,10000,12000,16000,18000,20000]"
   ]
  },
  {
   "cell_type": "code",
   "execution_count": 87,
   "metadata": {},
   "outputs": [],
   "source": [
    "from sklearn.model_selection import learning_curve\n",
    "train_sizes,train_scores,validation_scores= learning_curve(rf,X=X_train,y=y_train,train_sizes=train_sizes,\n",
    "                                             cv=3,scoring='neg_mean_absolute_error')"
   ]
  },
  {
   "cell_type": "code",
   "execution_count": 88,
   "metadata": {},
   "outputs": [],
   "source": [
    "train_scores_mean= -train_scores.mean(axis=1)\n",
    "validation_scores_mean=-validation_scores.mean(axis=1)"
   ]
  },
  {
   "cell_type": "code",
   "execution_count": 89,
   "metadata": {},
   "outputs": [
    {
     "data": {
      "text/plain": [
       "<matplotlib.legend.Legend at 0x7f619068c320>"
      ]
     },
     "execution_count": 89,
     "metadata": {},
     "output_type": "execute_result"
    },
    {
     "data": {
      "image/png": "[encoded data removed]",
      "text/plain": [
       "<Figure size 432x288 with 1 Axes>"
      ]
     },
     "metadata": {
      "needs_background": "light"
     },
     "output_type": "display_data"
    }
   ],
   "source": [
    "plt.plot(train_sizes, train_scores_mean, label = 'Training error')\n",
    "plt.plot(train_sizes, validation_scores_mean, label = 'Validation error')\n",
    "plt.ylabel('MAE', fontsize = 14)\n",
    "plt.xlabel('Training set size', fontsize = 14)\n",
    "plt.title('Learning curves for a random forest regression model', fontsize = 18, y = 1.03)\n",
    "plt.legend()"
   ]
  },
  {
   "cell_type": "code",
   "execution_count": 90,
   "metadata": {},
   "outputs": [],
   "source": [
    "train_sizes,train_scores_pca,validation_scores_pca= learning_curve(rf_pca,X=X_train_pca,y=y_train_pca,train_sizes=train_sizes,\n",
    "                                             cv=3,scoring='neg_mean_absolute_error')"
   ]
  },
  {
   "cell_type": "code",
   "execution_count": 91,
   "metadata": {},
   "outputs": [],
   "source": [
    "train_scores_mean_pca= -train_scores_pca.mean(axis=1)\n",
    "validation_scores_mean_pca=-validation_scores_pca.mean(axis=1)"
   ]
  },
  {
   "cell_type": "code",
   "execution_count": 92,
   "metadata": {},
   "outputs": [
    {
     "data": {
      "text/plain": [
       "<matplotlib.legend.Legend at 0x7f619066f7b8>"
      ]
     },
     "execution_count": 92,
     "metadata": {},
     "output_type": "execute_result"
    },
    {
     "data": {
      "image/png": "[encoded data removed]",
      "text/plain": [
       "<Figure size 432x288 with 1 Axes>"
      ]
     },
     "metadata": {
      "needs_background": "light"
     },
     "output_type": "display_data"
    }
   ],
   "source": [
    "plt.plot(train_sizes, train_scores_mean_pca, label = 'Training error PCA')\n",
    "plt.plot(train_sizes, validation_scores_mean_pca, label = 'Validation error PCA')\n",
    "plt.ylabel('MAE', fontsize = 14)\n",
    "plt.xlabel('Training set size', fontsize = 14)\n",
    "plt.title('Learning curves for a random forest regression model', fontsize = 18, y = 1.03)\n",
    "plt.legend()"
   ]
  },
  {
   "cell_type": "markdown",
   "metadata": {},
   "source": [
    "One solution at this point is to change to a more complex learning algorithm. This should decrease the bias and increase the variance. A mistake would be to try to increase the number of training instances. Generally, these other two fixes also work when dealing with a high bias and low variance problem:\n",
    "\n",
    "__1. Training the current learning algorithm on more features (to avoid collecting new data, you can generate easily polynomial features). This should lower the bias by increasing the model’s complexity.__\n",
    "\n",
    "__2. Decreasing the regularization of the current learning algorithm, if that’s the case. In a nutshell, regularization prevents the algorithm from fitting the training data too well. If we decrease regularization, the model will fit training data better, and, as a consequence, the variance will increase and the bias will decrease.__"
   ]
  },
  {
   "cell_type": "markdown",
   "metadata": {},
   "source": [
    "### Comparison:\n",
    "\n",
    "1. PCA Model has less variance but more bias------Solution: Train on more features increasing the complexity of model and decreasing the regularization of model.Meaning allowing it to overfit.\n",
    "\n",
    "\n",
    "\n",
    "2. Normal Model has less bias (as compared to PCA but more than a random forest should have) and more variance."
   ]
  },
  {
   "cell_type": "markdown",
   "metadata": {},
   "source": [
    "#### Since it is a bagging method it has less variance. Now we can use boosting to get less bias."
   ]
  },
  {
   "cell_type": "markdown",
   "metadata": {},
   "source": [
    "#  3(C). Gradient Boosting"
   ]
  },
  {
   "cell_type": "code",
   "execution_count": 93,
   "metadata": {},
   "outputs": [],
   "source": [
    "from sklearn.ensemble import GradientBoostingRegressor"
   ]
  },
  {
   "cell_type": "code",
   "execution_count": 94,
   "metadata": {},
   "outputs": [],
   "source": [
    "param_gradboost={'n_estimators':[100,150],\n",
    "                'max_depth':[5,10],\n",
    "                'learning_rate':[0.1,0.2]}"
   ]
  },
  {
   "cell_type": "code",
   "execution_count": 138,
   "metadata": {},
   "outputs": [],
   "source": [
    "pca_data_gbr= principal_comp[[0,1,2,3,4,5,6,7,8,9,10,11,12,13,14]]\n",
    "X_train_gbr,X_test_gbr,y_train_gbr,y_test_gbr=train_test_split(pca_data_gbr,y,test_size=0.2,random_state=23)"
   ]
  },
  {
   "cell_type": "code",
   "execution_count": 96,
   "metadata": {},
   "outputs": [
    {
     "name": "stderr",
     "output_type": "stream",
     "text": [
      "/opt/conda/lib/python3.6/site-packages/sklearn/model_selection/_search.py:281: UserWarning: The total space of parameters 8 is smaller than n_iter=10. Running 8 iterations. For exhaustive searches, use GridSearchCV.\n",
      "  % (grid_size, self.n_iter, grid_size), UserWarning)\n",
      "[Parallel(n_jobs=-1)]: Using backend LokyBackend with 4 concurrent workers.\n"
     ]
    },
    {
     "name": "stdout",
     "output_type": "stream",
     "text": [
      "Fitting 3 folds for each of 8 candidates, totalling 24 fits\n"
     ]
    },
    {
     "name": "stderr",
     "output_type": "stream",
     "text": [
      "[Parallel(n_jobs=-1)]: Done  24 out of  24 | elapsed:  5.9min finished\n"
     ]
    }
   ],
   "source": [
    "grad_randomsearch= RandomizedSearchCV(GradientBoostingRegressor(),param_distributions=param_gradboost,cv=3,\n",
    "                                      scoring='neg_mean_absolute_error',n_jobs=-1,verbose=1)\n",
    "grad_fit=grad_randomsearch.fit(X_train_gbr,y_train_gbr)\n",
    "best_param_grad= grad_fit.best_params_"
   ]
  },
  {
   "cell_type": "code",
   "execution_count": 97,
   "metadata": {},
   "outputs": [
    {
     "data": {
      "text/html": [
       "<div>\n",
       "<style scoped>\n",
       "    .dataframe tbody tr th:only-of-type {\n",
       "        vertical-align: middle;\n",
       "    }\n",
       "\n",
       "    .dataframe tbody tr th {\n",
       "        vertical-align: top;\n",
       "    }\n",
       "\n",
       "    .dataframe thead th {\n",
       "        text-align: right;\n",
       "    }\n",
       "</style>\n",
       "<table border=\"1\" class=\"dataframe\">\n",
       "  <thead>\n",
       "    <tr style=\"text-align: right;\">\n",
       "      <th></th>\n",
       "      <th>mean_fit_time</th>\n",
       "      <th>std_fit_time</th>\n",
       "      <th>mean_score_time</th>\n",
       "      <th>std_score_time</th>\n",
       "      <th>param_n_estimators</th>\n",
       "      <th>param_max_depth</th>\n",
       "      <th>param_learning_rate</th>\n",
       "      <th>params</th>\n",
       "      <th>split0_test_score</th>\n",
       "      <th>split1_test_score</th>\n",
       "      <th>split2_test_score</th>\n",
       "      <th>mean_test_score</th>\n",
       "      <th>std_test_score</th>\n",
       "      <th>rank_test_score</th>\n",
       "    </tr>\n",
       "  </thead>\n",
       "  <tbody>\n",
       "    <tr>\n",
       "      <th>0</th>\n",
       "      <td>30.906005</td>\n",
       "      <td>0.210952</td>\n",
       "      <td>0.033962</td>\n",
       "      <td>0.000272</td>\n",
       "      <td>100</td>\n",
       "      <td>5</td>\n",
       "      <td>0.1</td>\n",
       "      <td>{'n_estimators': 100, 'max_depth': 5, 'learnin...</td>\n",
       "      <td>-1948.019416</td>\n",
       "      <td>-1919.546418</td>\n",
       "      <td>-1948.151723</td>\n",
       "      <td>-1938.572519</td>\n",
       "      <td>13.453593</td>\n",
       "      <td>1</td>\n",
       "    </tr>\n",
       "    <tr>\n",
       "      <th>1</th>\n",
       "      <td>45.917402</td>\n",
       "      <td>0.145704</td>\n",
       "      <td>0.046511</td>\n",
       "      <td>0.000162</td>\n",
       "      <td>150</td>\n",
       "      <td>5</td>\n",
       "      <td>0.1</td>\n",
       "      <td>{'n_estimators': 150, 'max_depth': 5, 'learnin...</td>\n",
       "      <td>-1957.578592</td>\n",
       "      <td>-1923.530655</td>\n",
       "      <td>-1957.508181</td>\n",
       "      <td>-1946.205809</td>\n",
       "      <td>16.033781</td>\n",
       "      <td>2</td>\n",
       "    </tr>\n",
       "    <tr>\n",
       "      <th>2</th>\n",
       "      <td>58.178459</td>\n",
       "      <td>0.543939</td>\n",
       "      <td>0.065587</td>\n",
       "      <td>0.000534</td>\n",
       "      <td>100</td>\n",
       "      <td>10</td>\n",
       "      <td>0.1</td>\n",
       "      <td>{'n_estimators': 100, 'max_depth': 10, 'learni...</td>\n",
       "      <td>-2021.712874</td>\n",
       "      <td>-1990.485145</td>\n",
       "      <td>-2019.983662</td>\n",
       "      <td>-2010.727227</td>\n",
       "      <td>14.330712</td>\n",
       "      <td>5</td>\n",
       "    </tr>\n",
       "    <tr>\n",
       "      <th>3</th>\n",
       "      <td>87.811828</td>\n",
       "      <td>0.377487</td>\n",
       "      <td>0.092468</td>\n",
       "      <td>0.000670</td>\n",
       "      <td>150</td>\n",
       "      <td>10</td>\n",
       "      <td>0.1</td>\n",
       "      <td>{'n_estimators': 150, 'max_depth': 10, 'learni...</td>\n",
       "      <td>-2044.074918</td>\n",
       "      <td>-2014.194757</td>\n",
       "      <td>-2028.739622</td>\n",
       "      <td>-2029.003099</td>\n",
       "      <td>12.199947</td>\n",
       "      <td>6</td>\n",
       "    </tr>\n",
       "    <tr>\n",
       "      <th>4</th>\n",
       "      <td>30.692358</td>\n",
       "      <td>0.334200</td>\n",
       "      <td>0.031687</td>\n",
       "      <td>0.000159</td>\n",
       "      <td>100</td>\n",
       "      <td>5</td>\n",
       "      <td>0.2</td>\n",
       "      <td>{'n_estimators': 100, 'max_depth': 5, 'learnin...</td>\n",
       "      <td>-1976.608228</td>\n",
       "      <td>-1935.687932</td>\n",
       "      <td>-1972.554295</td>\n",
       "      <td>-1961.616818</td>\n",
       "      <td>18.409037</td>\n",
       "      <td>3</td>\n",
       "    </tr>\n",
       "    <tr>\n",
       "      <th>5</th>\n",
       "      <td>45.689353</td>\n",
       "      <td>0.222164</td>\n",
       "      <td>0.045122</td>\n",
       "      <td>0.000425</td>\n",
       "      <td>150</td>\n",
       "      <td>5</td>\n",
       "      <td>0.2</td>\n",
       "      <td>{'n_estimators': 150, 'max_depth': 5, 'learnin...</td>\n",
       "      <td>-1989.130808</td>\n",
       "      <td>-1950.722266</td>\n",
       "      <td>-1988.623615</td>\n",
       "      <td>-1976.158896</td>\n",
       "      <td>17.987605</td>\n",
       "      <td>4</td>\n",
       "    </tr>\n",
       "    <tr>\n",
       "      <th>6</th>\n",
       "      <td>58.960728</td>\n",
       "      <td>0.117328</td>\n",
       "      <td>0.062023</td>\n",
       "      <td>0.001236</td>\n",
       "      <td>100</td>\n",
       "      <td>10</td>\n",
       "      <td>0.2</td>\n",
       "      <td>{'n_estimators': 100, 'max_depth': 10, 'learni...</td>\n",
       "      <td>-2101.102859</td>\n",
       "      <td>-2070.701741</td>\n",
       "      <td>-2066.829388</td>\n",
       "      <td>-2079.544663</td>\n",
       "      <td>15.325701</td>\n",
       "      <td>7</td>\n",
       "    </tr>\n",
       "    <tr>\n",
       "      <th>7</th>\n",
       "      <td>79.208220</td>\n",
       "      <td>4.745399</td>\n",
       "      <td>0.087679</td>\n",
       "      <td>0.012483</td>\n",
       "      <td>150</td>\n",
       "      <td>10</td>\n",
       "      <td>0.2</td>\n",
       "      <td>{'n_estimators': 150, 'max_depth': 10, 'learni...</td>\n",
       "      <td>-2115.174654</td>\n",
       "      <td>-2094.318947</td>\n",
       "      <td>-2111.336908</td>\n",
       "      <td>-2106.943503</td>\n",
       "      <td>9.063356</td>\n",
       "      <td>8</td>\n",
       "    </tr>\n",
       "  </tbody>\n",
       "</table>\n",
       "</div>"
      ],
      "text/plain": [
       "   mean_fit_time  std_fit_time  mean_score_time  std_score_time  \\\n",
       "0      30.906005      0.210952         0.033962        0.000272   \n",
       "1      45.917402      0.145704         0.046511        0.000162   \n",
       "2      58.178459      0.543939         0.065587        0.000534   \n",
       "3      87.811828      0.377487         0.092468        0.000670   \n",
       "4      30.692358      0.334200         0.031687        0.000159   \n",
       "5      45.689353      0.222164         0.045122        0.000425   \n",
       "6      58.960728      0.117328         0.062023        0.001236   \n",
       "7      79.208220      4.745399         0.087679        0.012483   \n",
       "\n",
       "  param_n_estimators param_max_depth param_learning_rate  \\\n",
       "0                100               5                 0.1   \n",
       "1                150               5                 0.1   \n",
       "2                100              10                 0.1   \n",
       "3                150              10                 0.1   \n",
       "4                100               5                 0.2   \n",
       "5                150               5                 0.2   \n",
       "6                100              10                 0.2   \n",
       "7                150              10                 0.2   \n",
       "\n",
       "                                              params  split0_test_score  \\\n",
       "0  {'n_estimators': 100, 'max_depth': 5, 'learnin...       -1948.019416   \n",
       "1  {'n_estimators': 150, 'max_depth': 5, 'learnin...       -1957.578592   \n",
       "2  {'n_estimators': 100, 'max_depth': 10, 'learni...       -2021.712874   \n",
       "3  {'n_estimators': 150, 'max_depth': 10, 'learni...       -2044.074918   \n",
       "4  {'n_estimators': 100, 'max_depth': 5, 'learnin...       -1976.608228   \n",
       "5  {'n_estimators': 150, 'max_depth': 5, 'learnin...       -1989.130808   \n",
       "6  {'n_estimators': 100, 'max_depth': 10, 'learni...       -2101.102859   \n",
       "7  {'n_estimators': 150, 'max_depth': 10, 'learni...       -2115.174654   \n",
       "\n",
       "   split1_test_score  split2_test_score  mean_test_score  std_test_score  \\\n",
       "0       -1919.546418       -1948.151723     -1938.572519       13.453593   \n",
       "1       -1923.530655       -1957.508181     -1946.205809       16.033781   \n",
       "2       -1990.485145       -2019.983662     -2010.727227       14.330712   \n",
       "3       -2014.194757       -2028.739622     -2029.003099       12.199947   \n",
       "4       -1935.687932       -1972.554295     -1961.616818       18.409037   \n",
       "5       -1950.722266       -1988.623615     -1976.158896       17.987605   \n",
       "6       -2070.701741       -2066.829388     -2079.544663       15.325701   \n",
       "7       -2094.318947       -2111.336908     -2106.943503        9.063356   \n",
       "\n",
       "   rank_test_score  \n",
       "0                1  \n",
       "1                2  \n",
       "2                5  \n",
       "3                6  \n",
       "4                3  \n",
       "5                4  \n",
       "6                7  \n",
       "7                8  "
      ]
     },
     "execution_count": 97,
     "metadata": {},
     "output_type": "execute_result"
    }
   ],
   "source": [
    "pd.DataFrame(grad_fit.cv_results_)"
   ]
  },
  {
   "cell_type": "code",
   "execution_count": 98,
   "metadata": {},
   "outputs": [
    {
     "data": {
      "text/plain": [
       "{'n_estimators': 100, 'max_depth': 5, 'learning_rate': 0.1}"
      ]
     },
     "execution_count": 98,
     "metadata": {},
     "output_type": "execute_result"
    }
   ],
   "source": [
    "best_param_grad"
   ]
  },
  {
   "cell_type": "code",
   "execution_count": 139,
   "metadata": {},
   "outputs": [],
   "source": [
    "gbr= GradientBoostingRegressor(n_estimators=50,max_depth=5,learning_rate=0.1)"
   ]
  },
  {
   "cell_type": "code",
   "execution_count": 140,
   "metadata": {},
   "outputs": [],
   "source": [
    "grad_result= gbr.fit(X_train_gbr,y_train_gbr)"
   ]
  },
  {
   "cell_type": "code",
   "execution_count": 101,
   "metadata": {},
   "outputs": [],
   "source": [
    "scores_boosting= cross_val_score(gbr,X_train_gbr,y_train_gbr,scoring='neg_mean_absolute_error',cv=5)"
   ]
  },
  {
   "cell_type": "code",
   "execution_count": 102,
   "metadata": {},
   "outputs": [],
   "source": [
    "absolute_scores_boosting= - scores_boosting.mean()"
   ]
  },
  {
   "cell_type": "code",
   "execution_count": 103,
   "metadata": {},
   "outputs": [],
   "source": [
    "y_pred_gbr=gbr.predict(X_test_gbr)\n",
    "test_score_gbr= mean_absolute_error(y_test_gbr,y_pred_gbr)"
   ]
  },
  {
   "cell_type": "code",
   "execution_count": 104,
   "metadata": {},
   "outputs": [
    {
     "data": {
      "text/html": [
       "<div>\n",
       "<style scoped>\n",
       "    .dataframe tbody tr th:only-of-type {\n",
       "        vertical-align: middle;\n",
       "    }\n",
       "\n",
       "    .dataframe tbody tr th {\n",
       "        vertical-align: top;\n",
       "    }\n",
       "\n",
       "    .dataframe thead th {\n",
       "        text-align: right;\n",
       "    }\n",
       "</style>\n",
       "<table border=\"1\" class=\"dataframe\">\n",
       "  <thead>\n",
       "    <tr style=\"text-align: right;\">\n",
       "      <th></th>\n",
       "      <th>train_mae_score</th>\n",
       "      <th>test_mae_score</th>\n",
       "    </tr>\n",
       "  </thead>\n",
       "  <tbody>\n",
       "    <tr>\n",
       "      <th>Mean</th>\n",
       "      <td>1928.327178</td>\n",
       "      <td>1952.796372</td>\n",
       "    </tr>\n",
       "  </tbody>\n",
       "</table>\n",
       "</div>"
      ],
      "text/plain": [
       "      train_mae_score  test_mae_score\n",
       "Mean      1928.327178     1952.796372"
      ]
     },
     "execution_count": 104,
     "metadata": {},
     "output_type": "execute_result"
    }
   ],
   "source": [
    "pd.DataFrame({'train_mae_score':[absolute_scores_boosting],\n",
    "             'test_mae_score':[test_score_gbr]},index=['Mean'])"
   ]
  },
  {
   "cell_type": "code",
   "execution_count": 105,
   "metadata": {},
   "outputs": [],
   "source": [
    "train_sizes,train_scores_gbr,validation_scores_gbr= learning_curve(gbr,X=X_train_pca,y=y_train_pca,train_sizes=train_sizes,\n",
    "                                             cv=5,scoring='neg_mean_absolute_error')"
   ]
  },
  {
   "cell_type": "code",
   "execution_count": 106,
   "metadata": {},
   "outputs": [],
   "source": [
    "train_scores_mean_gbr= -train_scores_gbr.mean(axis=1)\n",
    "validation_scores_mean_gbr=-validation_scores_gbr.mean(axis=1)"
   ]
  },
  {
   "cell_type": "code",
   "execution_count": 107,
   "metadata": {},
   "outputs": [
    {
     "data": {
      "text/plain": [
       "<matplotlib.legend.Legend at 0x7f619058f160>"
      ]
     },
     "execution_count": 107,
     "metadata": {},
     "output_type": "execute_result"
    },
    {
     "data": {
      "image/png": "[encoded data removed]",
      "text/plain": [
       "<Figure size 432x288 with 1 Axes>"
      ]
     },
     "metadata": {
      "needs_background": "light"
     },
     "output_type": "display_data"
    }
   ],
   "source": [
    "plt.plot(train_sizes, train_scores_mean_gbr, label = 'Training error PCA')\n",
    "plt.plot(train_sizes, validation_scores_mean_gbr, label = 'Validation error PCA')\n",
    "plt.ylabel('MAE', fontsize = 14)\n",
    "plt.xlabel('Training set size', fontsize = 14)\n",
    "plt.title('Learning curves for a gradient boosting regression model', fontsize = 18, y = 1.03)\n",
    "plt.legend()"
   ]
  },
  {
   "cell_type": "markdown",
   "metadata": {},
   "source": [
    "#### This model has much is better than above two in bias and variance."
   ]
  },
  {
   "cell_type": "markdown",
   "metadata": {},
   "source": [
    "# 3(d) Gradient Boosting with feature selection"
   ]
  },
  {
   "cell_type": "code",
   "execution_count": 134,
   "metadata": {},
   "outputs": [],
   "source": [
    "gbr_original=gbr.fit(X_train,y_train)"
   ]
  },
  {
   "cell_type": "code",
   "execution_count": 109,
   "metadata": {},
   "outputs": [],
   "source": [
    "df_1=pd.DataFrame(X_train.columns,gbr_original.feature_importances_).reset_index()\n",
    "df_1.columns=['score','variables']\n",
    "select_columns=df_1.sort_values('score',ascending=False)['variables']"
   ]
  },
  {
   "cell_type": "code",
   "execution_count": 136,
   "metadata": {},
   "outputs": [
    {
     "data": {
      "text/html": [
       "<div>\n",
       "<style scoped>\n",
       "    .dataframe tbody tr th:only-of-type {\n",
       "        vertical-align: middle;\n",
       "    }\n",
       "\n",
       "    .dataframe tbody tr th {\n",
       "        vertical-align: top;\n",
       "    }\n",
       "\n",
       "    .dataframe thead th {\n",
       "        text-align: right;\n",
       "    }\n",
       "</style>\n",
       "<table border=\"1\" class=\"dataframe\">\n",
       "  <thead>\n",
       "    <tr style=\"text-align: right;\">\n",
       "      <th></th>\n",
       "      <th>variables</th>\n",
       "      <th>score</th>\n",
       "      <th>score</th>\n",
       "      <th>variables</th>\n",
       "    </tr>\n",
       "  </thead>\n",
       "  <tbody>\n",
       "    <tr>\n",
       "      <th>0</th>\n",
       "      <td>timedelta</td>\n",
       "      <td>0.026938</td>\n",
       "      <td>0.039237</td>\n",
       "      <td>timedelta</td>\n",
       "    </tr>\n",
       "    <tr>\n",
       "      <th>1</th>\n",
       "      <td>n_tokens_title</td>\n",
       "      <td>0.012977</td>\n",
       "      <td>0.006640</td>\n",
       "      <td>n_tokens_title</td>\n",
       "    </tr>\n",
       "    <tr>\n",
       "      <th>2</th>\n",
       "      <td>n_tokens_content</td>\n",
       "      <td>0.023512</td>\n",
       "      <td>0.025075</td>\n",
       "      <td>n_tokens_content</td>\n",
       "    </tr>\n",
       "    <tr>\n",
       "      <th>3</th>\n",
       "      <td>n_unique_tokens</td>\n",
       "      <td>0.025196</td>\n",
       "      <td>0.024367</td>\n",
       "      <td>n_unique_tokens</td>\n",
       "    </tr>\n",
       "    <tr>\n",
       "      <th>4</th>\n",
       "      <td>n_non_stop_words</td>\n",
       "      <td>0.000271</td>\n",
       "      <td>0.000000</td>\n",
       "      <td>n_non_stop_words</td>\n",
       "    </tr>\n",
       "    <tr>\n",
       "      <th>5</th>\n",
       "      <td>n_non_stop_unique_tokens</td>\n",
       "      <td>0.024702</td>\n",
       "      <td>0.020405</td>\n",
       "      <td>n_non_stop_unique_tokens</td>\n",
       "    </tr>\n",
       "    <tr>\n",
       "      <th>6</th>\n",
       "      <td>num_hrefs</td>\n",
       "      <td>0.026674</td>\n",
       "      <td>0.033185</td>\n",
       "      <td>num_hrefs</td>\n",
       "    </tr>\n",
       "    <tr>\n",
       "      <th>7</th>\n",
       "      <td>num_self_hrefs</td>\n",
       "      <td>0.012276</td>\n",
       "      <td>0.013481</td>\n",
       "      <td>num_self_hrefs</td>\n",
       "    </tr>\n",
       "    <tr>\n",
       "      <th>8</th>\n",
       "      <td>num_imgs</td>\n",
       "      <td>0.016455</td>\n",
       "      <td>0.020588</td>\n",
       "      <td>num_imgs</td>\n",
       "    </tr>\n",
       "    <tr>\n",
       "      <th>9</th>\n",
       "      <td>num_videos</td>\n",
       "      <td>0.009258</td>\n",
       "      <td>0.019524</td>\n",
       "      <td>num_videos</td>\n",
       "    </tr>\n",
       "    <tr>\n",
       "      <th>10</th>\n",
       "      <td>average_token_length</td>\n",
       "      <td>0.022024</td>\n",
       "      <td>0.027065</td>\n",
       "      <td>average_token_length</td>\n",
       "    </tr>\n",
       "    <tr>\n",
       "      <th>11</th>\n",
       "      <td>num_keywords</td>\n",
       "      <td>0.006337</td>\n",
       "      <td>0.000004</td>\n",
       "      <td>num_keywords</td>\n",
       "    </tr>\n",
       "    <tr>\n",
       "      <th>12</th>\n",
       "      <td>data_channel_is_lifestyle</td>\n",
       "      <td>0.001133</td>\n",
       "      <td>0.000611</td>\n",
       "      <td>data_channel_is_lifestyle</td>\n",
       "    </tr>\n",
       "    <tr>\n",
       "      <th>13</th>\n",
       "      <td>data_channel_is_entertainment</td>\n",
       "      <td>0.003157</td>\n",
       "      <td>0.005475</td>\n",
       "      <td>data_channel_is_entertainment</td>\n",
       "    </tr>\n",
       "    <tr>\n",
       "      <th>14</th>\n",
       "      <td>data_channel_is_bus</td>\n",
       "      <td>0.002597</td>\n",
       "      <td>0.001336</td>\n",
       "      <td>data_channel_is_bus</td>\n",
       "    </tr>\n",
       "    <tr>\n",
       "      <th>15</th>\n",
       "      <td>data_channel_is_socmed</td>\n",
       "      <td>0.003238</td>\n",
       "      <td>0.008575</td>\n",
       "      <td>data_channel_is_socmed</td>\n",
       "    </tr>\n",
       "    <tr>\n",
       "      <th>16</th>\n",
       "      <td>data_channel_is_tech</td>\n",
       "      <td>0.002599</td>\n",
       "      <td>0.007324</td>\n",
       "      <td>data_channel_is_tech</td>\n",
       "    </tr>\n",
       "    <tr>\n",
       "      <th>17</th>\n",
       "      <td>data_channel_is_world</td>\n",
       "      <td>0.004052</td>\n",
       "      <td>0.000538</td>\n",
       "      <td>data_channel_is_world</td>\n",
       "    </tr>\n",
       "    <tr>\n",
       "      <th>18</th>\n",
       "      <td>kw_min_min</td>\n",
       "      <td>0.003174</td>\n",
       "      <td>0.001704</td>\n",
       "      <td>kw_min_min</td>\n",
       "    </tr>\n",
       "    <tr>\n",
       "      <th>19</th>\n",
       "      <td>kw_max_min</td>\n",
       "      <td>0.024969</td>\n",
       "      <td>0.020489</td>\n",
       "      <td>kw_max_min</td>\n",
       "    </tr>\n",
       "    <tr>\n",
       "      <th>20</th>\n",
       "      <td>kw_avg_min</td>\n",
       "      <td>0.026525</td>\n",
       "      <td>0.021549</td>\n",
       "      <td>kw_avg_min</td>\n",
       "    </tr>\n",
       "    <tr>\n",
       "      <th>21</th>\n",
       "      <td>kw_min_max</td>\n",
       "      <td>0.017782</td>\n",
       "      <td>0.015857</td>\n",
       "      <td>kw_min_max</td>\n",
       "    </tr>\n",
       "    <tr>\n",
       "      <th>22</th>\n",
       "      <td>kw_max_max</td>\n",
       "      <td>0.006475</td>\n",
       "      <td>0.000009</td>\n",
       "      <td>kw_max_max</td>\n",
       "    </tr>\n",
       "    <tr>\n",
       "      <th>23</th>\n",
       "      <td>kw_avg_max</td>\n",
       "      <td>0.028255</td>\n",
       "      <td>0.020641</td>\n",
       "      <td>kw_avg_max</td>\n",
       "    </tr>\n",
       "    <tr>\n",
       "      <th>24</th>\n",
       "      <td>kw_min_avg</td>\n",
       "      <td>0.028283</td>\n",
       "      <td>0.033244</td>\n",
       "      <td>kw_min_avg</td>\n",
       "    </tr>\n",
       "    <tr>\n",
       "      <th>25</th>\n",
       "      <td>kw_max_avg</td>\n",
       "      <td>0.068078</td>\n",
       "      <td>0.040948</td>\n",
       "      <td>kw_max_avg</td>\n",
       "    </tr>\n",
       "    <tr>\n",
       "      <th>26</th>\n",
       "      <td>kw_avg_avg</td>\n",
       "      <td>0.078581</td>\n",
       "      <td>0.239430</td>\n",
       "      <td>kw_avg_avg</td>\n",
       "    </tr>\n",
       "    <tr>\n",
       "      <th>27</th>\n",
       "      <td>self_reference_min_shares</td>\n",
       "      <td>0.040130</td>\n",
       "      <td>0.062843</td>\n",
       "      <td>self_reference_min_shares</td>\n",
       "    </tr>\n",
       "    <tr>\n",
       "      <th>28</th>\n",
       "      <td>self_reference_max_shares</td>\n",
       "      <td>0.030208</td>\n",
       "      <td>0.009960</td>\n",
       "      <td>self_reference_max_shares</td>\n",
       "    </tr>\n",
       "    <tr>\n",
       "      <th>29</th>\n",
       "      <td>self_reference_avg_sharess</td>\n",
       "      <td>0.041030</td>\n",
       "      <td>0.054692</td>\n",
       "      <td>self_reference_avg_sharess</td>\n",
       "    </tr>\n",
       "    <tr>\n",
       "      <th>30</th>\n",
       "      <td>weekday_is_monday</td>\n",
       "      <td>0.002686</td>\n",
       "      <td>0.000545</td>\n",
       "      <td>weekday_is_monday</td>\n",
       "    </tr>\n",
       "    <tr>\n",
       "      <th>31</th>\n",
       "      <td>weekday_is_tuesday</td>\n",
       "      <td>0.001613</td>\n",
       "      <td>0.001194</td>\n",
       "      <td>weekday_is_tuesday</td>\n",
       "    </tr>\n",
       "    <tr>\n",
       "      <th>32</th>\n",
       "      <td>weekday_is_wednesday</td>\n",
       "      <td>0.001615</td>\n",
       "      <td>0.000000</td>\n",
       "      <td>weekday_is_wednesday</td>\n",
       "    </tr>\n",
       "    <tr>\n",
       "      <th>33</th>\n",
       "      <td>weekday_is_thursday</td>\n",
       "      <td>0.001673</td>\n",
       "      <td>0.000000</td>\n",
       "      <td>weekday_is_thursday</td>\n",
       "    </tr>\n",
       "    <tr>\n",
       "      <th>34</th>\n",
       "      <td>weekday_is_friday</td>\n",
       "      <td>0.001569</td>\n",
       "      <td>0.000208</td>\n",
       "      <td>weekday_is_friday</td>\n",
       "    </tr>\n",
       "    <tr>\n",
       "      <th>35</th>\n",
       "      <td>weekday_is_saturday</td>\n",
       "      <td>0.002728</td>\n",
       "      <td>0.002739</td>\n",
       "      <td>weekday_is_saturday</td>\n",
       "    </tr>\n",
       "    <tr>\n",
       "      <th>36</th>\n",
       "      <td>weekday_is_sunday</td>\n",
       "      <td>0.002833</td>\n",
       "      <td>0.007515</td>\n",
       "      <td>weekday_is_sunday</td>\n",
       "    </tr>\n",
       "    <tr>\n",
       "      <th>37</th>\n",
       "      <td>is_weekend</td>\n",
       "      <td>0.006847</td>\n",
       "      <td>0.014346</td>\n",
       "      <td>is_weekend</td>\n",
       "    </tr>\n",
       "    <tr>\n",
       "      <th>38</th>\n",
       "      <td>LDA_00</td>\n",
       "      <td>0.020804</td>\n",
       "      <td>0.011631</td>\n",
       "      <td>LDA_00</td>\n",
       "    </tr>\n",
       "    <tr>\n",
       "      <th>39</th>\n",
       "      <td>LDA_01</td>\n",
       "      <td>0.023161</td>\n",
       "      <td>0.013032</td>\n",
       "      <td>LDA_01</td>\n",
       "    </tr>\n",
       "    <tr>\n",
       "      <th>40</th>\n",
       "      <td>LDA_02</td>\n",
       "      <td>0.026434</td>\n",
       "      <td>0.013321</td>\n",
       "      <td>LDA_02</td>\n",
       "    </tr>\n",
       "    <tr>\n",
       "      <th>41</th>\n",
       "      <td>LDA_03</td>\n",
       "      <td>0.031946</td>\n",
       "      <td>0.018052</td>\n",
       "      <td>LDA_03</td>\n",
       "    </tr>\n",
       "    <tr>\n",
       "      <th>42</th>\n",
       "      <td>LDA_04</td>\n",
       "      <td>0.020760</td>\n",
       "      <td>0.015857</td>\n",
       "      <td>LDA_04</td>\n",
       "    </tr>\n",
       "    <tr>\n",
       "      <th>43</th>\n",
       "      <td>global_subjectivity</td>\n",
       "      <td>0.024900</td>\n",
       "      <td>0.016365</td>\n",
       "      <td>global_subjectivity</td>\n",
       "    </tr>\n",
       "    <tr>\n",
       "      <th>44</th>\n",
       "      <td>global_sentiment_polarity</td>\n",
       "      <td>0.021727</td>\n",
       "      <td>0.009816</td>\n",
       "      <td>global_sentiment_polarity</td>\n",
       "    </tr>\n",
       "    <tr>\n",
       "      <th>45</th>\n",
       "      <td>global_rate_positive_words</td>\n",
       "      <td>0.016072</td>\n",
       "      <td>0.006315</td>\n",
       "      <td>global_rate_positive_words</td>\n",
       "    </tr>\n",
       "    <tr>\n",
       "      <th>46</th>\n",
       "      <td>global_rate_negative_words</td>\n",
       "      <td>0.018989</td>\n",
       "      <td>0.022647</td>\n",
       "      <td>global_rate_negative_words</td>\n",
       "    </tr>\n",
       "    <tr>\n",
       "      <th>47</th>\n",
       "      <td>rate_positive_words</td>\n",
       "      <td>0.015974</td>\n",
       "      <td>0.003697</td>\n",
       "      <td>rate_positive_words</td>\n",
       "    </tr>\n",
       "    <tr>\n",
       "      <th>48</th>\n",
       "      <td>rate_negative_words</td>\n",
       "      <td>0.016575</td>\n",
       "      <td>0.005874</td>\n",
       "      <td>rate_negative_words</td>\n",
       "    </tr>\n",
       "    <tr>\n",
       "      <th>49</th>\n",
       "      <td>avg_positive_polarity</td>\n",
       "      <td>0.021852</td>\n",
       "      <td>0.013249</td>\n",
       "      <td>avg_positive_polarity</td>\n",
       "    </tr>\n",
       "    <tr>\n",
       "      <th>50</th>\n",
       "      <td>min_positive_polarity</td>\n",
       "      <td>0.009277</td>\n",
       "      <td>0.006335</td>\n",
       "      <td>min_positive_polarity</td>\n",
       "    </tr>\n",
       "    <tr>\n",
       "      <th>51</th>\n",
       "      <td>max_positive_polarity</td>\n",
       "      <td>0.005966</td>\n",
       "      <td>0.001888</td>\n",
       "      <td>max_positive_polarity</td>\n",
       "    </tr>\n",
       "    <tr>\n",
       "      <th>52</th>\n",
       "      <td>avg_negative_polarity</td>\n",
       "      <td>0.018183</td>\n",
       "      <td>0.006827</td>\n",
       "      <td>avg_negative_polarity</td>\n",
       "    </tr>\n",
       "    <tr>\n",
       "      <th>53</th>\n",
       "      <td>min_negative_polarity</td>\n",
       "      <td>0.008652</td>\n",
       "      <td>0.003295</td>\n",
       "      <td>min_negative_polarity</td>\n",
       "    </tr>\n",
       "    <tr>\n",
       "      <th>54</th>\n",
       "      <td>max_negative_polarity</td>\n",
       "      <td>0.013912</td>\n",
       "      <td>0.003929</td>\n",
       "      <td>max_negative_polarity</td>\n",
       "    </tr>\n",
       "    <tr>\n",
       "      <th>55</th>\n",
       "      <td>title_subjectivity</td>\n",
       "      <td>0.011303</td>\n",
       "      <td>0.005328</td>\n",
       "      <td>title_subjectivity</td>\n",
       "    </tr>\n",
       "    <tr>\n",
       "      <th>56</th>\n",
       "      <td>title_sentiment_polarity</td>\n",
       "      <td>0.015548</td>\n",
       "      <td>0.008288</td>\n",
       "      <td>title_sentiment_polarity</td>\n",
       "    </tr>\n",
       "    <tr>\n",
       "      <th>57</th>\n",
       "      <td>abs_title_subjectivity</td>\n",
       "      <td>0.007690</td>\n",
       "      <td>0.004713</td>\n",
       "      <td>abs_title_subjectivity</td>\n",
       "    </tr>\n",
       "    <tr>\n",
       "      <th>58</th>\n",
       "      <td>abs_title_sentiment_polarity</td>\n",
       "      <td>0.011822</td>\n",
       "      <td>0.008201</td>\n",
       "      <td>abs_title_sentiment_polarity</td>\n",
       "    </tr>\n",
       "  </tbody>\n",
       "</table>\n",
       "</div>"
      ],
      "text/plain": [
       "                         variables     score     score  \\\n",
       "0                        timedelta  0.026938  0.039237   \n",
       "1                   n_tokens_title  0.012977  0.006640   \n",
       "2                 n_tokens_content  0.023512  0.025075   \n",
       "3                  n_unique_tokens  0.025196  0.024367   \n",
       "4                 n_non_stop_words  0.000271  0.000000   \n",
       "5         n_non_stop_unique_tokens  0.024702  0.020405   \n",
       "6                        num_hrefs  0.026674  0.033185   \n",
       "7                   num_self_hrefs  0.012276  0.013481   \n",
       "8                         num_imgs  0.016455  0.020588   \n",
       "9                       num_videos  0.009258  0.019524   \n",
       "10            average_token_length  0.022024  0.027065   \n",
       "11                    num_keywords  0.006337  0.000004   \n",
       "12       data_channel_is_lifestyle  0.001133  0.000611   \n",
       "13   data_channel_is_entertainment  0.003157  0.005475   \n",
       "14             data_channel_is_bus  0.002597  0.001336   \n",
       "15          data_channel_is_socmed  0.003238  0.008575   \n",
       "16            data_channel_is_tech  0.002599  0.007324   \n",
       "17           data_channel_is_world  0.004052  0.000538   \n",
       "18                      kw_min_min  0.003174  0.001704   \n",
       "19                      kw_max_min  0.024969  0.020489   \n",
       "20                      kw_avg_min  0.026525  0.021549   \n",
       "21                      kw_min_max  0.017782  0.015857   \n",
       "22                      kw_max_max  0.006475  0.000009   \n",
       "23                      kw_avg_max  0.028255  0.020641   \n",
       "24                      kw_min_avg  0.028283  0.033244   \n",
       "25                      kw_max_avg  0.068078  0.040948   \n",
       "26                      kw_avg_avg  0.078581  0.239430   \n",
       "27       self_reference_min_shares  0.040130  0.062843   \n",
       "28       self_reference_max_shares  0.030208  0.009960   \n",
       "29      self_reference_avg_sharess  0.041030  0.054692   \n",
       "30               weekday_is_monday  0.002686  0.000545   \n",
       "31              weekday_is_tuesday  0.001613  0.001194   \n",
       "32            weekday_is_wednesday  0.001615  0.000000   \n",
       "33             weekday_is_thursday  0.001673  0.000000   \n",
       "34               weekday_is_friday  0.001569  0.000208   \n",
       "35             weekday_is_saturday  0.002728  0.002739   \n",
       "36               weekday_is_sunday  0.002833  0.007515   \n",
       "37                      is_weekend  0.006847  0.014346   \n",
       "38                          LDA_00  0.020804  0.011631   \n",
       "39                          LDA_01  0.023161  0.013032   \n",
       "40                          LDA_02  0.026434  0.013321   \n",
       "41                          LDA_03  0.031946  0.018052   \n",
       "42                          LDA_04  0.020760  0.015857   \n",
       "43             global_subjectivity  0.024900  0.016365   \n",
       "44       global_sentiment_polarity  0.021727  0.009816   \n",
       "45      global_rate_positive_words  0.016072  0.006315   \n",
       "46      global_rate_negative_words  0.018989  0.022647   \n",
       "47             rate_positive_words  0.015974  0.003697   \n",
       "48             rate_negative_words  0.016575  0.005874   \n",
       "49           avg_positive_polarity  0.021852  0.013249   \n",
       "50           min_positive_polarity  0.009277  0.006335   \n",
       "51           max_positive_polarity  0.005966  0.001888   \n",
       "52           avg_negative_polarity  0.018183  0.006827   \n",
       "53           min_negative_polarity  0.008652  0.003295   \n",
       "54           max_negative_polarity  0.013912  0.003929   \n",
       "55              title_subjectivity  0.011303  0.005328   \n",
       "56        title_sentiment_polarity  0.015548  0.008288   \n",
       "57          abs_title_subjectivity  0.007690  0.004713   \n",
       "58    abs_title_sentiment_polarity  0.011822  0.008201   \n",
       "\n",
       "                         variables  \n",
       "0                        timedelta  \n",
       "1                   n_tokens_title  \n",
       "2                 n_tokens_content  \n",
       "3                  n_unique_tokens  \n",
       "4                 n_non_stop_words  \n",
       "5         n_non_stop_unique_tokens  \n",
       "6                        num_hrefs  \n",
       "7                   num_self_hrefs  \n",
       "8                         num_imgs  \n",
       "9                       num_videos  \n",
       "10            average_token_length  \n",
       "11                    num_keywords  \n",
       "12       data_channel_is_lifestyle  \n",
       "13   data_channel_is_entertainment  \n",
       "14             data_channel_is_bus  \n",
       "15          data_channel_is_socmed  \n",
       "16            data_channel_is_tech  \n",
       "17           data_channel_is_world  \n",
       "18                      kw_min_min  \n",
       "19                      kw_max_min  \n",
       "20                      kw_avg_min  \n",
       "21                      kw_min_max  \n",
       "22                      kw_max_max  \n",
       "23                      kw_avg_max  \n",
       "24                      kw_min_avg  \n",
       "25                      kw_max_avg  \n",
       "26                      kw_avg_avg  \n",
       "27       self_reference_min_shares  \n",
       "28       self_reference_max_shares  \n",
       "29      self_reference_avg_sharess  \n",
       "30               weekday_is_monday  \n",
       "31              weekday_is_tuesday  \n",
       "32            weekday_is_wednesday  \n",
       "33             weekday_is_thursday  \n",
       "34               weekday_is_friday  \n",
       "35             weekday_is_saturday  \n",
       "36               weekday_is_sunday  \n",
       "37                      is_weekend  \n",
       "38                          LDA_00  \n",
       "39                          LDA_01  \n",
       "40                          LDA_02  \n",
       "41                          LDA_03  \n",
       "42                          LDA_04  \n",
       "43             global_subjectivity  \n",
       "44       global_sentiment_polarity  \n",
       "45      global_rate_positive_words  \n",
       "46      global_rate_negative_words  \n",
       "47             rate_positive_words  \n",
       "48             rate_negative_words  \n",
       "49           avg_positive_polarity  \n",
       "50           min_positive_polarity  \n",
       "51           max_positive_polarity  \n",
       "52           avg_negative_polarity  \n",
       "53           min_negative_polarity  \n",
       "54           max_negative_polarity  \n",
       "55              title_subjectivity  \n",
       "56        title_sentiment_polarity  \n",
       "57          abs_title_subjectivity  \n",
       "58    abs_title_sentiment_polarity  "
      ]
     },
     "execution_count": 136,
     "metadata": {},
     "output_type": "execute_result"
    }
   ],
   "source": [
    "feature_importance_df= pd.concat(objs=[df,df_1],axis=1)\n",
    "feature_importance_df"
   ]
  },
  {
   "cell_type": "code",
   "execution_count": 111,
   "metadata": {},
   "outputs": [],
   "source": [
    "feature_importance_df.columns=['Variables_rf','Score_rf','score_gb','Variables_gb']\n",
    "feature_importance_df=feature_importance_df.sort_values('Score_rf',ascending=False).reset_index(drop=True)"
   ]
  },
  {
   "cell_type": "code",
   "execution_count": 112,
   "metadata": {},
   "outputs": [
    {
     "data": {
      "text/plain": [
       "0.813927088739073"
      ]
     },
     "execution_count": 112,
     "metadata": {},
     "output_type": "execute_result"
    }
   ],
   "source": [
    "np.sum(feature_importance_df['score_gb'][0:25])"
   ]
  },
  {
   "cell_type": "code",
   "execution_count": 113,
   "metadata": {},
   "outputs": [],
   "source": [
    "select_columns=df_1.sort_values('score',ascending=False)['variables'][0:25]"
   ]
  },
  {
   "cell_type": "code",
   "execution_count": 114,
   "metadata": {},
   "outputs": [],
   "source": [
    "X_train_select,X_test_select,y_train_select,y_test_select=train_test_split(data[select_columns.reset_index()['variables']],\n",
    "                                                                           y,test_size=0.2,random_state=23)"
   ]
  },
  {
   "cell_type": "code",
   "execution_count": 115,
   "metadata": {},
   "outputs": [
    {
     "name": "stdout",
     "output_type": "stream",
     "text": [
      "Fitting 3 folds for each of 8 candidates, totalling 24 fits\n"
     ]
    },
    {
     "name": "stderr",
     "output_type": "stream",
     "text": [
      "/opt/conda/lib/python3.6/site-packages/sklearn/model_selection/_search.py:281: UserWarning: The total space of parameters 8 is smaller than n_iter=10. Running 8 iterations. For exhaustive searches, use GridSearchCV.\n",
      "  % (grid_size, self.n_iter, grid_size), UserWarning)\n",
      "[Parallel(n_jobs=-1)]: Using backend LokyBackend with 4 concurrent workers.\n",
      "[Parallel(n_jobs=-1)]: Done  24 out of  24 | elapsed:  6.6min finished\n"
     ]
    }
   ],
   "source": [
    "grad_randomsearch_select= RandomizedSearchCV(GradientBoostingRegressor(),param_distributions=param_gradboost,cv=3,\n",
    "                                      scoring='neg_mean_absolute_error',n_jobs=-1,verbose=1)\n",
    "grad_fit_select=grad_randomsearch_select.fit(X_train_select,y_train_select)\n",
    "best_param_grad_select= grad_fit_select.best_params_"
   ]
  },
  {
   "cell_type": "code",
   "execution_count": 116,
   "metadata": {},
   "outputs": [
    {
     "data": {
      "text/html": [
       "<div>\n",
       "<style scoped>\n",
       "    .dataframe tbody tr th:only-of-type {\n",
       "        vertical-align: middle;\n",
       "    }\n",
       "\n",
       "    .dataframe tbody tr th {\n",
       "        vertical-align: top;\n",
       "    }\n",
       "\n",
       "    .dataframe thead th {\n",
       "        text-align: right;\n",
       "    }\n",
       "</style>\n",
       "<table border=\"1\" class=\"dataframe\">\n",
       "  <thead>\n",
       "    <tr style=\"text-align: right;\">\n",
       "      <th></th>\n",
       "      <th>mean_fit_time</th>\n",
       "      <th>std_fit_time</th>\n",
       "      <th>mean_score_time</th>\n",
       "      <th>std_score_time</th>\n",
       "      <th>param_n_estimators</th>\n",
       "      <th>param_max_depth</th>\n",
       "      <th>param_learning_rate</th>\n",
       "      <th>params</th>\n",
       "      <th>split0_test_score</th>\n",
       "      <th>split1_test_score</th>\n",
       "      <th>split2_test_score</th>\n",
       "      <th>mean_test_score</th>\n",
       "      <th>std_test_score</th>\n",
       "      <th>rank_test_score</th>\n",
       "    </tr>\n",
       "  </thead>\n",
       "  <tbody>\n",
       "    <tr>\n",
       "      <th>0</th>\n",
       "      <td>33.490398</td>\n",
       "      <td>0.169927</td>\n",
       "      <td>0.041629</td>\n",
       "      <td>0.002988</td>\n",
       "      <td>100</td>\n",
       "      <td>5</td>\n",
       "      <td>0.1</td>\n",
       "      <td>{'n_estimators': 100, 'max_depth': 5, 'learnin...</td>\n",
       "      <td>-1928.009316</td>\n",
       "      <td>-1901.167848</td>\n",
       "      <td>-1907.082429</td>\n",
       "      <td>-1912.086531</td>\n",
       "      <td>11.515117</td>\n",
       "      <td>1</td>\n",
       "    </tr>\n",
       "    <tr>\n",
       "      <th>1</th>\n",
       "      <td>50.370753</td>\n",
       "      <td>0.196524</td>\n",
       "      <td>0.052145</td>\n",
       "      <td>0.001182</td>\n",
       "      <td>150</td>\n",
       "      <td>5</td>\n",
       "      <td>0.1</td>\n",
       "      <td>{'n_estimators': 150, 'max_depth': 5, 'learnin...</td>\n",
       "      <td>-1931.744091</td>\n",
       "      <td>-1906.871909</td>\n",
       "      <td>-1912.816715</td>\n",
       "      <td>-1917.144238</td>\n",
       "      <td>10.605091</td>\n",
       "      <td>2</td>\n",
       "    </tr>\n",
       "    <tr>\n",
       "      <th>2</th>\n",
       "      <td>64.933586</td>\n",
       "      <td>0.126905</td>\n",
       "      <td>0.076125</td>\n",
       "      <td>0.006625</td>\n",
       "      <td>100</td>\n",
       "      <td>10</td>\n",
       "      <td>0.1</td>\n",
       "      <td>{'n_estimators': 100, 'max_depth': 10, 'learni...</td>\n",
       "      <td>-2014.210778</td>\n",
       "      <td>-1986.572479</td>\n",
       "      <td>-2017.798858</td>\n",
       "      <td>-2006.194038</td>\n",
       "      <td>13.951649</td>\n",
       "      <td>5</td>\n",
       "    </tr>\n",
       "    <tr>\n",
       "      <th>3</th>\n",
       "      <td>97.777433</td>\n",
       "      <td>0.228197</td>\n",
       "      <td>0.106105</td>\n",
       "      <td>0.001539</td>\n",
       "      <td>150</td>\n",
       "      <td>10</td>\n",
       "      <td>0.1</td>\n",
       "      <td>{'n_estimators': 150, 'max_depth': 10, 'learni...</td>\n",
       "      <td>-2038.158346</td>\n",
       "      <td>-2010.618416</td>\n",
       "      <td>-2036.429087</td>\n",
       "      <td>-2028.401950</td>\n",
       "      <td>12.594658</td>\n",
       "      <td>6</td>\n",
       "    </tr>\n",
       "    <tr>\n",
       "      <th>4</th>\n",
       "      <td>33.452077</td>\n",
       "      <td>0.407724</td>\n",
       "      <td>0.035615</td>\n",
       "      <td>0.000982</td>\n",
       "      <td>100</td>\n",
       "      <td>5</td>\n",
       "      <td>0.2</td>\n",
       "      <td>{'n_estimators': 100, 'max_depth': 5, 'learnin...</td>\n",
       "      <td>-1961.601791</td>\n",
       "      <td>-1923.484986</td>\n",
       "      <td>-1934.711803</td>\n",
       "      <td>-1939.932860</td>\n",
       "      <td>15.993067</td>\n",
       "      <td>3</td>\n",
       "    </tr>\n",
       "    <tr>\n",
       "      <th>5</th>\n",
       "      <td>50.384850</td>\n",
       "      <td>0.138017</td>\n",
       "      <td>0.048939</td>\n",
       "      <td>0.000592</td>\n",
       "      <td>150</td>\n",
       "      <td>5</td>\n",
       "      <td>0.2</td>\n",
       "      <td>{'n_estimators': 150, 'max_depth': 5, 'learnin...</td>\n",
       "      <td>-1980.547654</td>\n",
       "      <td>-1949.743272</td>\n",
       "      <td>-1953.131706</td>\n",
       "      <td>-1961.140877</td>\n",
       "      <td>13.792210</td>\n",
       "      <td>4</td>\n",
       "    </tr>\n",
       "    <tr>\n",
       "      <th>6</th>\n",
       "      <td>65.128886</td>\n",
       "      <td>0.159579</td>\n",
       "      <td>0.070471</td>\n",
       "      <td>0.001508</td>\n",
       "      <td>100</td>\n",
       "      <td>10</td>\n",
       "      <td>0.2</td>\n",
       "      <td>{'n_estimators': 100, 'max_depth': 10, 'learni...</td>\n",
       "      <td>-2106.017054</td>\n",
       "      <td>-2064.545185</td>\n",
       "      <td>-2083.578449</td>\n",
       "      <td>-2084.713562</td>\n",
       "      <td>16.949835</td>\n",
       "      <td>7</td>\n",
       "    </tr>\n",
       "    <tr>\n",
       "      <th>7</th>\n",
       "      <td>87.674157</td>\n",
       "      <td>6.088814</td>\n",
       "      <td>0.081326</td>\n",
       "      <td>0.000714</td>\n",
       "      <td>150</td>\n",
       "      <td>10</td>\n",
       "      <td>0.2</td>\n",
       "      <td>{'n_estimators': 150, 'max_depth': 10, 'learni...</td>\n",
       "      <td>-2114.620605</td>\n",
       "      <td>-2078.294417</td>\n",
       "      <td>-2107.312047</td>\n",
       "      <td>-2100.075690</td>\n",
       "      <td>15.688034</td>\n",
       "      <td>8</td>\n",
       "    </tr>\n",
       "  </tbody>\n",
       "</table>\n",
       "</div>"
      ],
      "text/plain": [
       "   mean_fit_time  std_fit_time  mean_score_time  std_score_time  \\\n",
       "0      33.490398      0.169927         0.041629        0.002988   \n",
       "1      50.370753      0.196524         0.052145        0.001182   \n",
       "2      64.933586      0.126905         0.076125        0.006625   \n",
       "3      97.777433      0.228197         0.106105        0.001539   \n",
       "4      33.452077      0.407724         0.035615        0.000982   \n",
       "5      50.384850      0.138017         0.048939        0.000592   \n",
       "6      65.128886      0.159579         0.070471        0.001508   \n",
       "7      87.674157      6.088814         0.081326        0.000714   \n",
       "\n",
       "  param_n_estimators param_max_depth param_learning_rate  \\\n",
       "0                100               5                 0.1   \n",
       "1                150               5                 0.1   \n",
       "2                100              10                 0.1   \n",
       "3                150              10                 0.1   \n",
       "4                100               5                 0.2   \n",
       "5                150               5                 0.2   \n",
       "6                100              10                 0.2   \n",
       "7                150              10                 0.2   \n",
       "\n",
       "                                              params  split0_test_score  \\\n",
       "0  {'n_estimators': 100, 'max_depth': 5, 'learnin...       -1928.009316   \n",
       "1  {'n_estimators': 150, 'max_depth': 5, 'learnin...       -1931.744091   \n",
       "2  {'n_estimators': 100, 'max_depth': 10, 'learni...       -2014.210778   \n",
       "3  {'n_estimators': 150, 'max_depth': 10, 'learni...       -2038.158346   \n",
       "4  {'n_estimators': 100, 'max_depth': 5, 'learnin...       -1961.601791   \n",
       "5  {'n_estimators': 150, 'max_depth': 5, 'learnin...       -1980.547654   \n",
       "6  {'n_estimators': 100, 'max_depth': 10, 'learni...       -2106.017054   \n",
       "7  {'n_estimators': 150, 'max_depth': 10, 'learni...       -2114.620605   \n",
       "\n",
       "   split1_test_score  split2_test_score  mean_test_score  std_test_score  \\\n",
       "0       -1901.167848       -1907.082429     -1912.086531       11.515117   \n",
       "1       -1906.871909       -1912.816715     -1917.144238       10.605091   \n",
       "2       -1986.572479       -2017.798858     -2006.194038       13.951649   \n",
       "3       -2010.618416       -2036.429087     -2028.401950       12.594658   \n",
       "4       -1923.484986       -1934.711803     -1939.932860       15.993067   \n",
       "5       -1949.743272       -1953.131706     -1961.140877       13.792210   \n",
       "6       -2064.545185       -2083.578449     -2084.713562       16.949835   \n",
       "7       -2078.294417       -2107.312047     -2100.075690       15.688034   \n",
       "\n",
       "   rank_test_score  \n",
       "0                1  \n",
       "1                2  \n",
       "2                5  \n",
       "3                6  \n",
       "4                3  \n",
       "5                4  \n",
       "6                7  \n",
       "7                8  "
      ]
     },
     "execution_count": 116,
     "metadata": {},
     "output_type": "execute_result"
    }
   ],
   "source": [
    "pd.DataFrame(grad_fit_select.cv_results_)"
   ]
  },
  {
   "cell_type": "code",
   "execution_count": 117,
   "metadata": {},
   "outputs": [
    {
     "data": {
      "text/plain": [
       "{'n_estimators': 100, 'max_depth': 5, 'learning_rate': 0.1}"
      ]
     },
     "execution_count": 117,
     "metadata": {},
     "output_type": "execute_result"
    }
   ],
   "source": [
    "best_param_grad_select"
   ]
  },
  {
   "cell_type": "code",
   "execution_count": 118,
   "metadata": {},
   "outputs": [],
   "source": [
    "gbr_select= GradientBoostingRegressor(n_estimators=100,max_depth=5,learning_rate=0.1)"
   ]
  },
  {
   "cell_type": "code",
   "execution_count": 119,
   "metadata": {},
   "outputs": [],
   "source": [
    "grad_result_select= gbr_select.fit(X_train_select,y_train_select)"
   ]
  },
  {
   "cell_type": "code",
   "execution_count": 120,
   "metadata": {},
   "outputs": [],
   "source": [
    "scores_boosting_select= cross_val_score(gbr_select,X_train_select,y_train_select,scoring='neg_mean_absolute_error',cv=5)"
   ]
  },
  {
   "cell_type": "code",
   "execution_count": 121,
   "metadata": {},
   "outputs": [],
   "source": [
    "absolute_scores_boosting_select= - scores_boosting_select.mean()"
   ]
  },
  {
   "cell_type": "code",
   "execution_count": 122,
   "metadata": {},
   "outputs": [],
   "source": [
    "y_pred_gbr_select=gbr_select.predict(X_test_select)\n",
    "test_score_gbr_select= mean_absolute_error(y_test_select,y_pred_gbr_select)"
   ]
  },
  {
   "cell_type": "code",
   "execution_count": 123,
   "metadata": {},
   "outputs": [
    {
     "data": {
      "text/html": [
       "<div>\n",
       "<style scoped>\n",
       "    .dataframe tbody tr th:only-of-type {\n",
       "        vertical-align: middle;\n",
       "    }\n",
       "\n",
       "    .dataframe tbody tr th {\n",
       "        vertical-align: top;\n",
       "    }\n",
       "\n",
       "    .dataframe thead th {\n",
       "        text-align: right;\n",
       "    }\n",
       "</style>\n",
       "<table border=\"1\" class=\"dataframe\">\n",
       "  <thead>\n",
       "    <tr style=\"text-align: right;\">\n",
       "      <th></th>\n",
       "      <th>train_mae_score</th>\n",
       "      <th>test_mae_score</th>\n",
       "    </tr>\n",
       "  </thead>\n",
       "  <tbody>\n",
       "    <tr>\n",
       "      <th>Mean</th>\n",
       "      <td>1905.996784</td>\n",
       "      <td>1933.00814</td>\n",
       "    </tr>\n",
       "  </tbody>\n",
       "</table>\n",
       "</div>"
      ],
      "text/plain": [
       "      train_mae_score  test_mae_score\n",
       "Mean      1905.996784      1933.00814"
      ]
     },
     "execution_count": 123,
     "metadata": {},
     "output_type": "execute_result"
    }
   ],
   "source": [
    "pd.DataFrame({'train_mae_score':[absolute_scores_boosting_select],\n",
    "             'test_mae_score':[test_score_gbr_select]},index=['Mean'])"
   ]
  },
  {
   "cell_type": "code",
   "execution_count": 124,
   "metadata": {},
   "outputs": [],
   "source": [
    "train_sizes,train_scores_select,validation_scores_select= learning_curve(gbr_select,X=X_train_select,\n",
    "                                                                         y=y_train_select,train_sizes=train_sizes,\n",
    "                                                                           cv=5,scoring='neg_mean_absolute_error')"
   ]
  },
  {
   "cell_type": "code",
   "execution_count": 125,
   "metadata": {},
   "outputs": [],
   "source": [
    "train_scores_mean_select= -train_scores_select.mean(axis=1)\n",
    "validation_scores_mean_select=-validation_scores_select.mean(axis=1)"
   ]
  },
  {
   "cell_type": "code",
   "execution_count": 126,
   "metadata": {},
   "outputs": [
    {
     "data": {
      "text/plain": [
       "<matplotlib.legend.Legend at 0x7f619052c860>"
      ]
     },
     "execution_count": 126,
     "metadata": {},
     "output_type": "execute_result"
    },
    {
     "data": {
      "image/png": "[encoded data removed]",
      "text/plain": [
       "<Figure size 432x288 with 1 Axes>"
      ]
     },
     "metadata": {
      "needs_background": "light"
     },
     "output_type": "display_data"
    }
   ],
   "source": [
    "plt.plot(train_sizes, train_scores_mean_select, label = 'Training error PCA')\n",
    "plt.plot(train_sizes, validation_scores_mean_select, label = 'Validation error PCA')\n",
    "plt.ylabel('MAE', fontsize = 14)\n",
    "plt.xlabel('Training set size', fontsize = 14)\n",
    "plt.title('Learning curves for a gradient boosting regression model', fontsize = 18, y = 1.03)\n",
    "plt.legend()"
   ]
  },
  {
   "cell_type": "markdown",
   "metadata": {},
   "source": [
    "### Comparison of all Scores and Models:"
   ]
  },
  {
   "cell_type": "code",
   "execution_count": 127,
   "metadata": {},
   "outputs": [],
   "source": [
    "Comparison_df= pd.DataFrame({'Training_Scores':[absolute_scores,absolute_scores_1,\n",
    "                                                absolute_scores_boosting,absolute_scores_boosting_select],\n",
    "                            'Test_Scores':[test_score,test_score_pca,test_score_gbr,test_score_gbr_select]},\n",
    "                            index=['Rf','Rf_PCA','gbr','gbr_select'])"
   ]
  },
  {
   "cell_type": "code",
   "execution_count": 128,
   "metadata": {},
   "outputs": [],
   "source": [
    "Comparison_df['Variance']=np.subtract(Comparison_df['Training_Scores'],Comparison_df['Test_Scores'])"
   ]
  },
  {
   "cell_type": "code",
   "execution_count": 129,
   "metadata": {},
   "outputs": [],
   "source": [
    "Comparison_df=Comparison_df.sort_values('Training_Scores')"
   ]
  },
  {
   "cell_type": "code",
   "execution_count": 130,
   "metadata": {},
   "outputs": [
    {
     "data": {
      "text/html": [
       "<div>\n",
       "<style scoped>\n",
       "    .dataframe tbody tr th:only-of-type {\n",
       "        vertical-align: middle;\n",
       "    }\n",
       "\n",
       "    .dataframe tbody tr th {\n",
       "        vertical-align: top;\n",
       "    }\n",
       "\n",
       "    .dataframe thead th {\n",
       "        text-align: right;\n",
       "    }\n",
       "</style>\n",
       "<table border=\"1\" class=\"dataframe\">\n",
       "  <thead>\n",
       "    <tr style=\"text-align: right;\">\n",
       "      <th></th>\n",
       "      <th>Training_Scores</th>\n",
       "      <th>Test_Scores</th>\n",
       "      <th>Variance</th>\n",
       "    </tr>\n",
       "  </thead>\n",
       "  <tbody>\n",
       "    <tr>\n",
       "      <th>gbr_select</th>\n",
       "      <td>1905.996784</td>\n",
       "      <td>1933.008140</td>\n",
       "      <td>-27.011356</td>\n",
       "    </tr>\n",
       "    <tr>\n",
       "      <th>Rf</th>\n",
       "      <td>1917.978131</td>\n",
       "      <td>1944.356552</td>\n",
       "      <td>-26.378421</td>\n",
       "    </tr>\n",
       "    <tr>\n",
       "      <th>gbr</th>\n",
       "      <td>1928.327178</td>\n",
       "      <td>1952.796372</td>\n",
       "      <td>-24.469194</td>\n",
       "    </tr>\n",
       "    <tr>\n",
       "      <th>Rf_PCA</th>\n",
       "      <td>2038.648742</td>\n",
       "      <td>2068.501312</td>\n",
       "      <td>-29.852569</td>\n",
       "    </tr>\n",
       "  </tbody>\n",
       "</table>\n",
       "</div>"
      ],
      "text/plain": [
       "            Training_Scores  Test_Scores   Variance\n",
       "gbr_select      1905.996784  1933.008140 -27.011356\n",
       "Rf              1917.978131  1944.356552 -26.378421\n",
       "gbr             1928.327178  1952.796372 -24.469194\n",
       "Rf_PCA          2038.648742  2068.501312 -29.852569"
      ]
     },
     "execution_count": 130,
     "metadata": {},
     "output_type": "execute_result"
    }
   ],
   "source": [
    "Comparison_df"
   ]
  },
  {
   "cell_type": "markdown",
   "metadata": {},
   "source": [
    "# 3(e). Stacking"
   ]
  },
  {
   "cell_type": "markdown",
   "metadata": {},
   "source": [
    "From above comaprison, we are going to create a new dataset through predictions of the four models."
   ]
  },
  {
   "cell_type": "code",
   "execution_count": 131,
   "metadata": {},
   "outputs": [
    {
     "data": {
      "text/html": [
       "<div>\n",
       "<style scoped>\n",
       "    .dataframe tbody tr th:only-of-type {\n",
       "        vertical-align: middle;\n",
       "    }\n",
       "\n",
       "    .dataframe tbody tr th {\n",
       "        vertical-align: top;\n",
       "    }\n",
       "\n",
       "    .dataframe thead th {\n",
       "        text-align: right;\n",
       "    }\n",
       "</style>\n",
       "<table border=\"1\" class=\"dataframe\">\n",
       "  <thead>\n",
       "    <tr style=\"text-align: right;\">\n",
       "      <th></th>\n",
       "      <th>url</th>\n",
       "      <th>timedelta</th>\n",
       "      <th>n_tokens_title</th>\n",
       "      <th>n_tokens_content</th>\n",
       "      <th>n_unique_tokens</th>\n",
       "      <th>n_non_stop_words</th>\n",
       "      <th>n_non_stop_unique_tokens</th>\n",
       "      <th>num_hrefs</th>\n",
       "      <th>num_self_hrefs</th>\n",
       "      <th>num_imgs</th>\n",
       "      <th>...</th>\n",
       "      <th>max_positive_polarity</th>\n",
       "      <th>avg_negative_polarity</th>\n",
       "      <th>min_negative_polarity</th>\n",
       "      <th>max_negative_polarity</th>\n",
       "      <th>title_subjectivity</th>\n",
       "      <th>title_sentiment_polarity</th>\n",
       "      <th>abs_title_subjectivity</th>\n",
       "      <th>abs_title_sentiment_polarity</th>\n",
       "      <th>shares</th>\n",
       "      <th>date</th>\n",
       "    </tr>\n",
       "  </thead>\n",
       "  <tbody>\n",
       "    <tr>\n",
       "      <th>0</th>\n",
       "      <td>http://mashable.com/2013/01/07/amazon-instant-...</td>\n",
       "      <td>731.0</td>\n",
       "      <td>12.0</td>\n",
       "      <td>219.0</td>\n",
       "      <td>0.663594</td>\n",
       "      <td>1.0</td>\n",
       "      <td>0.815385</td>\n",
       "      <td>4.0</td>\n",
       "      <td>2.0</td>\n",
       "      <td>1.0</td>\n",
       "      <td>...</td>\n",
       "      <td>0.7</td>\n",
       "      <td>-0.350000</td>\n",
       "      <td>-0.600</td>\n",
       "      <td>-0.200000</td>\n",
       "      <td>0.500000</td>\n",
       "      <td>-0.187500</td>\n",
       "      <td>0.000000</td>\n",
       "      <td>0.187500</td>\n",
       "      <td>593</td>\n",
       "      <td>2013-01-07</td>\n",
       "    </tr>\n",
       "    <tr>\n",
       "      <th>1</th>\n",
       "      <td>http://mashable.com/2013/01/07/ap-samsung-spon...</td>\n",
       "      <td>731.0</td>\n",
       "      <td>9.0</td>\n",
       "      <td>255.0</td>\n",
       "      <td>0.604743</td>\n",
       "      <td>1.0</td>\n",
       "      <td>0.791946</td>\n",
       "      <td>3.0</td>\n",
       "      <td>1.0</td>\n",
       "      <td>1.0</td>\n",
       "      <td>...</td>\n",
       "      <td>0.7</td>\n",
       "      <td>-0.118750</td>\n",
       "      <td>-0.125</td>\n",
       "      <td>-0.100000</td>\n",
       "      <td>0.000000</td>\n",
       "      <td>0.000000</td>\n",
       "      <td>0.500000</td>\n",
       "      <td>0.000000</td>\n",
       "      <td>711</td>\n",
       "      <td>2013-01-07</td>\n",
       "    </tr>\n",
       "    <tr>\n",
       "      <th>2</th>\n",
       "      <td>http://mashable.com/2013/01/07/apple-40-billio...</td>\n",
       "      <td>731.0</td>\n",
       "      <td>9.0</td>\n",
       "      <td>211.0</td>\n",
       "      <td>0.575130</td>\n",
       "      <td>1.0</td>\n",
       "      <td>0.663866</td>\n",
       "      <td>3.0</td>\n",
       "      <td>1.0</td>\n",
       "      <td>1.0</td>\n",
       "      <td>...</td>\n",
       "      <td>1.0</td>\n",
       "      <td>-0.466667</td>\n",
       "      <td>-0.800</td>\n",
       "      <td>-0.133333</td>\n",
       "      <td>0.000000</td>\n",
       "      <td>0.000000</td>\n",
       "      <td>0.500000</td>\n",
       "      <td>0.000000</td>\n",
       "      <td>1500</td>\n",
       "      <td>2013-01-07</td>\n",
       "    </tr>\n",
       "    <tr>\n",
       "      <th>3</th>\n",
       "      <td>http://mashable.com/2013/01/07/astronaut-notre...</td>\n",
       "      <td>731.0</td>\n",
       "      <td>9.0</td>\n",
       "      <td>531.0</td>\n",
       "      <td>0.503788</td>\n",
       "      <td>1.0</td>\n",
       "      <td>0.665635</td>\n",
       "      <td>9.0</td>\n",
       "      <td>0.0</td>\n",
       "      <td>1.0</td>\n",
       "      <td>...</td>\n",
       "      <td>0.8</td>\n",
       "      <td>-0.369697</td>\n",
       "      <td>-0.600</td>\n",
       "      <td>-0.166667</td>\n",
       "      <td>0.000000</td>\n",
       "      <td>0.000000</td>\n",
       "      <td>0.500000</td>\n",
       "      <td>0.000000</td>\n",
       "      <td>1200</td>\n",
       "      <td>2013-01-07</td>\n",
       "    </tr>\n",
       "    <tr>\n",
       "      <th>4</th>\n",
       "      <td>http://mashable.com/2013/01/07/att-u-verse-apps/</td>\n",
       "      <td>731.0</td>\n",
       "      <td>13.0</td>\n",
       "      <td>1072.0</td>\n",
       "      <td>0.415646</td>\n",
       "      <td>1.0</td>\n",
       "      <td>0.540890</td>\n",
       "      <td>19.0</td>\n",
       "      <td>19.0</td>\n",
       "      <td>20.0</td>\n",
       "      <td>...</td>\n",
       "      <td>1.0</td>\n",
       "      <td>-0.220192</td>\n",
       "      <td>-0.500</td>\n",
       "      <td>-0.050000</td>\n",
       "      <td>0.454545</td>\n",
       "      <td>0.136364</td>\n",
       "      <td>0.045455</td>\n",
       "      <td>0.136364</td>\n",
       "      <td>505</td>\n",
       "      <td>2013-01-07</td>\n",
       "    </tr>\n",
       "  </tbody>\n",
       "</table>\n",
       "<p>5 rows × 62 columns</p>\n",
       "</div>"
      ],
      "text/plain": [
       "                                                 url   timedelta  \\\n",
       "0  http://mashable.com/2013/01/07/amazon-instant-...       731.0   \n",
       "1  http://mashable.com/2013/01/07/ap-samsung-spon...       731.0   \n",
       "2  http://mashable.com/2013/01/07/apple-40-billio...       731.0   \n",
       "3  http://mashable.com/2013/01/07/astronaut-notre...       731.0   \n",
       "4   http://mashable.com/2013/01/07/att-u-verse-apps/       731.0   \n",
       "\n",
       "    n_tokens_title   n_tokens_content   n_unique_tokens   n_non_stop_words  \\\n",
       "0             12.0              219.0          0.663594                1.0   \n",
       "1              9.0              255.0          0.604743                1.0   \n",
       "2              9.0              211.0          0.575130                1.0   \n",
       "3              9.0              531.0          0.503788                1.0   \n",
       "4             13.0             1072.0          0.415646                1.0   \n",
       "\n",
       "    n_non_stop_unique_tokens   num_hrefs   num_self_hrefs   num_imgs  ...  \\\n",
       "0                   0.815385         4.0              2.0        1.0  ...   \n",
       "1                   0.791946         3.0              1.0        1.0  ...   \n",
       "2                   0.663866         3.0              1.0        1.0  ...   \n",
       "3                   0.665635         9.0              0.0        1.0  ...   \n",
       "4                   0.540890        19.0             19.0       20.0  ...   \n",
       "\n",
       "    max_positive_polarity   avg_negative_polarity   min_negative_polarity  \\\n",
       "0                     0.7               -0.350000                  -0.600   \n",
       "1                     0.7               -0.118750                  -0.125   \n",
       "2                     1.0               -0.466667                  -0.800   \n",
       "3                     0.8               -0.369697                  -0.600   \n",
       "4                     1.0               -0.220192                  -0.500   \n",
       "\n",
       "    max_negative_polarity   title_subjectivity   title_sentiment_polarity  \\\n",
       "0               -0.200000             0.500000                  -0.187500   \n",
       "1               -0.100000             0.000000                   0.000000   \n",
       "2               -0.133333             0.000000                   0.000000   \n",
       "3               -0.166667             0.000000                   0.000000   \n",
       "4               -0.050000             0.454545                   0.136364   \n",
       "\n",
       "    abs_title_subjectivity   abs_title_sentiment_polarity   shares       date  \n",
       "0                 0.000000                       0.187500      593 2013-01-07  \n",
       "1                 0.500000                       0.000000      711 2013-01-07  \n",
       "2                 0.500000                       0.000000     1500 2013-01-07  \n",
       "3                 0.500000                       0.000000     1200 2013-01-07  \n",
       "4                 0.045455                       0.136364      505 2013-01-07  \n",
       "\n",
       "[5 rows x 62 columns]"
      ]
     },
     "execution_count": 131,
     "metadata": {},
     "output_type": "execute_result"
    }
   ],
   "source": [
    "data.head()"
   ]
  },
  {
   "cell_type": "code",
   "execution_count": 141,
   "metadata": {},
   "outputs": [],
   "source": [
    "X1= rf.predict(pca_data)\n",
    "X2=rf_pca.predict(pca_final_data)\n",
    "X3=gbr.predict(pca_data_gbr)\n",
    "X4=gbr_select.predict(data[select_columns.reset_index()['variables']])"
   ]
  },
  {
   "cell_type": "markdown",
   "metadata": {},
   "source": [
    "### __To Train the final model on large datasets we had to use whole datasets for prediction here___"
   ]
  },
  {
   "cell_type": "code",
   "execution_count": 142,
   "metadata": {},
   "outputs": [
    {
     "data": {
      "text/html": [
       "<div>\n",
       "<style scoped>\n",
       "    .dataframe tbody tr th:only-of-type {\n",
       "        vertical-align: middle;\n",
       "    }\n",
       "\n",
       "    .dataframe tbody tr th {\n",
       "        vertical-align: top;\n",
       "    }\n",
       "\n",
       "    .dataframe thead th {\n",
       "        text-align: right;\n",
       "    }\n",
       "</style>\n",
       "<table border=\"1\" class=\"dataframe\">\n",
       "  <thead>\n",
       "    <tr style=\"text-align: right;\">\n",
       "      <th></th>\n",
       "      <th>Random_Forest</th>\n",
       "      <th>Random_Forest_PCA</th>\n",
       "      <th>GBR</th>\n",
       "      <th>GBR_select</th>\n",
       "      <th>Target</th>\n",
       "    </tr>\n",
       "  </thead>\n",
       "  <tbody>\n",
       "    <tr>\n",
       "      <th>0</th>\n",
       "      <td>1801.098048</td>\n",
       "      <td>1644.971911</td>\n",
       "      <td>1738.677713</td>\n",
       "      <td>1663.071099</td>\n",
       "      <td>593</td>\n",
       "    </tr>\n",
       "    <tr>\n",
       "      <th>1</th>\n",
       "      <td>1826.305596</td>\n",
       "      <td>1387.088422</td>\n",
       "      <td>1738.677713</td>\n",
       "      <td>1893.708101</td>\n",
       "      <td>711</td>\n",
       "    </tr>\n",
       "    <tr>\n",
       "      <th>2</th>\n",
       "      <td>1938.152612</td>\n",
       "      <td>1460.529798</td>\n",
       "      <td>1757.019725</td>\n",
       "      <td>1578.719413</td>\n",
       "      <td>1500</td>\n",
       "    </tr>\n",
       "    <tr>\n",
       "      <th>3</th>\n",
       "      <td>1968.769121</td>\n",
       "      <td>1460.722019</td>\n",
       "      <td>1686.774698</td>\n",
       "      <td>1710.320977</td>\n",
       "      <td>1200</td>\n",
       "    </tr>\n",
       "    <tr>\n",
       "      <th>4</th>\n",
       "      <td>2012.856408</td>\n",
       "      <td>1724.354072</td>\n",
       "      <td>2291.999102</td>\n",
       "      <td>2593.234561</td>\n",
       "      <td>505</td>\n",
       "    </tr>\n",
       "  </tbody>\n",
       "</table>\n",
       "</div>"
      ],
      "text/plain": [
       "   Random_Forest  Random_Forest_PCA          GBR   GBR_select  Target\n",
       "0    1801.098048        1644.971911  1738.677713  1663.071099     593\n",
       "1    1826.305596        1387.088422  1738.677713  1893.708101     711\n",
       "2    1938.152612        1460.529798  1757.019725  1578.719413    1500\n",
       "3    1968.769121        1460.722019  1686.774698  1710.320977    1200\n",
       "4    2012.856408        1724.354072  2291.999102  2593.234561     505"
      ]
     },
     "execution_count": 142,
     "metadata": {},
     "output_type": "execute_result"
    }
   ],
   "source": [
    "data_stacking= pd.DataFrame({'Random_Forest':X1,\n",
    "                            'Random_Forest_PCA':X2,\n",
    "                            'GBR':X3,\n",
    "                            \"GBR_select\":X4,\n",
    "                            \"Target\":y})\n",
    "data_stacking.head()"
   ]
  },
  {
   "cell_type": "code",
   "execution_count": 143,
   "metadata": {},
   "outputs": [],
   "source": [
    "from sklearn.linear_model import LinearRegression"
   ]
  },
  {
   "cell_type": "code",
   "execution_count": 144,
   "metadata": {},
   "outputs": [],
   "source": [
    "X_train_stack,X_test_stack,y_train_stack,y_test_stack= train_test_split(\n",
    "    data_stacking[['Random_Forest','Random_Forest_PCA','GBR','GBR_select']],y,test_size=0.2)"
   ]
  },
  {
   "cell_type": "code",
   "execution_count": 145,
   "metadata": {},
   "outputs": [
    {
     "data": {
      "text/plain": [
       "LinearRegression(copy_X=True, fit_intercept=True, n_jobs=None, normalize=False)"
      ]
     },
     "execution_count": 145,
     "metadata": {},
     "output_type": "execute_result"
    }
   ],
   "source": [
    "lr=LinearRegression()\n",
    "lr.fit(X_train_stack,y_train_stack)"
   ]
  },
  {
   "cell_type": "code",
   "execution_count": 146,
   "metadata": {},
   "outputs": [],
   "source": [
    "training_score_lr= cross_val_score(lr,X_train_stack,y_train_stack,scoring='neg_mean_absolute_error',cv=20)\n",
    "absolute_training_lr= -training_score_lr.mean()"
   ]
  },
  {
   "cell_type": "code",
   "execution_count": 147,
   "metadata": {},
   "outputs": [],
   "source": [
    "y_predict_lr= lr.predict(X_test_stack)\n",
    "test_score_lr= mean_absolute_error(y_test_stack,y_predict_lr)"
   ]
  },
  {
   "cell_type": "code",
   "execution_count": 148,
   "metadata": {},
   "outputs": [],
   "source": [
    "train_sizes,train_scores_lr,validation_scores_lr= learning_curve(lr,X=X_train_stack,\n",
    "                                                                         y=y_train_stack,train_sizes=train_sizes,\n",
    "                                                                           cv=10,scoring='neg_mean_absolute_error')"
   ]
  },
  {
   "cell_type": "code",
   "execution_count": 149,
   "metadata": {},
   "outputs": [],
   "source": [
    "train_scores_mean_lr= -train_scores_lr.mean(axis=1)\n",
    "validation_scores_mean_lr=-validation_scores_lr.mean(axis=1)"
   ]
  },
  {
   "cell_type": "code",
   "execution_count": 150,
   "metadata": {},
   "outputs": [
    {
     "data": {
      "text/plain": [
       "<matplotlib.legend.Legend at 0x7f6190477710>"
      ]
     },
     "execution_count": 150,
     "metadata": {},
     "output_type": "execute_result"
    },
    {
     "data": {
      "image/png": "[encoded data removed]",
      "text/plain": [
       "<Figure size 432x288 with 1 Axes>"
      ]
     },
     "metadata": {
      "needs_background": "light"
     },
     "output_type": "display_data"
    }
   ],
   "source": [
    "plt.plot(train_sizes, train_scores_mean_lr, label = 'Training error PCA')\n",
    "plt.plot(train_sizes, validation_scores_mean_lr, label = 'Validation error PCA')\n",
    "plt.ylabel('MAE', fontsize = 14)\n",
    "plt.xlabel('Training set size', fontsize = 14)\n",
    "plt.title('Learning curves for a linear regression model', fontsize = 18, y = 1.03)\n",
    "plt.legend()"
   ]
  },
  {
   "cell_type": "markdown",
   "metadata": {},
   "source": [
    "# Summary:\n",
    "\n",
    "1. First data is explored using data manipulation techniques of Pandas using visualization techniques by matplotlib package\n",
    "\n",
    "2. After that, since there are 52 features, Principal Component Analysis(PCA) was done for dimensionality reduction.\n",
    "\n",
    "3. The first algorithm used is Random Forest Regressor of Sklearn library. It's feature importance was also collected.\n",
    "\n",
    "4. Secondly same algorithm was used on PCA data which resulted in more bias but less variance.\n",
    "\n",
    "5. Gradient Boosting Regressor was then used to decrease bias. Here PCA dataset was used as it has less variance originally.\n",
    "\n",
    "6. Then important features of randomforest were put into Gradient Boosting which proved to be best model of all the four models.\n",
    "\n",
    "7. During all models, parameters were chosen using Randomized CV and training scores were gathered using cross validation.\n",
    "\n",
    "8. Finally Stacking of all four models was done. The upper most algorithm was linear regression which proved to be the most effective modelm"
   ]
  }
 ],
 "metadata": {
  "kernelspec": {
   "display_name": "Python 3 (ipykernel)",
   "language": "python",
   "name": "python3"
  },
  "language_info": {
   "codemirror_mode": {
    "name": "ipython",
    "version": 3
   },
   "file_extension": ".py",
   "mimetype": "text/x-python",
   "name": "python",
   "nbconvert_exporter": "python",
   "pygments_lexer": "ipython3",
   "version": "3.9.7"
  }
 },
 "nbformat": 4,
 "nbformat_minor": 4
}
