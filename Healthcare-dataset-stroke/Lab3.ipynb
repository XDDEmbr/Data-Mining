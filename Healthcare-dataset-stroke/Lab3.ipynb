{
 "cells": [
  {
   "cell_type": "markdown",
   "id": "fb1092b4",
   "metadata": {},
   "source": [
    "# 1. Note:\n",
    "\n",
    "This lab is about Dimensionality Reduction, which is related to Q13 of Assignment 1.\n",
    "\n",
    "Q13: Process dimensionality reduction just using one technique and explain your decision."
   ]
  },
  {
   "cell_type": "markdown",
   "id": "bc8537f7",
   "metadata": {},
   "source": [
    "# 2. Load required modules"
   ]
  },
  {
   "cell_type": "code",
   "execution_count": 1,
   "id": "64bf055a",
   "metadata": {},
   "outputs": [],
   "source": [
    "import pandas as pd\n",
    "import numpy as np\n",
    "import matplotlib.pyplot as plt\n",
    "import seaborn as sns"
   ]
  },
  {
   "cell_type": "markdown",
   "id": "603a80cc",
   "metadata": {},
   "source": [
    "# 3. Load data"
   ]
  },
  {
   "cell_type": "code",
   "execution_count": 2,
   "id": "bc22075f",
   "metadata": {},
   "outputs": [],
   "source": [
    "path = 'healthcare-dataset-stroke-data.csv'\n",
    "df = pd.read_csv(path)"
   ]
  },
  {
   "cell_type": "markdown",
   "id": "6fe92e9e",
   "metadata": {},
   "source": [
    "# 4. Find out basic information"
   ]
  },
  {
   "cell_type": "code",
   "execution_count": 3,
   "id": "256fb900",
   "metadata": {},
   "outputs": [
    {
     "data": {
      "text/html": [
       "<div>\n",
       "<style scoped>\n",
       "    .dataframe tbody tr th:only-of-type {\n",
       "        vertical-align: middle;\n",
       "    }\n",
       "\n",
       "    .dataframe tbody tr th {\n",
       "        vertical-align: top;\n",
       "    }\n",
       "\n",
       "    .dataframe thead th {\n",
       "        text-align: right;\n",
       "    }\n",
       "</style>\n",
       "<table border=\"1\" class=\"dataframe\">\n",
       "  <thead>\n",
       "    <tr style=\"text-align: right;\">\n",
       "      <th></th>\n",
       "      <th>id</th>\n",
       "      <th>gender</th>\n",
       "      <th>age</th>\n",
       "      <th>hypertension</th>\n",
       "      <th>heart_disease</th>\n",
       "      <th>ever_married</th>\n",
       "      <th>work_type</th>\n",
       "      <th>Residence_type</th>\n",
       "      <th>avg_glucose_level</th>\n",
       "      <th>bmi</th>\n",
       "      <th>smoking_status</th>\n",
       "      <th>stroke</th>\n",
       "    </tr>\n",
       "  </thead>\n",
       "  <tbody>\n",
       "    <tr>\n",
       "      <th>0</th>\n",
       "      <td>9046</td>\n",
       "      <td>Male</td>\n",
       "      <td>67.0</td>\n",
       "      <td>0</td>\n",
       "      <td>1</td>\n",
       "      <td>Yes</td>\n",
       "      <td>Private</td>\n",
       "      <td>Urban</td>\n",
       "      <td>228.69</td>\n",
       "      <td>36.6</td>\n",
       "      <td>formerly smoked</td>\n",
       "      <td>1</td>\n",
       "    </tr>\n",
       "    <tr>\n",
       "      <th>1</th>\n",
       "      <td>31112</td>\n",
       "      <td>Male</td>\n",
       "      <td>80.0</td>\n",
       "      <td>0</td>\n",
       "      <td>1</td>\n",
       "      <td>Yes</td>\n",
       "      <td>Private</td>\n",
       "      <td>Rural</td>\n",
       "      <td>105.92</td>\n",
       "      <td>32.5</td>\n",
       "      <td>never smoked</td>\n",
       "      <td>1</td>\n",
       "    </tr>\n",
       "    <tr>\n",
       "      <th>2</th>\n",
       "      <td>56669</td>\n",
       "      <td>Male</td>\n",
       "      <td>81.0</td>\n",
       "      <td>0</td>\n",
       "      <td>0</td>\n",
       "      <td>Yes</td>\n",
       "      <td>Private</td>\n",
       "      <td>Urban</td>\n",
       "      <td>186.21</td>\n",
       "      <td>29.0</td>\n",
       "      <td>formerly smoked</td>\n",
       "      <td>1</td>\n",
       "    </tr>\n",
       "    <tr>\n",
       "      <th>3</th>\n",
       "      <td>53882</td>\n",
       "      <td>Male</td>\n",
       "      <td>74.0</td>\n",
       "      <td>1</td>\n",
       "      <td>1</td>\n",
       "      <td>Yes</td>\n",
       "      <td>Private</td>\n",
       "      <td>Rural</td>\n",
       "      <td>70.09</td>\n",
       "      <td>27.4</td>\n",
       "      <td>never smoked</td>\n",
       "      <td>1</td>\n",
       "    </tr>\n",
       "    <tr>\n",
       "      <th>4</th>\n",
       "      <td>8213</td>\n",
       "      <td>Male</td>\n",
       "      <td>78.0</td>\n",
       "      <td>0</td>\n",
       "      <td>1</td>\n",
       "      <td>Yes</td>\n",
       "      <td>Private</td>\n",
       "      <td>Urban</td>\n",
       "      <td>219.84</td>\n",
       "      <td>NaN</td>\n",
       "      <td>Unknown</td>\n",
       "      <td>1</td>\n",
       "    </tr>\n",
       "  </tbody>\n",
       "</table>\n",
       "</div>"
      ],
      "text/plain": [
       "      id gender   age  hypertension  heart_disease ever_married work_type  \\\n",
       "0   9046   Male  67.0             0              1          Yes   Private   \n",
       "1  31112   Male  80.0             0              1          Yes   Private   \n",
       "2  56669   Male  81.0             0              0          Yes   Private   \n",
       "3  53882   Male  74.0             1              1          Yes   Private   \n",
       "4   8213   Male  78.0             0              1          Yes   Private   \n",
       "\n",
       "  Residence_type  avg_glucose_level   bmi   smoking_status  stroke  \n",
       "0          Urban             228.69  36.6  formerly smoked       1  \n",
       "1          Rural             105.92  32.5     never smoked       1  \n",
       "2          Urban             186.21  29.0  formerly smoked       1  \n",
       "3          Rural              70.09  27.4     never smoked       1  \n",
       "4          Urban             219.84   NaN          Unknown       1  "
      ]
     },
     "execution_count": 3,
     "metadata": {},
     "output_type": "execute_result"
    }
   ],
   "source": [
    "df.head()"
   ]
  },
  {
   "cell_type": "code",
   "execution_count": 4,
   "id": "77d8737a",
   "metadata": {},
   "outputs": [
    {
     "name": "stdout",
     "output_type": "stream",
     "text": [
      "<class 'pandas.core.frame.DataFrame'>\n",
      "RangeIndex: 5109 entries, 0 to 5108\n",
      "Data columns (total 12 columns):\n",
      " #   Column             Non-Null Count  Dtype  \n",
      "---  ------             --------------  -----  \n",
      " 0   id                 5109 non-null   int64  \n",
      " 1   gender             5109 non-null   object \n",
      " 2   age                5109 non-null   float64\n",
      " 3   hypertension       5109 non-null   int64  \n",
      " 4   heart_disease      5109 non-null   int64  \n",
      " 5   ever_married       5109 non-null   object \n",
      " 6   work_type          5109 non-null   object \n",
      " 7   Residence_type     5109 non-null   object \n",
      " 8   avg_glucose_level  5109 non-null   float64\n",
      " 9   bmi                4908 non-null   float64\n",
      " 10  smoking_status     5109 non-null   object \n",
      " 11  stroke             5109 non-null   int64  \n",
      "dtypes: float64(3), int64(4), object(5)\n",
      "memory usage: 479.1+ KB\n"
     ]
    }
   ],
   "source": [
    "df.info()"
   ]
  },
  {
   "cell_type": "code",
   "execution_count": 5,
   "id": "e3c2ce36",
   "metadata": {},
   "outputs": [
    {
     "data": {
      "text/plain": [
       "(5109, 12)"
      ]
     },
     "execution_count": 5,
     "metadata": {},
     "output_type": "execute_result"
    }
   ],
   "source": [
    "df.shape"
   ]
  },
  {
   "cell_type": "code",
   "execution_count": 6,
   "id": "12d9b926",
   "metadata": {},
   "outputs": [
    {
     "data": {
      "text/plain": [
       "0"
      ]
     },
     "execution_count": 6,
     "metadata": {},
     "output_type": "execute_result"
    }
   ],
   "source": [
    "df.duplicated().sum()"
   ]
  },
  {
   "cell_type": "code",
   "execution_count": 7,
   "id": "fb2abe41",
   "metadata": {},
   "outputs": [
    {
     "data": {
      "text/plain": [
       "id                     0\n",
       "gender                 0\n",
       "age                    0\n",
       "hypertension           0\n",
       "heart_disease          0\n",
       "ever_married           0\n",
       "work_type              0\n",
       "Residence_type         0\n",
       "avg_glucose_level      0\n",
       "bmi                  201\n",
       "smoking_status         0\n",
       "stroke                 0\n",
       "dtype: int64"
      ]
     },
     "execution_count": 7,
     "metadata": {},
     "output_type": "execute_result"
    }
   ],
   "source": [
    "df.isnull().sum()"
   ]
  },
  {
   "cell_type": "code",
   "execution_count": 8,
   "id": "bc186f12",
   "metadata": {},
   "outputs": [
    {
     "name": "stdout",
     "output_type": "stream",
     "text": [
      "<class 'pandas.core.frame.DataFrame'>\n",
      "RangeIndex: 5109 entries, 0 to 5108\n",
      "Data columns (total 12 columns):\n",
      " #   Column             Non-Null Count  Dtype   \n",
      "---  ------             --------------  -----   \n",
      " 0   id                 5109 non-null   int64   \n",
      " 1   gender             5109 non-null   category\n",
      " 2   age                5109 non-null   float64 \n",
      " 3   hypertension       5109 non-null   int64   \n",
      " 4   heart_disease      5109 non-null   int64   \n",
      " 5   ever_married       5109 non-null   category\n",
      " 6   work_type          5109 non-null   category\n",
      " 7   Residence_type     5109 non-null   category\n",
      " 8   avg_glucose_level  5109 non-null   float64 \n",
      " 9   bmi                4908 non-null   float64 \n",
      " 10  smoking_status     5109 non-null   category\n",
      " 11  stroke             5109 non-null   int64   \n",
      "dtypes: category(5), float64(3), int64(4)\n",
      "memory usage: 305.2 KB\n"
     ]
    }
   ],
   "source": [
    "for k in range(df.shape[1]):\n",
    "    if df[df.columns[k]].dtypes == 'object':\n",
    "        df[df.columns[k]] = df[df.columns[k]].astype('category')\n",
    "df.info()"
   ]
  },
  {
   "cell_type": "code",
   "execution_count": 9,
   "id": "9c1f625e",
   "metadata": {},
   "outputs": [
    {
     "data": {
      "text/plain": [
       "Female    2994\n",
       "Male      2115\n",
       "Name: gender, dtype: int64"
      ]
     },
     "execution_count": 9,
     "metadata": {},
     "output_type": "execute_result"
    }
   ],
   "source": [
    "df['gender'].value_counts()"
   ]
  },
  {
   "cell_type": "code",
   "execution_count": 10,
   "id": "e81b68c5",
   "metadata": {},
   "outputs": [
    {
     "data": {
      "text/plain": [
       "Yes    3353\n",
       "No     1756\n",
       "Name: ever_married, dtype: int64"
      ]
     },
     "execution_count": 10,
     "metadata": {},
     "output_type": "execute_result"
    }
   ],
   "source": [
    "df['ever_married'].value_counts()"
   ]
  },
  {
   "cell_type": "code",
   "execution_count": 11,
   "id": "e40bbb7e",
   "metadata": {},
   "outputs": [
    {
     "data": {
      "text/plain": [
       "Private          2924\n",
       "Self-employed     819\n",
       "children          687\n",
       "Govt_job          657\n",
       "Never_worked       22\n",
       "Name: work_type, dtype: int64"
      ]
     },
     "execution_count": 11,
     "metadata": {},
     "output_type": "execute_result"
    }
   ],
   "source": [
    "df['work_type'].value_counts()"
   ]
  },
  {
   "cell_type": "code",
   "execution_count": 12,
   "id": "75b250e1",
   "metadata": {},
   "outputs": [
    {
     "data": {
      "text/plain": [
       "Urban    2596\n",
       "Rural    2513\n",
       "Name: Residence_type, dtype: int64"
      ]
     },
     "execution_count": 12,
     "metadata": {},
     "output_type": "execute_result"
    }
   ],
   "source": [
    "df['Residence_type'].value_counts()"
   ]
  },
  {
   "cell_type": "code",
   "execution_count": 13,
   "id": "b882f017",
   "metadata": {},
   "outputs": [
    {
     "data": {
      "text/plain": [
       "never smoked       1892\n",
       "Unknown            1544\n",
       "formerly smoked     884\n",
       "smokes              789\n",
       "Name: smoking_status, dtype: int64"
      ]
     },
     "execution_count": 13,
     "metadata": {},
     "output_type": "execute_result"
    }
   ],
   "source": [
    "df['smoking_status'].value_counts()"
   ]
  },
  {
   "cell_type": "markdown",
   "id": "323a1bce",
   "metadata": {},
   "source": [
    "Or here we can use a Decision Tree to predict the missing BMI"
   ]
  },
  {
   "cell_type": "code",
   "execution_count": 14,
   "id": "e3a487a4",
   "metadata": {},
   "outputs": [],
   "source": [
    "from sklearn.pipeline import Pipeline\n",
    "from sklearn.preprocessing import StandardScaler,LabelEncoder\n",
    "from sklearn.tree import DecisionTreeRegressor,DecisionTreeClassifier"
   ]
  },
  {
   "cell_type": "code",
   "execution_count": 15,
   "id": "f35a07aa",
   "metadata": {},
   "outputs": [],
   "source": [
    "DT_bmi_pipe = Pipeline( steps=[ \n",
    "                               ('scale',StandardScaler()),\n",
    "                               ('lr',DecisionTreeRegressor(random_state=42))\n",
    "                              ])\n",
    "\n",
    "X = df[['age','gender','bmi']].copy()\n",
    "X.gender = X.gender.replace({'Male':0,'Female':1}).astype(np.uint8)\n",
    "\n",
    "Missing = X[X.bmi.isna()]\n",
    "X = X[~X.bmi.isna()]\n",
    "Y = X.pop('bmi')\n",
    "DT_bmi_pipe.fit(X,Y)\n",
    "predicted_bmi = pd.Series(DT_bmi_pipe.predict(Missing[['age','gender']]),index=Missing.index)\n",
    "df.loc[Missing.index,'bmi'] = predicted_bmi"
   ]
  },
  {
   "cell_type": "code",
   "execution_count": 16,
   "id": "8195dea4",
   "metadata": {},
   "outputs": [
    {
     "name": "stdout",
     "output_type": "stream",
     "text": [
      "Missing values:  0\n"
     ]
    }
   ],
   "source": [
    "print('Missing values: ',sum(df.isnull().sum()))"
   ]
  },
  {
   "cell_type": "code",
   "execution_count": 17,
   "id": "3d1e73f5",
   "metadata": {},
   "outputs": [],
   "source": [
    "df.drop(columns = ['id'],inplace = True)"
   ]
  },
  {
   "cell_type": "code",
   "execution_count": 18,
   "id": "ac3d8a6f",
   "metadata": {},
   "outputs": [
    {
     "name": "stdout",
     "output_type": "stream",
     "text": [
      "<class 'pandas.core.frame.DataFrame'>\n",
      "RangeIndex: 5109 entries, 0 to 5108\n",
      "Data columns (total 11 columns):\n",
      " #   Column             Non-Null Count  Dtype   \n",
      "---  ------             --------------  -----   \n",
      " 0   gender             5109 non-null   category\n",
      " 1   age                5109 non-null   float64 \n",
      " 2   hypertension       5109 non-null   int64   \n",
      " 3   heart_disease      5109 non-null   int64   \n",
      " 4   ever_married       5109 non-null   category\n",
      " 5   work_type          5109 non-null   category\n",
      " 6   Residence_type     5109 non-null   category\n",
      " 7   avg_glucose_level  5109 non-null   float64 \n",
      " 8   bmi                5109 non-null   float64 \n",
      " 9   smoking_status     5109 non-null   category\n",
      " 10  stroke             5109 non-null   int64   \n",
      "dtypes: category(5), float64(3), int64(3)\n",
      "memory usage: 265.3 KB\n"
     ]
    }
   ],
   "source": [
    "df.info()"
   ]
  },
  {
   "cell_type": "markdown",
   "id": "c5163899",
   "metadata": {},
   "source": [
    "# 5. Data Transformation - numerical variables"
   ]
  },
  {
   "cell_type": "markdown",
   "id": "e7a17923",
   "metadata": {},
   "source": [
    "## non-normality (numerical)"
   ]
  },
  {
   "cell_type": "code",
   "execution_count": 19,
   "id": "18071d18",
   "metadata": {},
   "outputs": [
    {
     "data": {
      "image/png": "[encoded data removed]",
      "text/plain": [
       "<Figure size 1080x720 with 3 Axes>"
      ]
     },
     "metadata": {
      "needs_background": "light"
     },
     "output_type": "display_data"
    }
   ],
   "source": [
    "plt.figure(figsize = (15,10))\n",
    "plt.subplot(311)\n",
    "sns.histplot(df.age,kde=True)\n",
    "plt.subplot(312)\n",
    "sns.histplot(df.avg_glucose_level,kde=True)\n",
    "plt.subplot(313)\n",
    "sns.histplot(df.bmi,kde=True)\n",
    "plt.show()"
   ]
  },
  {
   "cell_type": "markdown",
   "id": "c735c31c",
   "metadata": {},
   "source": [
    "## outliners"
   ]
  },
  {
   "cell_type": "code",
   "execution_count": 20,
   "id": "3d6a48e3",
   "metadata": {},
   "outputs": [
    {
     "data": {
      "image/png": "[encoded data removed]",
      "text/plain": [
       "<Figure size 1080x720 with 3 Axes>"
      ]
     },
     "metadata": {
      "needs_background": "light"
     },
     "output_type": "display_data"
    }
   ],
   "source": [
    "plt.figure(figsize = (15,10))\n",
    "plt.subplot(311)\n",
    "sns.boxplot(x=df.age)\n",
    "plt.subplot(312)\n",
    "sns.boxplot(x=df.avg_glucose_level)\n",
    "plt.subplot(313)\n",
    "sns.boxplot(x=df.bmi)\n",
    "plt.show()"
   ]
  },
  {
   "cell_type": "markdown",
   "id": "5982ad46",
   "metadata": {},
   "source": [
    "## Spot outliers (numeric variables)"
   ]
  },
  {
   "cell_type": "code",
   "execution_count": 21,
   "id": "3e307d39",
   "metadata": {},
   "outputs": [
    {
     "data": {
      "text/plain": [
       "2    1599\n",
       "1    1532\n",
       "3     979\n",
       "4     565\n",
       "5     434\n",
       "Name: avg_glucose_level_cut, dtype: int64"
      ]
     },
     "execution_count": 21,
     "metadata": {},
     "output_type": "execute_result"
    }
   ],
   "source": [
    "df['avg_glucose_level_cut'] = pd.cut(df.avg_glucose_level, [50,80,100,125,200,300],labels =[1,2,3,4,5])\n",
    "df.avg_glucose_level_cut.value_counts()"
   ]
  },
  {
   "cell_type": "code",
   "execution_count": 22,
   "id": "e5a7d420",
   "metadata": {},
   "outputs": [],
   "source": [
    "import warnings\n",
    "warnings.filterwarnings(\"ignore\")"
   ]
  },
  {
   "cell_type": "code",
   "execution_count": 23,
   "id": "71c148b5",
   "metadata": {},
   "outputs": [
    {
     "data": {
      "text/plain": [
       "44.3"
      ]
     },
     "execution_count": 23,
     "metadata": {},
     "output_type": "execute_result"
    }
   ],
   "source": [
    "xbar = df.bmi.mean()\n",
    "xstd = df.bmi.std()\n",
    "LTV = xbar - 2 * xstd\n",
    "UTV = xbar + 2 * xstd\n",
    "replace_value=df.bmi[df['bmi'] < UTV].max()\n",
    "df['bmi_rep']=df.bmi\n",
    "df.bmi_rep[df['bmi_rep'] > UTV] = replace_value\n",
    "replace_value"
   ]
  },
  {
   "cell_type": "code",
   "execution_count": 24,
   "id": "09971105",
   "metadata": {},
   "outputs": [
    {
     "data": {
      "text/plain": [
       "<AxesSubplot:xlabel='bmi_rep', ylabel='Count'>"
      ]
     },
     "execution_count": 24,
     "metadata": {},
     "output_type": "execute_result"
    },
    {
     "data": {
      "image/png": "[encoded data removed]",
      "text/plain": [
       "<Figure size 432x288 with 1 Axes>"
      ]
     },
     "metadata": {
      "needs_background": "light"
     },
     "output_type": "display_data"
    }
   ],
   "source": [
    "sns.histplot(df.bmi_rep,kde=True)"
   ]
  },
  {
   "cell_type": "code",
   "execution_count": 25,
   "id": "f2b23227",
   "metadata": {},
   "outputs": [
    {
     "data": {
      "text/plain": [
       "<AxesSubplot:xlabel='bmi_rep'>"
      ]
     },
     "execution_count": 25,
     "metadata": {},
     "output_type": "execute_result"
    },
    {
     "data": {
      "image/png": "[encoded data removed]",
      "text/plain": [
       "<Figure size 432x288 with 1 Axes>"
      ]
     },
     "metadata": {
      "needs_background": "light"
     },
     "output_type": "display_data"
    }
   ],
   "source": [
    "sns.boxplot(x=df.bmi_rep)"
   ]
  },
  {
   "cell_type": "markdown",
   "id": "6c4a71e9",
   "metadata": {},
   "source": [
    "# 6. Encoding or making dummies for categorical variables"
   ]
  },
  {
   "cell_type": "code",
   "execution_count": 26,
   "id": "d7b21fcf",
   "metadata": {},
   "outputs": [],
   "source": [
    "df['gender'] = df['gender'].replace({'Male':0,'Female':1}).astype(np.uint8)\n",
    "df['ever_married'] = df['ever_married'].replace({'Yes':0,'No':1}).astype(np.uint8)\n",
    "df['Residence_type'] = df['Residence_type'].replace({'Rural':0,'Urban':1}).astype(np.uint8)\n",
    "df['smoking_status'] = df['smoking_status'].replace({'never smoked':0,'formerly smoked':1,'smokes':2,'Unknown':-1}).astype(np.uint8)\n",
    "df['work_type'] = df['work_type'].replace({'Private':0,'Self-employed':1,'Govt_job':2,'children':-1,'Never_worked':-2}).astype(np.uint8)"
   ]
  },
  {
   "cell_type": "code",
   "execution_count": 27,
   "id": "c8001eff",
   "metadata": {},
   "outputs": [
    {
     "data": {
      "text/html": [
       "<div>\n",
       "<style scoped>\n",
       "    .dataframe tbody tr th:only-of-type {\n",
       "        vertical-align: middle;\n",
       "    }\n",
       "\n",
       "    .dataframe tbody tr th {\n",
       "        vertical-align: top;\n",
       "    }\n",
       "\n",
       "    .dataframe thead th {\n",
       "        text-align: right;\n",
       "    }\n",
       "</style>\n",
       "<table border=\"1\" class=\"dataframe\">\n",
       "  <thead>\n",
       "    <tr style=\"text-align: right;\">\n",
       "      <th></th>\n",
       "      <th>gender</th>\n",
       "      <th>age</th>\n",
       "      <th>hypertension</th>\n",
       "      <th>heart_disease</th>\n",
       "      <th>ever_married</th>\n",
       "      <th>work_type</th>\n",
       "      <th>Residence_type</th>\n",
       "      <th>avg_glucose_level</th>\n",
       "      <th>bmi</th>\n",
       "      <th>smoking_status</th>\n",
       "      <th>stroke</th>\n",
       "      <th>avg_glucose_level_cut</th>\n",
       "      <th>bmi_rep</th>\n",
       "    </tr>\n",
       "  </thead>\n",
       "  <tbody>\n",
       "    <tr>\n",
       "      <th>0</th>\n",
       "      <td>0</td>\n",
       "      <td>67.0</td>\n",
       "      <td>0</td>\n",
       "      <td>1</td>\n",
       "      <td>0</td>\n",
       "      <td>0</td>\n",
       "      <td>1</td>\n",
       "      <td>228.69</td>\n",
       "      <td>36.600000</td>\n",
       "      <td>1</td>\n",
       "      <td>1</td>\n",
       "      <td>5</td>\n",
       "      <td>36.600000</td>\n",
       "    </tr>\n",
       "    <tr>\n",
       "      <th>1</th>\n",
       "      <td>0</td>\n",
       "      <td>80.0</td>\n",
       "      <td>0</td>\n",
       "      <td>1</td>\n",
       "      <td>0</td>\n",
       "      <td>0</td>\n",
       "      <td>0</td>\n",
       "      <td>105.92</td>\n",
       "      <td>32.500000</td>\n",
       "      <td>0</td>\n",
       "      <td>1</td>\n",
       "      <td>3</td>\n",
       "      <td>32.500000</td>\n",
       "    </tr>\n",
       "    <tr>\n",
       "      <th>2</th>\n",
       "      <td>0</td>\n",
       "      <td>81.0</td>\n",
       "      <td>0</td>\n",
       "      <td>0</td>\n",
       "      <td>0</td>\n",
       "      <td>0</td>\n",
       "      <td>1</td>\n",
       "      <td>186.21</td>\n",
       "      <td>29.000000</td>\n",
       "      <td>1</td>\n",
       "      <td>1</td>\n",
       "      <td>4</td>\n",
       "      <td>29.000000</td>\n",
       "    </tr>\n",
       "    <tr>\n",
       "      <th>3</th>\n",
       "      <td>0</td>\n",
       "      <td>74.0</td>\n",
       "      <td>1</td>\n",
       "      <td>1</td>\n",
       "      <td>0</td>\n",
       "      <td>0</td>\n",
       "      <td>0</td>\n",
       "      <td>70.09</td>\n",
       "      <td>27.400000</td>\n",
       "      <td>0</td>\n",
       "      <td>1</td>\n",
       "      <td>1</td>\n",
       "      <td>27.400000</td>\n",
       "    </tr>\n",
       "    <tr>\n",
       "      <th>4</th>\n",
       "      <td>0</td>\n",
       "      <td>78.0</td>\n",
       "      <td>0</td>\n",
       "      <td>1</td>\n",
       "      <td>0</td>\n",
       "      <td>0</td>\n",
       "      <td>1</td>\n",
       "      <td>219.84</td>\n",
       "      <td>27.247222</td>\n",
       "      <td>255</td>\n",
       "      <td>1</td>\n",
       "      <td>5</td>\n",
       "      <td>27.247222</td>\n",
       "    </tr>\n",
       "  </tbody>\n",
       "</table>\n",
       "</div>"
      ],
      "text/plain": [
       "   gender   age  hypertension  heart_disease  ever_married  work_type  \\\n",
       "0       0  67.0             0              1             0          0   \n",
       "1       0  80.0             0              1             0          0   \n",
       "2       0  81.0             0              0             0          0   \n",
       "3       0  74.0             1              1             0          0   \n",
       "4       0  78.0             0              1             0          0   \n",
       "\n",
       "   Residence_type  avg_glucose_level        bmi  smoking_status  stroke  \\\n",
       "0               1             228.69  36.600000               1       1   \n",
       "1               0             105.92  32.500000               0       1   \n",
       "2               1             186.21  29.000000               1       1   \n",
       "3               0              70.09  27.400000               0       1   \n",
       "4               1             219.84  27.247222             255       1   \n",
       "\n",
       "  avg_glucose_level_cut    bmi_rep  \n",
       "0                     5  36.600000  \n",
       "1                     3  32.500000  \n",
       "2                     4  29.000000  \n",
       "3                     1  27.400000  \n",
       "4                     5  27.247222  "
      ]
     },
     "execution_count": 27,
     "metadata": {},
     "output_type": "execute_result"
    }
   ],
   "source": [
    "df.head()"
   ]
  },
  {
   "cell_type": "markdown",
   "id": "fee6edf6",
   "metadata": {},
   "source": [
    "# 7. Analysis of target class"
   ]
  },
  {
   "cell_type": "code",
   "execution_count": 28,
   "id": "e85f3903",
   "metadata": {},
   "outputs": [
    {
     "data": {
      "text/plain": [
       "0    4860\n",
       "1     249\n",
       "Name: stroke, dtype: int64"
      ]
     },
     "execution_count": 28,
     "metadata": {},
     "output_type": "execute_result"
    }
   ],
   "source": [
    "df['stroke'].value_counts()"
   ]
  },
  {
   "cell_type": "markdown",
   "id": "f79f15fd",
   "metadata": {},
   "source": [
    "Our target class is quite unimbalance, but our data is biased, we can fix this with SMOTE.\n",
    " \n",
    "In next lab for modeling, SMOTE will be used to deal with the imbalanced data."
   ]
  },
  {
   "cell_type": "code",
   "execution_count": 29,
   "id": "36157407",
   "metadata": {},
   "outputs": [
    {
     "name": "stdout",
     "output_type": "stream",
     "text": [
      "Inverse of Null Accuracy:  0.0487279843444227\n",
      "Null Accuracy:  0.9512720156555773\n"
     ]
    }
   ],
   "source": [
    "print('Inverse of Null Accuracy: ',249/(249+4861))\n",
    "print('Null Accuracy: ',4861/(4861+249))"
   ]
  },
  {
   "cell_type": "markdown",
   "id": "88667d4e",
   "metadata": {},
   "source": [
    "# 8. Dimensionality Reduction - Feature Selection"
   ]
  },
  {
   "cell_type": "markdown",
   "id": "0804373f",
   "metadata": {},
   "source": [
    "Filter Model\n",
    "\n",
    "    -hypothesis test\n",
    "\n",
    "    -feature_selction.SelectKBest\n",
    "\n",
    "Recursive Feature Elimination\n",
    " \n",
    "    -logistic regression\n",
    " \n",
    "    -random forest"
   ]
  },
  {
   "cell_type": "markdown",
   "id": "514be147",
   "metadata": {},
   "source": [
    "## 8.1.1 Hypothesis test"
   ]
  },
  {
   "cell_type": "markdown",
   "id": "33509e4e",
   "metadata": {},
   "source": [
    "### numeric variables: t - tests"
   ]
  },
  {
   "cell_type": "code",
   "execution_count": 30,
   "id": "e9fa901e",
   "metadata": {},
   "outputs": [],
   "source": [
    "bmi_rep_score_0 = df.bmi_rep[df.stroke == 0]\n",
    "bmi_rep_score_1 = df.bmi_rep[df.stroke == 1]"
   ]
  },
  {
   "cell_type": "code",
   "execution_count": 31,
   "id": "d548ffa1",
   "metadata": {},
   "outputs": [
    {
     "name": "stdout",
     "output_type": "stream",
     "text": [
      "-3.5529 \n",
      " 0.0004\n"
     ]
    }
   ],
   "source": [
    "from scipy import stats\n",
    "bmi_rep_coef, bmi_rep_score_p = stats.ttest_ind(bmi_rep_score_0,bmi_rep_score_1)\n",
    "print(bmi_rep_coef.round(4), '\\n',bmi_rep_score_p.round(4))"
   ]
  },
  {
   "cell_type": "markdown",
   "id": "317f8455",
   "metadata": {},
   "source": [
    "Therefore, we reject H0 and conclude that there is a significant difference between 'bmi_rep’ of promoter and 'is_stroke', so there is a relationship between 'bmi_rep' and 'is_stroke'."
   ]
  },
  {
   "cell_type": "markdown",
   "id": "2cb7e11e",
   "metadata": {},
   "source": [
    "### Categorical Variables : Chi-Square \n",
    "    -between dependent variable and independent variable"
   ]
  },
  {
   "cell_type": "code",
   "execution_count": 32,
   "id": "c82e8e8b",
   "metadata": {},
   "outputs": [
    {
     "data": {
      "text/html": [
       "<div>\n",
       "<style scoped>\n",
       "    .dataframe tbody tr th:only-of-type {\n",
       "        vertical-align: middle;\n",
       "    }\n",
       "\n",
       "    .dataframe tbody tr th {\n",
       "        vertical-align: top;\n",
       "    }\n",
       "\n",
       "    .dataframe thead th {\n",
       "        text-align: right;\n",
       "    }\n",
       "</style>\n",
       "<table border=\"1\" class=\"dataframe\">\n",
       "  <thead>\n",
       "    <tr style=\"text-align: right;\">\n",
       "      <th>stroke</th>\n",
       "      <th>0</th>\n",
       "      <th>1</th>\n",
       "    </tr>\n",
       "    <tr>\n",
       "      <th>avg_glucose_level_cut</th>\n",
       "      <th></th>\n",
       "      <th></th>\n",
       "    </tr>\n",
       "  </thead>\n",
       "  <tbody>\n",
       "    <tr>\n",
       "      <th>1</th>\n",
       "      <td>1469</td>\n",
       "      <td>63</td>\n",
       "    </tr>\n",
       "    <tr>\n",
       "      <th>2</th>\n",
       "      <td>1550</td>\n",
       "      <td>49</td>\n",
       "    </tr>\n",
       "    <tr>\n",
       "      <th>3</th>\n",
       "      <td>942</td>\n",
       "      <td>37</td>\n",
       "    </tr>\n",
       "    <tr>\n",
       "      <th>4</th>\n",
       "      <td>521</td>\n",
       "      <td>44</td>\n",
       "    </tr>\n",
       "    <tr>\n",
       "      <th>5</th>\n",
       "      <td>378</td>\n",
       "      <td>56</td>\n",
       "    </tr>\n",
       "  </tbody>\n",
       "</table>\n",
       "</div>"
      ],
      "text/plain": [
       "stroke                    0   1\n",
       "avg_glucose_level_cut          \n",
       "1                      1469  63\n",
       "2                      1550  49\n",
       "3                       942  37\n",
       "4                       521  44\n",
       "5                       378  56"
      ]
     },
     "execution_count": 32,
     "metadata": {},
     "output_type": "execute_result"
    }
   ],
   "source": [
    "avg_glucose_level_cut_crosstable = pd.crosstab(df.avg_glucose_level_cut,df.stroke)\n",
    "avg_glucose_level_cut_crosstable"
   ]
  },
  {
   "cell_type": "code",
   "execution_count": 33,
   "id": "7a0d5718",
   "metadata": {},
   "outputs": [
    {
     "name": "stdout",
     "output_type": "stream",
     "text": [
      "[86.4362, 0.0, 'Fail to Reject H0']\n"
     ]
    }
   ],
   "source": [
    "avg_c,avg_p, avg_d, avg_g = stats.chi2_contingency(avg_glucose_level_cut_crosstable)\n",
    "if avg_c>0.05:\n",
    "    avg_infer = 'Fail to Reject H0'\n",
    "else:\n",
    "    avg_infer = 'Reject H0'\n",
    "    \n",
    "avg_glucose_level_chi = [avg_c.round(4),avg_p.round(4),avg_infer]\n",
    "print(avg_glucose_level_chi)"
   ]
  },
  {
   "cell_type": "code",
   "execution_count": 34,
   "id": "6864f81d",
   "metadata": {},
   "outputs": [
    {
     "data": {
      "text/html": [
       "<div>\n",
       "<style scoped>\n",
       "    .dataframe tbody tr th:only-of-type {\n",
       "        vertical-align: middle;\n",
       "    }\n",
       "\n",
       "    .dataframe tbody tr th {\n",
       "        vertical-align: top;\n",
       "    }\n",
       "\n",
       "    .dataframe thead th {\n",
       "        text-align: right;\n",
       "    }\n",
       "</style>\n",
       "<table border=\"1\" class=\"dataframe\">\n",
       "  <thead>\n",
       "    <tr style=\"text-align: right;\">\n",
       "      <th>stroke</th>\n",
       "      <th>0</th>\n",
       "      <th>1</th>\n",
       "    </tr>\n",
       "    <tr>\n",
       "      <th>gender</th>\n",
       "      <th></th>\n",
       "      <th></th>\n",
       "    </tr>\n",
       "  </thead>\n",
       "  <tbody>\n",
       "    <tr>\n",
       "      <th>0</th>\n",
       "      <td>2007</td>\n",
       "      <td>108</td>\n",
       "    </tr>\n",
       "    <tr>\n",
       "      <th>1</th>\n",
       "      <td>2853</td>\n",
       "      <td>141</td>\n",
       "    </tr>\n",
       "  </tbody>\n",
       "</table>\n",
       "</div>"
      ],
      "text/plain": [
       "stroke     0    1\n",
       "gender           \n",
       "0       2007  108\n",
       "1       2853  141"
      ]
     },
     "execution_count": 34,
     "metadata": {},
     "output_type": "execute_result"
    }
   ],
   "source": [
    "gender_crosstable = pd.crosstab(df.gender,df.stroke)\n",
    "gender_crosstable"
   ]
  },
  {
   "cell_type": "code",
   "execution_count": 35,
   "id": "f3751f86",
   "metadata": {},
   "outputs": [
    {
     "name": "stdout",
     "output_type": "stream",
     "text": [
      "[0.34, 0.5598, 'Fail to Reject H0']\n"
     ]
    }
   ],
   "source": [
    "gender_c, gender_p, gender_d, gender_g = stats.chi2_contingency(gender_crosstable)\n",
    "if gender_c>0.05:\n",
    "    gender_infer = 'Fail to Reject H0'\n",
    "else:\n",
    "    gender_infer = 'Reject H0'\n",
    "    \n",
    "gender_chi = [gender_c.round(4),gender_p.round(4),gender_infer]\n",
    "print(gender_chi)"
   ]
  },
  {
   "cell_type": "code",
   "execution_count": 36,
   "id": "676d45ee",
   "metadata": {},
   "outputs": [
    {
     "data": {
      "text/html": [
       "<div>\n",
       "<style scoped>\n",
       "    .dataframe tbody tr th:only-of-type {\n",
       "        vertical-align: middle;\n",
       "    }\n",
       "\n",
       "    .dataframe tbody tr th {\n",
       "        vertical-align: top;\n",
       "    }\n",
       "\n",
       "    .dataframe thead th {\n",
       "        text-align: right;\n",
       "    }\n",
       "</style>\n",
       "<table border=\"1\" class=\"dataframe\">\n",
       "  <thead>\n",
       "    <tr style=\"text-align: right;\">\n",
       "      <th>stroke</th>\n",
       "      <th>0</th>\n",
       "      <th>1</th>\n",
       "    </tr>\n",
       "    <tr>\n",
       "      <th>hypertension</th>\n",
       "      <th></th>\n",
       "      <th></th>\n",
       "    </tr>\n",
       "  </thead>\n",
       "  <tbody>\n",
       "    <tr>\n",
       "      <th>0</th>\n",
       "      <td>4428</td>\n",
       "      <td>183</td>\n",
       "    </tr>\n",
       "    <tr>\n",
       "      <th>1</th>\n",
       "      <td>432</td>\n",
       "      <td>66</td>\n",
       "    </tr>\n",
       "  </tbody>\n",
       "</table>\n",
       "</div>"
      ],
      "text/plain": [
       "stroke           0    1\n",
       "hypertension           \n",
       "0             4428  183\n",
       "1              432   66"
      ]
     },
     "execution_count": 36,
     "metadata": {},
     "output_type": "execute_result"
    }
   ],
   "source": [
    "hypertension_crosstable = pd.crosstab(df.hypertension,df.stroke)\n",
    "hypertension_crosstable"
   ]
  },
  {
   "cell_type": "code",
   "execution_count": 37,
   "id": "83db83bf",
   "metadata": {},
   "outputs": [
    {
     "name": "stdout",
     "output_type": "stream",
     "text": [
      "[0.34, 0.5598, 'Fail to Reject H0']\n"
     ]
    }
   ],
   "source": [
    "hyp_c, hyp_p, hyp_d, hyp_g = stats.chi2_contingency(hypertension_crosstable)\n",
    "if hyp_c>0.05:\n",
    "    hyp_infer = 'Fail to Reject H0'\n",
    "else:\n",
    "    hyp_infer = 'Reject H0'\n",
    "    \n",
    "hyp_chi = [gender_c.round(4),gender_p.round(4),hyp_infer]\n",
    "print(hyp_chi)"
   ]
  },
  {
   "cell_type": "code",
   "execution_count": 38,
   "id": "501078e4",
   "metadata": {},
   "outputs": [
    {
     "data": {
      "text/html": [
       "<div>\n",
       "<style scoped>\n",
       "    .dataframe tbody tr th:only-of-type {\n",
       "        vertical-align: middle;\n",
       "    }\n",
       "\n",
       "    .dataframe tbody tr th {\n",
       "        vertical-align: top;\n",
       "    }\n",
       "\n",
       "    .dataframe thead th {\n",
       "        text-align: right;\n",
       "    }\n",
       "</style>\n",
       "<table border=\"1\" class=\"dataframe\">\n",
       "  <thead>\n",
       "    <tr style=\"text-align: right;\">\n",
       "      <th>stroke</th>\n",
       "      <th>0</th>\n",
       "      <th>1</th>\n",
       "    </tr>\n",
       "    <tr>\n",
       "      <th>heart_disease</th>\n",
       "      <th></th>\n",
       "      <th></th>\n",
       "    </tr>\n",
       "  </thead>\n",
       "  <tbody>\n",
       "    <tr>\n",
       "      <th>0</th>\n",
       "      <td>4631</td>\n",
       "      <td>202</td>\n",
       "    </tr>\n",
       "    <tr>\n",
       "      <th>1</th>\n",
       "      <td>229</td>\n",
       "      <td>47</td>\n",
       "    </tr>\n",
       "  </tbody>\n",
       "</table>\n",
       "</div>"
      ],
      "text/plain": [
       "stroke            0    1\n",
       "heart_disease           \n",
       "0              4631  202\n",
       "1               229   47"
      ]
     },
     "execution_count": 38,
     "metadata": {},
     "output_type": "execute_result"
    }
   ],
   "source": [
    "heart_disease_crosstable = pd.crosstab(df.heart_disease,df.stroke)\n",
    "heart_disease_crosstable"
   ]
  },
  {
   "cell_type": "code",
   "execution_count": 39,
   "id": "5eb66835",
   "metadata": {},
   "outputs": [
    {
     "name": "stdout",
     "output_type": "stream",
     "text": [
      "[0.34, 0.5598, 'Fail to Reject H0']\n"
     ]
    }
   ],
   "source": [
    "health_c, health_p, health_d, health_g = stats.chi2_contingency(heart_disease_crosstable)\n",
    "if health_c>0.05:\n",
    "    health_infer = 'Fail to Reject H0'\n",
    "else:\n",
    "    health_infer = 'Reject H0'\n",
    "    \n",
    "health_chi = [gender_c.round(4),gender_p.round(4),health_infer]\n",
    "print(health_chi)"
   ]
  },
  {
   "cell_type": "code",
   "execution_count": 40,
   "id": "0550e77a",
   "metadata": {},
   "outputs": [
    {
     "data": {
      "text/html": [
       "<div>\n",
       "<style scoped>\n",
       "    .dataframe tbody tr th:only-of-type {\n",
       "        vertical-align: middle;\n",
       "    }\n",
       "\n",
       "    .dataframe tbody tr th {\n",
       "        vertical-align: top;\n",
       "    }\n",
       "\n",
       "    .dataframe thead th {\n",
       "        text-align: right;\n",
       "    }\n",
       "</style>\n",
       "<table border=\"1\" class=\"dataframe\">\n",
       "  <thead>\n",
       "    <tr style=\"text-align: right;\">\n",
       "      <th>stroke</th>\n",
       "      <th>0</th>\n",
       "      <th>1</th>\n",
       "    </tr>\n",
       "    <tr>\n",
       "      <th>ever_married</th>\n",
       "      <th></th>\n",
       "      <th></th>\n",
       "    </tr>\n",
       "  </thead>\n",
       "  <tbody>\n",
       "    <tr>\n",
       "      <th>0</th>\n",
       "      <td>3133</td>\n",
       "      <td>220</td>\n",
       "    </tr>\n",
       "    <tr>\n",
       "      <th>1</th>\n",
       "      <td>1727</td>\n",
       "      <td>29</td>\n",
       "    </tr>\n",
       "  </tbody>\n",
       "</table>\n",
       "</div>"
      ],
      "text/plain": [
       "stroke           0    1\n",
       "ever_married           \n",
       "0             3133  220\n",
       "1             1727   29"
      ]
     },
     "execution_count": 40,
     "metadata": {},
     "output_type": "execute_result"
    }
   ],
   "source": [
    "ever_married_crosstable = pd.crosstab(df.ever_married,df.stroke)\n",
    "ever_married_crosstable"
   ]
  },
  {
   "cell_type": "code",
   "execution_count": 41,
   "id": "2dfea10b",
   "metadata": {},
   "outputs": [
    {
     "name": "stdout",
     "output_type": "stream",
     "text": [
      "[58.8678, 0.0, 'Fail to Reject H0']\n"
     ]
    }
   ],
   "source": [
    "married_c, married_p, married_d, married_g = stats.chi2_contingency(ever_married_crosstable)\n",
    "if married_c>0.05:\n",
    "    married_infer = 'Fail to Reject H0'\n",
    "else:\n",
    "    married_infer = 'Reject H0'\n",
    "    \n",
    "married_chi = [married_c.round(4),married_p.round(4),married_infer]\n",
    "print(married_chi)"
   ]
  },
  {
   "cell_type": "code",
   "execution_count": 42,
   "id": "1ba9d419",
   "metadata": {},
   "outputs": [
    {
     "data": {
      "text/html": [
       "<div>\n",
       "<style scoped>\n",
       "    .dataframe tbody tr th:only-of-type {\n",
       "        vertical-align: middle;\n",
       "    }\n",
       "\n",
       "    .dataframe tbody tr th {\n",
       "        vertical-align: top;\n",
       "    }\n",
       "\n",
       "    .dataframe thead th {\n",
       "        text-align: right;\n",
       "    }\n",
       "</style>\n",
       "<table border=\"1\" class=\"dataframe\">\n",
       "  <thead>\n",
       "    <tr style=\"text-align: right;\">\n",
       "      <th>stroke</th>\n",
       "      <th>0</th>\n",
       "      <th>1</th>\n",
       "    </tr>\n",
       "    <tr>\n",
       "      <th>work_type</th>\n",
       "      <th></th>\n",
       "      <th></th>\n",
       "    </tr>\n",
       "  </thead>\n",
       "  <tbody>\n",
       "    <tr>\n",
       "      <th>0</th>\n",
       "      <td>2775</td>\n",
       "      <td>149</td>\n",
       "    </tr>\n",
       "    <tr>\n",
       "      <th>1</th>\n",
       "      <td>754</td>\n",
       "      <td>65</td>\n",
       "    </tr>\n",
       "    <tr>\n",
       "      <th>2</th>\n",
       "      <td>624</td>\n",
       "      <td>33</td>\n",
       "    </tr>\n",
       "    <tr>\n",
       "      <th>254</th>\n",
       "      <td>22</td>\n",
       "      <td>0</td>\n",
       "    </tr>\n",
       "    <tr>\n",
       "      <th>255</th>\n",
       "      <td>685</td>\n",
       "      <td>2</td>\n",
       "    </tr>\n",
       "  </tbody>\n",
       "</table>\n",
       "</div>"
      ],
      "text/plain": [
       "stroke        0    1\n",
       "work_type           \n",
       "0          2775  149\n",
       "1           754   65\n",
       "2           624   33\n",
       "254          22    0\n",
       "255         685    2"
      ]
     },
     "execution_count": 42,
     "metadata": {},
     "output_type": "execute_result"
    }
   ],
   "source": [
    "work_type_crosstable = pd.crosstab(df.work_type,df.stroke)\n",
    "work_type_crosstable"
   ]
  },
  {
   "cell_type": "code",
   "execution_count": 43,
   "id": "9e0eae9f",
   "metadata": {},
   "outputs": [
    {
     "name": "stdout",
     "output_type": "stream",
     "text": [
      "[49.1591, 0.0, 'Fail to Reject H0']\n"
     ]
    }
   ],
   "source": [
    "work_c, work_p, work_d, work_g = stats.chi2_contingency(work_type_crosstable)\n",
    "if work_c>0.05:\n",
    "    work_infer = 'Fail to Reject H0'\n",
    "else:\n",
    "    work_infer = 'Reject H0'\n",
    "    \n",
    "work_chi = [work_c.round(4),work_p.round(4),work_infer]\n",
    "print(work_chi)"
   ]
  },
  {
   "cell_type": "code",
   "execution_count": 44,
   "id": "2e6d8db6",
   "metadata": {},
   "outputs": [
    {
     "data": {
      "text/html": [
       "<div>\n",
       "<style scoped>\n",
       "    .dataframe tbody tr th:only-of-type {\n",
       "        vertical-align: middle;\n",
       "    }\n",
       "\n",
       "    .dataframe tbody tr th {\n",
       "        vertical-align: top;\n",
       "    }\n",
       "\n",
       "    .dataframe thead th {\n",
       "        text-align: right;\n",
       "    }\n",
       "</style>\n",
       "<table border=\"1\" class=\"dataframe\">\n",
       "  <thead>\n",
       "    <tr style=\"text-align: right;\">\n",
       "      <th>stroke</th>\n",
       "      <th>0</th>\n",
       "      <th>1</th>\n",
       "    </tr>\n",
       "    <tr>\n",
       "      <th>Residence_type</th>\n",
       "      <th></th>\n",
       "      <th></th>\n",
       "    </tr>\n",
       "  </thead>\n",
       "  <tbody>\n",
       "    <tr>\n",
       "      <th>0</th>\n",
       "      <td>2399</td>\n",
       "      <td>114</td>\n",
       "    </tr>\n",
       "    <tr>\n",
       "      <th>1</th>\n",
       "      <td>2461</td>\n",
       "      <td>135</td>\n",
       "    </tr>\n",
       "  </tbody>\n",
       "</table>\n",
       "</div>"
      ],
      "text/plain": [
       "stroke             0    1\n",
       "Residence_type           \n",
       "0               2399  114\n",
       "1               2461  135"
      ]
     },
     "execution_count": 44,
     "metadata": {},
     "output_type": "execute_result"
    }
   ],
   "source": [
    "Residence_type_crosstable = pd.crosstab(df.Residence_type,df.stroke)\n",
    "Residence_type_crosstable"
   ]
  },
  {
   "cell_type": "code",
   "execution_count": 45,
   "id": "15aa2ca4",
   "metadata": {},
   "outputs": [
    {
     "name": "stdout",
     "output_type": "stream",
     "text": [
      "[1.075, 0.2998, 'Fail to Reject H0']\n"
     ]
    }
   ],
   "source": [
    "Res_c, Res_p, Res_d, Res_g = stats.chi2_contingency(Residence_type_crosstable)\n",
    "if Res_c>0.05:\n",
    "    Res_infer = 'Fail to Reject H0'\n",
    "else:\n",
    "    Res_infer = 'Reject H0'\n",
    "    \n",
    "Res_chi = [Res_c.round(4),Res_p.round(4),Res_infer]\n",
    "print(Res_chi)"
   ]
  },
  {
   "cell_type": "code",
   "execution_count": 46,
   "id": "cedea5a2",
   "metadata": {},
   "outputs": [
    {
     "data": {
      "text/html": [
       "<div>\n",
       "<style scoped>\n",
       "    .dataframe tbody tr th:only-of-type {\n",
       "        vertical-align: middle;\n",
       "    }\n",
       "\n",
       "    .dataframe tbody tr th {\n",
       "        vertical-align: top;\n",
       "    }\n",
       "\n",
       "    .dataframe thead th {\n",
       "        text-align: right;\n",
       "    }\n",
       "</style>\n",
       "<table border=\"1\" class=\"dataframe\">\n",
       "  <thead>\n",
       "    <tr style=\"text-align: right;\">\n",
       "      <th></th>\n",
       "      <th>Chi2Test</th>\n",
       "      <th>avg_glucose_level_cut</th>\n",
       "      <th>gender</th>\n",
       "      <th>hypertension</th>\n",
       "      <th>heart_disease</th>\n",
       "      <th>ever_married</th>\n",
       "      <th>work_type</th>\n",
       "      <th>Residence_type</th>\n",
       "    </tr>\n",
       "  </thead>\n",
       "  <tbody>\n",
       "    <tr>\n",
       "      <th>0</th>\n",
       "      <td>statistic</td>\n",
       "      <td>86.4362</td>\n",
       "      <td>0.34</td>\n",
       "      <td>0.34</td>\n",
       "      <td>0.34</td>\n",
       "      <td>58.8678</td>\n",
       "      <td>49.1591</td>\n",
       "      <td>1.075</td>\n",
       "    </tr>\n",
       "    <tr>\n",
       "      <th>1</th>\n",
       "      <td>p value</td>\n",
       "      <td>0.0</td>\n",
       "      <td>0.5598</td>\n",
       "      <td>0.5598</td>\n",
       "      <td>0.5598</td>\n",
       "      <td>0.0</td>\n",
       "      <td>0.0</td>\n",
       "      <td>0.2998</td>\n",
       "    </tr>\n",
       "    <tr>\n",
       "      <th>2</th>\n",
       "      <td>Inference</td>\n",
       "      <td>Fail to Reject H0</td>\n",
       "      <td>Fail to Reject H0</td>\n",
       "      <td>Fail to Reject H0</td>\n",
       "      <td>Fail to Reject H0</td>\n",
       "      <td>Fail to Reject H0</td>\n",
       "      <td>Fail to Reject H0</td>\n",
       "      <td>Fail to Reject H0</td>\n",
       "    </tr>\n",
       "  </tbody>\n",
       "</table>\n",
       "</div>"
      ],
      "text/plain": [
       "    Chi2Test avg_glucose_level_cut             gender       hypertension  \\\n",
       "0  statistic               86.4362               0.34               0.34   \n",
       "1    p value                   0.0             0.5598             0.5598   \n",
       "2  Inference     Fail to Reject H0  Fail to Reject H0  Fail to Reject H0   \n",
       "\n",
       "       heart_disease       ever_married          work_type     Residence_type  \n",
       "0               0.34            58.8678            49.1591              1.075  \n",
       "1             0.5598                0.0                0.0             0.2998  \n",
       "2  Fail to Reject H0  Fail to Reject H0  Fail to Reject H0  Fail to Reject H0  "
      ]
     },
     "execution_count": 46,
     "metadata": {},
     "output_type": "execute_result"
    }
   ],
   "source": [
    "chi2Test = pd.DataFrame([avg_glucose_level_chi,gender_chi,hyp_chi,health_chi,married_chi,work_chi,Res_chi]).T\n",
    "chi2Test.columns =['avg_glucose_level_cut','gender','hypertension','heart_disease','ever_married','work_type','Residence_type']\n",
    "chi2Test.index = ['statistic','p value','Inference']\n",
    "chi2Test = chi2Test.reset_index().rename(columns ={'index':'Chi2Test'})\n",
    "chi2Test\n"
   ]
  },
  {
   "cell_type": "markdown",
   "id": "641cd568",
   "metadata": {},
   "source": [
    "### Ordinal data: Mann-Whitney U test"
   ]
  },
  {
   "cell_type": "code",
   "execution_count": 47,
   "id": "ea85b753",
   "metadata": {},
   "outputs": [],
   "source": [
    "smoke_0 = df.smoking_status[df.stroke == 0]\n",
    "smoke_1 = df.smoking_status[df.stroke == 1]"
   ]
  },
  {
   "cell_type": "code",
   "execution_count": 48,
   "id": "b9ae46f9",
   "metadata": {},
   "outputs": [
    {
     "data": {
      "text/plain": [
       "[554519.5, 0.0099, 'Reject H0']"
      ]
     },
     "execution_count": 48,
     "metadata": {},
     "output_type": "execute_result"
    }
   ],
   "source": [
    "smoke_s, smoke_p= stats.mannwhitneyu(smoke_0,smoke_1)\n",
    "if smoke_p > 0.05:\n",
    "    smoke_infer = 'Fail to reject H0'\n",
    "else:\n",
    "    smoke_infer= 'Reject H0'\n",
    "    \n",
    "smoke_mw= [smoke_s.round(4),smoke_p.round(4),smoke_infer]\n",
    "smoke_mw"
   ]
  },
  {
   "cell_type": "code",
   "execution_count": 49,
   "id": "99212d84",
   "metadata": {},
   "outputs": [
    {
     "data": {
      "text/html": [
       "<div>\n",
       "<style scoped>\n",
       "    .dataframe tbody tr th:only-of-type {\n",
       "        vertical-align: middle;\n",
       "    }\n",
       "\n",
       "    .dataframe tbody tr th {\n",
       "        vertical-align: top;\n",
       "    }\n",
       "\n",
       "    .dataframe thead th {\n",
       "        text-align: right;\n",
       "    }\n",
       "</style>\n",
       "<table border=\"1\" class=\"dataframe\">\n",
       "  <thead>\n",
       "    <tr style=\"text-align: right;\">\n",
       "      <th></th>\n",
       "      <th>Mann-Whitney Test</th>\n",
       "      <th>smoking_status</th>\n",
       "    </tr>\n",
       "  </thead>\n",
       "  <tbody>\n",
       "    <tr>\n",
       "      <th>0</th>\n",
       "      <td>statistic</td>\n",
       "      <td>554519.5</td>\n",
       "    </tr>\n",
       "    <tr>\n",
       "      <th>1</th>\n",
       "      <td>pvalue</td>\n",
       "      <td>0.0099</td>\n",
       "    </tr>\n",
       "    <tr>\n",
       "      <th>2</th>\n",
       "      <td>Reject H0 or not</td>\n",
       "      <td>Reject H0</td>\n",
       "    </tr>\n",
       "  </tbody>\n",
       "</table>\n",
       "</div>"
      ],
      "text/plain": [
       "  Mann-Whitney Test smoking_status\n",
       "0         statistic       554519.5\n",
       "1            pvalue         0.0099\n",
       "2  Reject H0 or not      Reject H0"
      ]
     },
     "execution_count": 49,
     "metadata": {},
     "output_type": "execute_result"
    }
   ],
   "source": [
    "promo_binary_MW = pd.DataFrame([smoke_mw]).T\n",
    "promo_binary_MW.columns = ['smoking_status']\n",
    "promo_binary_MW.index = ['statistic','pvalue','Reject H0 or not']\n",
    "promo_binary_MW.reset_index().rename(columns={'index':'Mann-Whitney Test'})"
   ]
  },
  {
   "cell_type": "markdown",
   "id": "221f2c83",
   "metadata": {},
   "source": [
    "## 8.1.2 Using sklearn.feature_selection.SelectKBest"
   ]
  },
  {
   "cell_type": "markdown",
   "id": "01841d4f",
   "metadata": {},
   "source": [
    "### Prepare data"
   ]
  },
  {
   "cell_type": "code",
   "execution_count": 50,
   "id": "a70e87e0",
   "metadata": {},
   "outputs": [],
   "source": [
    " from sklearn.feature_selection import SelectKBest, f_classif,mutual_info_classif,chi2,f_regression"
   ]
  },
  {
   "cell_type": "code",
   "execution_count": 51,
   "id": "d7db1d3a",
   "metadata": {},
   "outputs": [
    {
     "name": "stdout",
     "output_type": "stream",
     "text": [
      "<class 'pandas.core.frame.DataFrame'>\n",
      "RangeIndex: 5109 entries, 0 to 5108\n",
      "Data columns (total 13 columns):\n",
      " #   Column                 Non-Null Count  Dtype   \n",
      "---  ------                 --------------  -----   \n",
      " 0   gender                 5109 non-null   uint8   \n",
      " 1   age                    5109 non-null   float64 \n",
      " 2   hypertension           5109 non-null   int64   \n",
      " 3   heart_disease          5109 non-null   int64   \n",
      " 4   ever_married           5109 non-null   uint8   \n",
      " 5   work_type              5109 non-null   uint8   \n",
      " 6   Residence_type         5109 non-null   uint8   \n",
      " 7   avg_glucose_level      5109 non-null   float64 \n",
      " 8   bmi                    5109 non-null   float64 \n",
      " 9   smoking_status         5109 non-null   uint8   \n",
      " 10  stroke                 5109 non-null   int64   \n",
      " 11  avg_glucose_level_cut  5109 non-null   category\n",
      " 12  bmi_rep                5109 non-null   float64 \n",
      "dtypes: category(1), float64(4), int64(3), uint8(5)\n",
      "memory usage: 309.7 KB\n"
     ]
    }
   ],
   "source": [
    "df.info()"
   ]
  },
  {
   "cell_type": "code",
   "execution_count": 52,
   "id": "395aab83",
   "metadata": {},
   "outputs": [],
   "source": [
    "last = df.pop('stroke')\n",
    "df.insert(12,'stroke',last)"
   ]
  },
  {
   "cell_type": "code",
   "execution_count": 53,
   "id": "a1249b1f",
   "metadata": {},
   "outputs": [
    {
     "name": "stdout",
     "output_type": "stream",
     "text": [
      "<class 'pandas.core.frame.DataFrame'>\n",
      "RangeIndex: 5109 entries, 0 to 5108\n",
      "Data columns (total 10 columns):\n",
      " #   Column                 Non-Null Count  Dtype   \n",
      "---  ------                 --------------  -----   \n",
      " 0   gender                 5109 non-null   uint8   \n",
      " 1   age                    5109 non-null   float64 \n",
      " 2   hypertension           5109 non-null   int64   \n",
      " 3   heart_disease          5109 non-null   int64   \n",
      " 4   ever_married           5109 non-null   uint8   \n",
      " 5   work_type              5109 non-null   uint8   \n",
      " 6   Residence_type         5109 non-null   uint8   \n",
      " 7   smoking_status         5109 non-null   uint8   \n",
      " 8   avg_glucose_level_cut  5109 non-null   category\n",
      " 9   bmi_rep                5109 non-null   float64 \n",
      "dtypes: category(1), float64(2), int64(2), uint8(5)\n",
      "memory usage: 189.9 KB\n"
     ]
    }
   ],
   "source": [
    "X = df.iloc[:,0:-1].drop(columns=['avg_glucose_level','bmi'])\n",
    "X.info()"
   ]
  },
  {
   "cell_type": "code",
   "execution_count": 54,
   "id": "ef829632",
   "metadata": {},
   "outputs": [
    {
     "data": {
      "text/html": [
       "<div>\n",
       "<style scoped>\n",
       "    .dataframe tbody tr th:only-of-type {\n",
       "        vertical-align: middle;\n",
       "    }\n",
       "\n",
       "    .dataframe tbody tr th {\n",
       "        vertical-align: top;\n",
       "    }\n",
       "\n",
       "    .dataframe thead th {\n",
       "        text-align: right;\n",
       "    }\n",
       "</style>\n",
       "<table border=\"1\" class=\"dataframe\">\n",
       "  <thead>\n",
       "    <tr style=\"text-align: right;\">\n",
       "      <th></th>\n",
       "      <th>stroke</th>\n",
       "    </tr>\n",
       "  </thead>\n",
       "  <tbody>\n",
       "    <tr>\n",
       "      <th>0</th>\n",
       "      <td>1</td>\n",
       "    </tr>\n",
       "    <tr>\n",
       "      <th>1</th>\n",
       "      <td>1</td>\n",
       "    </tr>\n",
       "    <tr>\n",
       "      <th>2</th>\n",
       "      <td>1</td>\n",
       "    </tr>\n",
       "    <tr>\n",
       "      <th>3</th>\n",
       "      <td>1</td>\n",
       "    </tr>\n",
       "    <tr>\n",
       "      <th>4</th>\n",
       "      <td>1</td>\n",
       "    </tr>\n",
       "  </tbody>\n",
       "</table>\n",
       "</div>"
      ],
      "text/plain": [
       "   stroke\n",
       "0       1\n",
       "1       1\n",
       "2       1\n",
       "3       1\n",
       "4       1"
      ]
     },
     "execution_count": 54,
     "metadata": {},
     "output_type": "execute_result"
    }
   ],
   "source": [
    "y = df.iloc[:,-1:]\n",
    "y.head()"
   ]
  },
  {
   "cell_type": "markdown",
   "id": "5f2b1c30",
   "metadata": {},
   "source": [
    "### ANOVA: f_classif"
   ]
  },
  {
   "cell_type": "code",
   "execution_count": 55,
   "id": "505f2409",
   "metadata": {},
   "outputs": [
    {
     "name": "stdout",
     "output_type": "stream",
     "text": [
      " number of rows: 5109 \n",
      " number of columns: 6\n"
     ]
    }
   ],
   "source": [
    "selector_f = SelectKBest(f_classif, k = 6)\n",
    "X_select_f= selector_f.fit_transform(X, np.ravel(y))\n",
    "print(' number of rows:',len(X_select_f),'\\n','number of columns:',len(X_select_f[0]))"
   ]
  },
  {
   "cell_type": "code",
   "execution_count": 56,
   "id": "4b940f87",
   "metadata": {},
   "outputs": [
    {
     "name": "stdout",
     "output_type": "stream",
     "text": [
      "['age' 'hypertension' 'heart_disease' 'ever_married' 'work_type'\n",
      " 'avg_glucose_level_cut']\n"
     ]
    }
   ],
   "source": [
    "col_f = selector_f.get_feature_names_out()\n",
    "print(col_f)"
   ]
  },
  {
   "cell_type": "code",
   "execution_count": 57,
   "id": "9fb9dfd4",
   "metadata": {},
   "outputs": [
    {
     "data": {
      "text/plain": [
       "array([1, 2, 3, 4, 5, 8], dtype=int64)"
      ]
     },
     "execution_count": 57,
     "metadata": {},
     "output_type": "execute_result"
    }
   ],
   "source": [
    "col_f_index = selector_f.get_support (indices = True)\n",
    "col_f_index"
   ]
  },
  {
   "cell_type": "code",
   "execution_count": 58,
   "id": "2dc8c446",
   "metadata": {},
   "outputs": [
    {
     "data": {
      "text/html": [
       "<div>\n",
       "<style scoped>\n",
       "    .dataframe tbody tr th:only-of-type {\n",
       "        vertical-align: middle;\n",
       "    }\n",
       "\n",
       "    .dataframe tbody tr th {\n",
       "        vertical-align: top;\n",
       "    }\n",
       "\n",
       "    .dataframe thead th {\n",
       "        text-align: right;\n",
       "    }\n",
       "</style>\n",
       "<table border=\"1\" class=\"dataframe\">\n",
       "  <thead>\n",
       "    <tr style=\"text-align: right;\">\n",
       "      <th></th>\n",
       "      <th>age</th>\n",
       "      <th>hypertension</th>\n",
       "      <th>heart_disease</th>\n",
       "      <th>ever_married</th>\n",
       "      <th>work_type</th>\n",
       "      <th>avg_glucose_level_cut</th>\n",
       "    </tr>\n",
       "  </thead>\n",
       "  <tbody>\n",
       "    <tr>\n",
       "      <th>0</th>\n",
       "      <td>67.0</td>\n",
       "      <td>0.0</td>\n",
       "      <td>1.0</td>\n",
       "      <td>0.0</td>\n",
       "      <td>0.0</td>\n",
       "      <td>5.0</td>\n",
       "    </tr>\n",
       "    <tr>\n",
       "      <th>1</th>\n",
       "      <td>80.0</td>\n",
       "      <td>0.0</td>\n",
       "      <td>1.0</td>\n",
       "      <td>0.0</td>\n",
       "      <td>0.0</td>\n",
       "      <td>3.0</td>\n",
       "    </tr>\n",
       "    <tr>\n",
       "      <th>2</th>\n",
       "      <td>81.0</td>\n",
       "      <td>0.0</td>\n",
       "      <td>0.0</td>\n",
       "      <td>0.0</td>\n",
       "      <td>0.0</td>\n",
       "      <td>4.0</td>\n",
       "    </tr>\n",
       "    <tr>\n",
       "      <th>3</th>\n",
       "      <td>74.0</td>\n",
       "      <td>1.0</td>\n",
       "      <td>1.0</td>\n",
       "      <td>0.0</td>\n",
       "      <td>0.0</td>\n",
       "      <td>1.0</td>\n",
       "    </tr>\n",
       "    <tr>\n",
       "      <th>4</th>\n",
       "      <td>78.0</td>\n",
       "      <td>0.0</td>\n",
       "      <td>1.0</td>\n",
       "      <td>0.0</td>\n",
       "      <td>0.0</td>\n",
       "      <td>5.0</td>\n",
       "    </tr>\n",
       "  </tbody>\n",
       "</table>\n",
       "</div>"
      ],
      "text/plain": [
       "    age  hypertension  heart_disease  ever_married  work_type  \\\n",
       "0  67.0           0.0            1.0           0.0        0.0   \n",
       "1  80.0           0.0            1.0           0.0        0.0   \n",
       "2  81.0           0.0            0.0           0.0        0.0   \n",
       "3  74.0           1.0            1.0           0.0        0.0   \n",
       "4  78.0           0.0            1.0           0.0        0.0   \n",
       "\n",
       "   avg_glucose_level_cut  \n",
       "0                    5.0  \n",
       "1                    3.0  \n",
       "2                    4.0  \n",
       "3                    1.0  \n",
       "4                    5.0  "
      ]
     },
     "execution_count": 58,
     "metadata": {},
     "output_type": "execute_result"
    }
   ],
   "source": [
    "x_f = pd.DataFrame(X_select_f,columns = col_f)\n",
    "x_f.head()"
   ]
  },
  {
   "cell_type": "markdown",
   "id": "5e73d876",
   "metadata": {},
   "source": [
    "### Chi-squared stats of non-negative features for classification tasks."
   ]
  },
  {
   "cell_type": "markdown",
   "id": "61616814",
   "metadata": {},
   "source": [
    "chi2"
   ]
  },
  {
   "cell_type": "code",
   "execution_count": 59,
   "id": "23282762",
   "metadata": {},
   "outputs": [
    {
     "name": "stdout",
     "output_type": "stream",
     "text": [
      " number of rows: 5109 \n",
      " number of columns: 6\n"
     ]
    }
   ],
   "source": [
    "selector_chi = SelectKBest(chi2, k=6)\n",
    "X_select_chi= selector_chi.fit_transform(X,y)\n",
    "print(' number of rows:',len(X_select_chi),'\\n','number of columns:',len(X_select_chi[0]))"
   ]
  },
  {
   "cell_type": "code",
   "execution_count": 60,
   "id": "9feef791",
   "metadata": {},
   "outputs": [
    {
     "data": {
      "text/plain": [
       "array(['age', 'hypertension', 'heart_disease', 'ever_married',\n",
       "       'work_type', 'smoking_status'], dtype=object)"
      ]
     },
     "execution_count": 60,
     "metadata": {},
     "output_type": "execute_result"
    }
   ],
   "source": [
    "col_chi = selector_chi.get_feature_names_out()\n",
    "col_chi"
   ]
  },
  {
   "cell_type": "code",
   "execution_count": 61,
   "id": "f3e38829",
   "metadata": {},
   "outputs": [
    {
     "data": {
      "text/plain": [
       "array([1, 2, 3, 4, 5, 7], dtype=int64)"
      ]
     },
     "execution_count": 61,
     "metadata": {},
     "output_type": "execute_result"
    }
   ],
   "source": [
    "col_chi_index = selector_chi.get_support (indices = True)\n",
    "col_chi_index"
   ]
  },
  {
   "cell_type": "code",
   "execution_count": 62,
   "id": "30a6ebd7",
   "metadata": {},
   "outputs": [
    {
     "data": {
      "text/html": [
       "<div>\n",
       "<style scoped>\n",
       "    .dataframe tbody tr th:only-of-type {\n",
       "        vertical-align: middle;\n",
       "    }\n",
       "\n",
       "    .dataframe tbody tr th {\n",
       "        vertical-align: top;\n",
       "    }\n",
       "\n",
       "    .dataframe thead th {\n",
       "        text-align: right;\n",
       "    }\n",
       "</style>\n",
       "<table border=\"1\" class=\"dataframe\">\n",
       "  <thead>\n",
       "    <tr style=\"text-align: right;\">\n",
       "      <th></th>\n",
       "      <th>age</th>\n",
       "      <th>hypertension</th>\n",
       "      <th>heart_disease</th>\n",
       "      <th>ever_married</th>\n",
       "      <th>work_type</th>\n",
       "      <th>smoking_status</th>\n",
       "    </tr>\n",
       "  </thead>\n",
       "  <tbody>\n",
       "    <tr>\n",
       "      <th>0</th>\n",
       "      <td>67.0</td>\n",
       "      <td>0.0</td>\n",
       "      <td>1.0</td>\n",
       "      <td>0.0</td>\n",
       "      <td>0.0</td>\n",
       "      <td>1.0</td>\n",
       "    </tr>\n",
       "    <tr>\n",
       "      <th>1</th>\n",
       "      <td>80.0</td>\n",
       "      <td>0.0</td>\n",
       "      <td>1.0</td>\n",
       "      <td>0.0</td>\n",
       "      <td>0.0</td>\n",
       "      <td>0.0</td>\n",
       "    </tr>\n",
       "    <tr>\n",
       "      <th>2</th>\n",
       "      <td>81.0</td>\n",
       "      <td>0.0</td>\n",
       "      <td>0.0</td>\n",
       "      <td>0.0</td>\n",
       "      <td>0.0</td>\n",
       "      <td>1.0</td>\n",
       "    </tr>\n",
       "    <tr>\n",
       "      <th>3</th>\n",
       "      <td>74.0</td>\n",
       "      <td>1.0</td>\n",
       "      <td>1.0</td>\n",
       "      <td>0.0</td>\n",
       "      <td>0.0</td>\n",
       "      <td>0.0</td>\n",
       "    </tr>\n",
       "    <tr>\n",
       "      <th>4</th>\n",
       "      <td>78.0</td>\n",
       "      <td>0.0</td>\n",
       "      <td>1.0</td>\n",
       "      <td>0.0</td>\n",
       "      <td>0.0</td>\n",
       "      <td>255.0</td>\n",
       "    </tr>\n",
       "  </tbody>\n",
       "</table>\n",
       "</div>"
      ],
      "text/plain": [
       "    age  hypertension  heart_disease  ever_married  work_type  smoking_status\n",
       "0  67.0           0.0            1.0           0.0        0.0             1.0\n",
       "1  80.0           0.0            1.0           0.0        0.0             0.0\n",
       "2  81.0           0.0            0.0           0.0        0.0             1.0\n",
       "3  74.0           1.0            1.0           0.0        0.0             0.0\n",
       "4  78.0           0.0            1.0           0.0        0.0           255.0"
      ]
     },
     "execution_count": 62,
     "metadata": {},
     "output_type": "execute_result"
    }
   ],
   "source": [
    "x_chi = pd.DataFrame(X_select_chi,columns = col_chi)\n",
    "x_chi.head()"
   ]
  },
  {
   "cell_type": "markdown",
   "id": "19ae39e6",
   "metadata": {},
   "source": [
    "### Mutual_info_classif"
   ]
  },
  {
   "cell_type": "markdown",
   "id": "e4a4ec59",
   "metadata": {},
   "source": [
    "mutual_info_classif: Mutual information for a discrete target.\n",
    "    \n",
    "mutual_info_regression: Mutual information for a continuous target."
   ]
  },
  {
   "cell_type": "code",
   "execution_count": 63,
   "id": "a14488e5",
   "metadata": {},
   "outputs": [
    {
     "name": "stdout",
     "output_type": "stream",
     "text": [
      " number of rows: 5109 \n",
      " number of columns: 6\n"
     ]
    }
   ],
   "source": [
    "selector_mutual = SelectKBest(mutual_info_classif, k=6)\n",
    "X_select_mutual= selector_mutual.fit_transform(X, np.ravel(y))\n",
    "print(' number of rows:',len(X_select_mutual),'\\n','number of columns:',len(X_select_mutual[0]))"
   ]
  },
  {
   "cell_type": "code",
   "execution_count": 64,
   "id": "ff589014",
   "metadata": {},
   "outputs": [
    {
     "data": {
      "text/plain": [
       "array(['age', 'heart_disease', 'ever_married', 'work_type',\n",
       "       'avg_glucose_level_cut', 'bmi_rep'], dtype=object)"
      ]
     },
     "execution_count": 64,
     "metadata": {},
     "output_type": "execute_result"
    }
   ],
   "source": [
    "col_mutual = selector_mutual.get_feature_names_out()\n",
    "col_mutual"
   ]
  },
  {
   "cell_type": "code",
   "execution_count": 65,
   "id": "b71b276c",
   "metadata": {},
   "outputs": [
    {
     "data": {
      "text/plain": [
       "array([1, 3, 4, 5, 8, 9], dtype=int64)"
      ]
     },
     "execution_count": 65,
     "metadata": {},
     "output_type": "execute_result"
    }
   ],
   "source": [
    "col_mutual_index= selector_mutual.get_support (indices = True)\n",
    "col_mutual_index"
   ]
  },
  {
   "cell_type": "code",
   "execution_count": 66,
   "id": "71bbab0e",
   "metadata": {},
   "outputs": [
    {
     "data": {
      "text/html": [
       "<div>\n",
       "<style scoped>\n",
       "    .dataframe tbody tr th:only-of-type {\n",
       "        vertical-align: middle;\n",
       "    }\n",
       "\n",
       "    .dataframe tbody tr th {\n",
       "        vertical-align: top;\n",
       "    }\n",
       "\n",
       "    .dataframe thead th {\n",
       "        text-align: right;\n",
       "    }\n",
       "</style>\n",
       "<table border=\"1\" class=\"dataframe\">\n",
       "  <thead>\n",
       "    <tr style=\"text-align: right;\">\n",
       "      <th></th>\n",
       "      <th>age</th>\n",
       "      <th>heart_disease</th>\n",
       "      <th>ever_married</th>\n",
       "      <th>work_type</th>\n",
       "      <th>avg_glucose_level_cut</th>\n",
       "      <th>bmi_rep</th>\n",
       "    </tr>\n",
       "  </thead>\n",
       "  <tbody>\n",
       "    <tr>\n",
       "      <th>0</th>\n",
       "      <td>67.0</td>\n",
       "      <td>1.0</td>\n",
       "      <td>0.0</td>\n",
       "      <td>0.0</td>\n",
       "      <td>5.0</td>\n",
       "      <td>36.600000</td>\n",
       "    </tr>\n",
       "    <tr>\n",
       "      <th>1</th>\n",
       "      <td>80.0</td>\n",
       "      <td>1.0</td>\n",
       "      <td>0.0</td>\n",
       "      <td>0.0</td>\n",
       "      <td>3.0</td>\n",
       "      <td>32.500000</td>\n",
       "    </tr>\n",
       "    <tr>\n",
       "      <th>2</th>\n",
       "      <td>81.0</td>\n",
       "      <td>0.0</td>\n",
       "      <td>0.0</td>\n",
       "      <td>0.0</td>\n",
       "      <td>4.0</td>\n",
       "      <td>29.000000</td>\n",
       "    </tr>\n",
       "    <tr>\n",
       "      <th>3</th>\n",
       "      <td>74.0</td>\n",
       "      <td>1.0</td>\n",
       "      <td>0.0</td>\n",
       "      <td>0.0</td>\n",
       "      <td>1.0</td>\n",
       "      <td>27.400000</td>\n",
       "    </tr>\n",
       "    <tr>\n",
       "      <th>4</th>\n",
       "      <td>78.0</td>\n",
       "      <td>1.0</td>\n",
       "      <td>0.0</td>\n",
       "      <td>0.0</td>\n",
       "      <td>5.0</td>\n",
       "      <td>27.247222</td>\n",
       "    </tr>\n",
       "  </tbody>\n",
       "</table>\n",
       "</div>"
      ],
      "text/plain": [
       "    age  heart_disease  ever_married  work_type  avg_glucose_level_cut  \\\n",
       "0  67.0            1.0           0.0        0.0                    5.0   \n",
       "1  80.0            1.0           0.0        0.0                    3.0   \n",
       "2  81.0            0.0           0.0        0.0                    4.0   \n",
       "3  74.0            1.0           0.0        0.0                    1.0   \n",
       "4  78.0            1.0           0.0        0.0                    5.0   \n",
       "\n",
       "     bmi_rep  \n",
       "0  36.600000  \n",
       "1  32.500000  \n",
       "2  29.000000  \n",
       "3  27.400000  \n",
       "4  27.247222  "
      ]
     },
     "execution_count": 66,
     "metadata": {},
     "output_type": "execute_result"
    }
   ],
   "source": [
    "x_mutual = pd.DataFrame(X_select_mutual,columns = col_mutual)\n",
    "x_mutual.head()"
   ]
  },
  {
   "cell_type": "markdown",
   "id": "03edb8c5",
   "metadata": {},
   "source": [
    "## 8.2 Wrapped Model Recursive Feature Elimination RFE"
   ]
  },
  {
   "cell_type": "code",
   "execution_count": 67,
   "id": "6f2b138e",
   "metadata": {},
   "outputs": [],
   "source": [
    "from sklearn.feature_selection import RFE"
   ]
  },
  {
   "cell_type": "code",
   "execution_count": 68,
   "id": "f9bff3df",
   "metadata": {},
   "outputs": [
    {
     "name": "stdout",
     "output_type": "stream",
     "text": [
      "<class 'pandas.core.frame.DataFrame'>\n",
      "RangeIndex: 5109 entries, 0 to 5108\n",
      "Data columns (total 10 columns):\n",
      " #   Column                 Non-Null Count  Dtype   \n",
      "---  ------                 --------------  -----   \n",
      " 0   gender                 5109 non-null   uint8   \n",
      " 1   age                    5109 non-null   float64 \n",
      " 2   hypertension           5109 non-null   int64   \n",
      " 3   heart_disease          5109 non-null   int64   \n",
      " 4   ever_married           5109 non-null   uint8   \n",
      " 5   work_type              5109 non-null   uint8   \n",
      " 6   Residence_type         5109 non-null   uint8   \n",
      " 7   smoking_status         5109 non-null   uint8   \n",
      " 8   avg_glucose_level_cut  5109 non-null   category\n",
      " 9   bmi_rep                5109 non-null   float64 \n",
      "dtypes: category(1), float64(2), int64(2), uint8(5)\n",
      "memory usage: 189.9 KB\n"
     ]
    }
   ],
   "source": [
    "X.info()"
   ]
  },
  {
   "cell_type": "code",
   "execution_count": 69,
   "id": "45718293",
   "metadata": {},
   "outputs": [
    {
     "name": "stdout",
     "output_type": "stream",
     "text": [
      "<class 'pandas.core.frame.DataFrame'>\n",
      "RangeIndex: 5109 entries, 0 to 5108\n",
      "Data columns (total 1 columns):\n",
      " #   Column  Non-Null Count  Dtype\n",
      "---  ------  --------------  -----\n",
      " 0   stroke  5109 non-null   int64\n",
      "dtypes: int64(1)\n",
      "memory usage: 40.0 KB\n"
     ]
    }
   ],
   "source": [
    "y.info()"
   ]
  },
  {
   "cell_type": "markdown",
   "id": "3a79fb92",
   "metadata": {},
   "source": [
    "### 8.2.1 RFE by logistic regression"
   ]
  },
  {
   "cell_type": "code",
   "execution_count": 70,
   "id": "fae3b1cc",
   "metadata": {},
   "outputs": [],
   "source": [
    "from sklearn.linear_model import LogisticRegression\n",
    "logit_model= LogisticRegression (max_iter=10000,C=10)"
   ]
  },
  {
   "cell_type": "code",
   "execution_count": 71,
   "id": "ffd04880",
   "metadata": {},
   "outputs": [
    {
     "data": {
      "text/plain": [
       "6"
      ]
     },
     "execution_count": 71,
     "metadata": {},
     "output_type": "execute_result"
    }
   ],
   "source": [
    "selector_log= RFE(logit_model, n_features_to_select = 6)\n",
    "x_select_log = selector_log.fit(X,np.ravel(y))\n",
    "x_select_log.n_features_"
   ]
  },
  {
   "cell_type": "code",
   "execution_count": 72,
   "id": "053180de",
   "metadata": {},
   "outputs": [
    {
     "data": {
      "text/plain": [
       "(array([1, 2, 3, 4, 6, 8], dtype=int64),)"
      ]
     },
     "execution_count": 72,
     "metadata": {},
     "output_type": "execute_result"
    }
   ],
   "source": [
    "x_select_log.support_.nonzero()"
   ]
  },
  {
   "cell_type": "code",
   "execution_count": 73,
   "id": "53ea422d",
   "metadata": {},
   "outputs": [
    {
     "data": {
      "text/plain": [
       "array([2, 1, 1, 1, 1, 4, 1, 5, 1, 3])"
      ]
     },
     "execution_count": 73,
     "metadata": {},
     "output_type": "execute_result"
    }
   ],
   "source": [
    "x_select_log.ranking_"
   ]
  },
  {
   "cell_type": "code",
   "execution_count": 74,
   "id": "22cbeb5d",
   "metadata": {},
   "outputs": [],
   "source": [
    "X_lr = X[X.columns[x_select_log.support_.nonzero()]]"
   ]
  },
  {
   "cell_type": "markdown",
   "id": "62cfbf12",
   "metadata": {},
   "source": [
    "### 8.2.2 RFE_Using Random Forest"
   ]
  },
  {
   "cell_type": "code",
   "execution_count": 75,
   "id": "c2eb1c81",
   "metadata": {},
   "outputs": [],
   "source": [
    "from sklearn.ensemble import RandomForestClassifier as RF\n",
    "RF_model = RF(n_estimators = 100)"
   ]
  },
  {
   "cell_type": "code",
   "execution_count": 76,
   "id": "6d37176f",
   "metadata": {},
   "outputs": [
    {
     "data": {
      "text/plain": [
       "6"
      ]
     },
     "execution_count": 76,
     "metadata": {},
     "output_type": "execute_result"
    }
   ],
   "source": [
    "# select the features using Random Forest\n",
    "select_RF = RFE(RF_model, n_features_to_select = 6)\n",
    "x_select_RF= select_RF.fit(X,np.ravel(y))\n",
    "x_select_RF.n_features_"
   ]
  },
  {
   "cell_type": "code",
   "execution_count": 77,
   "id": "46b28461",
   "metadata": {},
   "outputs": [
    {
     "data": {
      "text/plain": [
       "array([2, 1, 3, 4, 5, 1, 1, 1, 1, 1])"
      ]
     },
     "execution_count": 77,
     "metadata": {},
     "output_type": "execute_result"
    }
   ],
   "source": [
    "x_select_RF.ranking_"
   ]
  },
  {
   "cell_type": "code",
   "execution_count": 78,
   "id": "87683fea",
   "metadata": {},
   "outputs": [
    {
     "data": {
      "text/plain": [
       "(array([1, 5, 6, 7, 8, 9], dtype=int64),)"
      ]
     },
     "execution_count": 78,
     "metadata": {},
     "output_type": "execute_result"
    }
   ],
   "source": [
    "x_select_RF.support_.nonzero()"
   ]
  },
  {
   "cell_type": "code",
   "execution_count": 79,
   "id": "5ba520b2",
   "metadata": {},
   "outputs": [],
   "source": [
    "X_RF = X[X.columns[x_select_RF.support_.nonzero()]]"
   ]
  },
  {
   "cell_type": "code",
   "execution_count": 80,
   "id": "c7ac1292",
   "metadata": {},
   "outputs": [
    {
     "name": "stdout",
     "output_type": "stream",
     "text": [
      "<class 'pandas.core.frame.DataFrame'>\n",
      "RangeIndex: 5109 entries, 0 to 5108\n",
      "Data columns (total 6 columns):\n",
      " #   Column                 Non-Null Count  Dtype   \n",
      "---  ------                 --------------  -----   \n",
      " 0   age                    5109 non-null   float64 \n",
      " 1   work_type              5109 non-null   uint8   \n",
      " 2   Residence_type         5109 non-null   uint8   \n",
      " 3   smoking_status         5109 non-null   uint8   \n",
      " 4   avg_glucose_level_cut  5109 non-null   category\n",
      " 5   bmi_rep                5109 non-null   float64 \n",
      "dtypes: category(1), float64(2), uint8(3)\n",
      "memory usage: 100.1 KB\n"
     ]
    }
   ],
   "source": [
    "X_RF.info()"
   ]
  },
  {
   "cell_type": "markdown",
   "id": "b73ce965",
   "metadata": {},
   "source": [
    "# 9. Choose one algorithm as baseline to check accuracy of selected features"
   ]
  },
  {
   "cell_type": "markdown",
   "id": "c698b9c9",
   "metadata": {},
   "source": [
    "## 9.1 Use Decision Tree as baseline"
   ]
  },
  {
   "cell_type": "code",
   "execution_count": 81,
   "id": "86604636",
   "metadata": {},
   "outputs": [],
   "source": [
    "from sklearn.tree import DecisionTreeClassifier as DT\n",
    "model = DT()"
   ]
  },
  {
   "cell_type": "code",
   "execution_count": 82,
   "id": "0a1ffdd0",
   "metadata": {},
   "outputs": [],
   "source": [
    "df.drop(columns=['avg_glucose_level','bmi'],inplace = True)\n",
    "tree = df.copy(deep = True)"
   ]
  },
  {
   "cell_type": "code",
   "execution_count": 83,
   "id": "befc8d3c",
   "metadata": {},
   "outputs": [],
   "source": [
    "tree = tree.iloc[:,[0, 1, 2, 3, 4, 5, 6, 7]]"
   ]
  },
  {
   "cell_type": "code",
   "execution_count": 84,
   "id": "ea8426b8",
   "metadata": {},
   "outputs": [],
   "source": [
    "tree.to_csv('data_new.csv',index = False)"
   ]
  },
  {
   "cell_type": "code",
   "execution_count": 85,
   "id": "cbf65f3a",
   "metadata": {},
   "outputs": [],
   "source": [
    "# tree.drop_duplicates(inplace = True)\n",
    "tree_X = tree.iloc[:,0:-1]\n",
    "tree_y = tree.iloc[:,-1:]"
   ]
  },
  {
   "cell_type": "code",
   "execution_count": 86,
   "id": "eb62fb6d",
   "metadata": {},
   "outputs": [],
   "source": [
    "from sklearn.model_selection import train_test_split\n",
    "X_train,X_test,y_train,y_test = train_test_split(tree_X,tree_y,test_size = 0.4,stratify = y,random_state = 22)"
   ]
  },
  {
   "cell_type": "code",
   "execution_count": 87,
   "id": "ed3bdca0",
   "metadata": {},
   "outputs": [],
   "source": [
    "Model = model.fit(X_train,y_train)"
   ]
  },
  {
   "cell_type": "code",
   "execution_count": 88,
   "id": "f3016881",
   "metadata": {},
   "outputs": [
    {
     "data": {
      "text/plain": [
       "0.4207"
      ]
     },
     "execution_count": 88,
     "metadata": {},
     "output_type": "execute_result"
    }
   ],
   "source": [
    "Model.score(X_test,y_test).round(4)"
   ]
  },
  {
   "cell_type": "code",
   "execution_count": 89,
   "id": "72270958",
   "metadata": {},
   "outputs": [],
   "source": [
    "from sklearn.metrics import f1_score"
   ]
  },
  {
   "cell_type": "code",
   "execution_count": 90,
   "id": "2d7a0071",
   "metadata": {},
   "outputs": [
    {
     "data": {
      "text/plain": [
       "0.4207"
      ]
     },
     "execution_count": 90,
     "metadata": {},
     "output_type": "execute_result"
    }
   ],
   "source": [
    "y_pred= Model.predict(X_test)\n",
    "f1_score(y_test,y_pred,average='micro').round(4)"
   ]
  },
  {
   "cell_type": "markdown",
   "id": "0ae19099",
   "metadata": {},
   "source": [
    "## 9.2 Visulization (not requried in Assignment)"
   ]
  },
  {
   "cell_type": "code",
   "execution_count": 91,
   "id": "36def54e",
   "metadata": {},
   "outputs": [
    {
     "data": {
      "image/png": "[encoded data removed]",
      "text/plain": [
       "<Figure size 1440x864 with 1 Axes>"
      ]
     },
     "metadata": {
      "needs_background": "light"
     },
     "output_type": "display_data"
    }
   ],
   "source": [
    "# Example just using 3 features for reading more clearly\n",
    "X_visual = X.iloc[:,0:3]\n",
    "dt_visual = model.fit(X_visual,y)\n",
    "from sklearn import tree\n",
    "plt.figure(figsize = (20,12))\n",
    "tree.plot_tree(dt_visual,\n",
    "feature_names = X.columns,\n",
    "class_names = ['non_stroke','stroke'],\n",
    "filled = True, fontsize = 12)\n",
    "plt.show()"
   ]
  },
  {
   "cell_type": "code",
   "execution_count": 98,
   "id": "ee8d48c9",
   "metadata": {},
   "outputs": [],
   "source": [
    "select_data=df[['age','gender','work_type','Residence_type','smoking_status','avg_glucose_level_cut','bmi_rep','stroke']]"
   ]
  },
  {
   "cell_type": "code",
   "execution_count": 99,
   "id": "fd457fd9",
   "metadata": {},
   "outputs": [
    {
     "data": {
      "text/html": [
       "<div>\n",
       "<style scoped>\n",
       "    .dataframe tbody tr th:only-of-type {\n",
       "        vertical-align: middle;\n",
       "    }\n",
       "\n",
       "    .dataframe tbody tr th {\n",
       "        vertical-align: top;\n",
       "    }\n",
       "\n",
       "    .dataframe thead th {\n",
       "        text-align: right;\n",
       "    }\n",
       "</style>\n",
       "<table border=\"1\" class=\"dataframe\">\n",
       "  <thead>\n",
       "    <tr style=\"text-align: right;\">\n",
       "      <th></th>\n",
       "      <th>age</th>\n",
       "      <th>gender</th>\n",
       "      <th>work_type</th>\n",
       "      <th>Residence_type</th>\n",
       "      <th>smoking_status</th>\n",
       "      <th>avg_glucose_level_cut</th>\n",
       "      <th>bmi_rep</th>\n",
       "      <th>stroke</th>\n",
       "    </tr>\n",
       "  </thead>\n",
       "  <tbody>\n",
       "    <tr>\n",
       "      <th>0</th>\n",
       "      <td>67.0</td>\n",
       "      <td>0</td>\n",
       "      <td>0</td>\n",
       "      <td>1</td>\n",
       "      <td>1</td>\n",
       "      <td>5</td>\n",
       "      <td>36.600000</td>\n",
       "      <td>1</td>\n",
       "    </tr>\n",
       "    <tr>\n",
       "      <th>1</th>\n",
       "      <td>80.0</td>\n",
       "      <td>0</td>\n",
       "      <td>0</td>\n",
       "      <td>0</td>\n",
       "      <td>0</td>\n",
       "      <td>3</td>\n",
       "      <td>32.500000</td>\n",
       "      <td>1</td>\n",
       "    </tr>\n",
       "    <tr>\n",
       "      <th>2</th>\n",
       "      <td>81.0</td>\n",
       "      <td>0</td>\n",
       "      <td>0</td>\n",
       "      <td>1</td>\n",
       "      <td>1</td>\n",
       "      <td>4</td>\n",
       "      <td>29.000000</td>\n",
       "      <td>1</td>\n",
       "    </tr>\n",
       "    <tr>\n",
       "      <th>3</th>\n",
       "      <td>74.0</td>\n",
       "      <td>0</td>\n",
       "      <td>0</td>\n",
       "      <td>0</td>\n",
       "      <td>0</td>\n",
       "      <td>1</td>\n",
       "      <td>27.400000</td>\n",
       "      <td>1</td>\n",
       "    </tr>\n",
       "    <tr>\n",
       "      <th>4</th>\n",
       "      <td>78.0</td>\n",
       "      <td>0</td>\n",
       "      <td>0</td>\n",
       "      <td>1</td>\n",
       "      <td>255</td>\n",
       "      <td>5</td>\n",
       "      <td>27.247222</td>\n",
       "      <td>1</td>\n",
       "    </tr>\n",
       "  </tbody>\n",
       "</table>\n",
       "</div>"
      ],
      "text/plain": [
       "    age  gender  work_type  Residence_type  smoking_status  \\\n",
       "0  67.0       0          0               1               1   \n",
       "1  80.0       0          0               0               0   \n",
       "2  81.0       0          0               1               1   \n",
       "3  74.0       0          0               0               0   \n",
       "4  78.0       0          0               1             255   \n",
       "\n",
       "  avg_glucose_level_cut    bmi_rep  stroke  \n",
       "0                     5  36.600000       1  \n",
       "1                     3  32.500000       1  \n",
       "2                     4  29.000000       1  \n",
       "3                     1  27.400000       1  \n",
       "4                     5  27.247222       1  "
      ]
     },
     "execution_count": 99,
     "metadata": {},
     "output_type": "execute_result"
    }
   ],
   "source": [
    "select_data.head()"
   ]
  },
  {
   "cell_type": "code",
   "execution_count": 100,
   "id": "99cbd0eb",
   "metadata": {},
   "outputs": [],
   "source": [
    "select_data.to_csv('Select_Healthcare-Dataset-Stroke-Data.csv',index = False)"
   ]
  }
 ],
 "metadata": {
  "kernelspec": {
   "display_name": "Python 3 (ipykernel)",
   "language": "python",
   "name": "python3"
  },
  "language_info": {
   "codemirror_mode": {
    "name": "ipython",
    "version": 3
   },
   "file_extension": ".py",
   "mimetype": "text/x-python",
   "name": "python",
   "nbconvert_exporter": "python",
   "pygments_lexer": "ipython3",
   "version": "3.7.10"
  }
 },
 "nbformat": 4,
 "nbformat_minor": 5
}
