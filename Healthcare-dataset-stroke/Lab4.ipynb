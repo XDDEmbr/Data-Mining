{
 "cells": [
  {
   "cell_type": "markdown",
   "id": "53a7f241",
   "metadata": {},
   "source": [
    "# 1. Load data"
   ]
  },
  {
   "cell_type": "code",
   "execution_count": 1,
   "id": "d06037a7",
   "metadata": {},
   "outputs": [],
   "source": [
    "import pandas as pd\n",
    "import numpy as np\n",
    "import seaborn as sns\n",
    "import warnings\n",
    "warnings.filterwarnings('ignore')"
   ]
  },
  {
   "cell_type": "code",
   "execution_count": 2,
   "id": "261daeaa",
   "metadata": {},
   "outputs": [],
   "source": [
    "path = 'Select_Healthcare-Dataset-Stroke-Data.csv'\n",
    "df = pd.read_csv(path)"
   ]
  },
  {
   "cell_type": "markdown",
   "id": "0e6e86cb",
   "metadata": {},
   "source": [
    "# 2. Find out basic information"
   ]
  },
  {
   "cell_type": "code",
   "execution_count": 3,
   "id": "6d8e4fd3",
   "metadata": {},
   "outputs": [
    {
     "data": {
      "text/html": [
       "<div>\n",
       "<style scoped>\n",
       "    .dataframe tbody tr th:only-of-type {\n",
       "        vertical-align: middle;\n",
       "    }\n",
       "\n",
       "    .dataframe tbody tr th {\n",
       "        vertical-align: top;\n",
       "    }\n",
       "\n",
       "    .dataframe thead th {\n",
       "        text-align: right;\n",
       "    }\n",
       "</style>\n",
       "<table border=\"1\" class=\"dataframe\">\n",
       "  <thead>\n",
       "    <tr style=\"text-align: right;\">\n",
       "      <th></th>\n",
       "      <th>age</th>\n",
       "      <th>gender</th>\n",
       "      <th>work_type</th>\n",
       "      <th>Residence_type</th>\n",
       "      <th>smoking_status</th>\n",
       "      <th>avg_glucose_level_cut</th>\n",
       "      <th>bmi_rep</th>\n",
       "      <th>stroke</th>\n",
       "    </tr>\n",
       "  </thead>\n",
       "  <tbody>\n",
       "    <tr>\n",
       "      <th>0</th>\n",
       "      <td>67.0</td>\n",
       "      <td>0</td>\n",
       "      <td>0</td>\n",
       "      <td>1</td>\n",
       "      <td>1</td>\n",
       "      <td>5</td>\n",
       "      <td>36.600000</td>\n",
       "      <td>1</td>\n",
       "    </tr>\n",
       "    <tr>\n",
       "      <th>1</th>\n",
       "      <td>80.0</td>\n",
       "      <td>0</td>\n",
       "      <td>0</td>\n",
       "      <td>0</td>\n",
       "      <td>0</td>\n",
       "      <td>3</td>\n",
       "      <td>32.500000</td>\n",
       "      <td>1</td>\n",
       "    </tr>\n",
       "    <tr>\n",
       "      <th>2</th>\n",
       "      <td>81.0</td>\n",
       "      <td>0</td>\n",
       "      <td>0</td>\n",
       "      <td>1</td>\n",
       "      <td>1</td>\n",
       "      <td>4</td>\n",
       "      <td>29.000000</td>\n",
       "      <td>1</td>\n",
       "    </tr>\n",
       "    <tr>\n",
       "      <th>3</th>\n",
       "      <td>74.0</td>\n",
       "      <td>0</td>\n",
       "      <td>0</td>\n",
       "      <td>0</td>\n",
       "      <td>0</td>\n",
       "      <td>1</td>\n",
       "      <td>27.400000</td>\n",
       "      <td>1</td>\n",
       "    </tr>\n",
       "    <tr>\n",
       "      <th>4</th>\n",
       "      <td>78.0</td>\n",
       "      <td>0</td>\n",
       "      <td>0</td>\n",
       "      <td>1</td>\n",
       "      <td>255</td>\n",
       "      <td>5</td>\n",
       "      <td>27.247222</td>\n",
       "      <td>1</td>\n",
       "    </tr>\n",
       "  </tbody>\n",
       "</table>\n",
       "</div>"
      ],
      "text/plain": [
       "    age  gender  work_type  Residence_type  smoking_status  \\\n",
       "0  67.0       0          0               1               1   \n",
       "1  80.0       0          0               0               0   \n",
       "2  81.0       0          0               1               1   \n",
       "3  74.0       0          0               0               0   \n",
       "4  78.0       0          0               1             255   \n",
       "\n",
       "   avg_glucose_level_cut    bmi_rep  stroke  \n",
       "0                      5  36.600000       1  \n",
       "1                      3  32.500000       1  \n",
       "2                      4  29.000000       1  \n",
       "3                      1  27.400000       1  \n",
       "4                      5  27.247222       1  "
      ]
     },
     "execution_count": 3,
     "metadata": {},
     "output_type": "execute_result"
    }
   ],
   "source": [
    "df.head()"
   ]
  },
  {
   "cell_type": "code",
   "execution_count": 4,
   "id": "932d099e",
   "metadata": {},
   "outputs": [
    {
     "data": {
      "text/plain": [
       "(5109, 8)"
      ]
     },
     "execution_count": 4,
     "metadata": {},
     "output_type": "execute_result"
    }
   ],
   "source": [
    "df.shape"
   ]
  },
  {
   "cell_type": "code",
   "execution_count": 5,
   "id": "b7cb9719",
   "metadata": {},
   "outputs": [
    {
     "name": "stdout",
     "output_type": "stream",
     "text": [
      "<class 'pandas.core.frame.DataFrame'>\n",
      "RangeIndex: 5109 entries, 0 to 5108\n",
      "Data columns (total 8 columns):\n",
      " #   Column                 Non-Null Count  Dtype  \n",
      "---  ------                 --------------  -----  \n",
      " 0   age                    5109 non-null   float64\n",
      " 1   gender                 5109 non-null   int64  \n",
      " 2   work_type              5109 non-null   int64  \n",
      " 3   Residence_type         5109 non-null   int64  \n",
      " 4   smoking_status         5109 non-null   int64  \n",
      " 5   avg_glucose_level_cut  5109 non-null   int64  \n",
      " 6   bmi_rep                5109 non-null   float64\n",
      " 7   stroke                 5109 non-null   int64  \n",
      "dtypes: float64(2), int64(6)\n",
      "memory usage: 319.4 KB\n"
     ]
    }
   ],
   "source": [
    "df.info()"
   ]
  },
  {
   "cell_type": "markdown",
   "id": "fb04e817",
   "metadata": {},
   "source": [
    "# 3.  Model preparation"
   ]
  },
  {
   "cell_type": "markdown",
   "id": "64748b69",
   "metadata": {},
   "source": [
    "## 3.1 Label coding, X, y establishment"
   ]
  },
  {
   "cell_type": "code",
   "execution_count": 6,
   "id": "e45cd77b",
   "metadata": {},
   "outputs": [],
   "source": [
    "X  = df.drop(['stroke'],axis=1)\n",
    "y = df['stroke']"
   ]
  },
  {
   "cell_type": "markdown",
   "id": "31547dcd",
   "metadata": {},
   "source": [
    "## 3.2 Establish training set, test set"
   ]
  },
  {
   "cell_type": "code",
   "execution_count": 7,
   "id": "15f6ab5a",
   "metadata": {},
   "outputs": [],
   "source": [
    "from sklearn.model_selection import train_test_split\n",
    "X_train, X_test, y_train, y_test = train_test_split(X, y, train_size=0.3, random_state=42)"
   ]
  },
  {
   "cell_type": "markdown",
   "id": "9ecfca5e",
   "metadata": {},
   "source": [
    "## 3.3 Data balancing"
   ]
  },
  {
   "cell_type": "code",
   "execution_count": 8,
   "id": "bb8bd5b3",
   "metadata": {},
   "outputs": [],
   "source": [
    "from imblearn.over_sampling import SMOTE\n",
    "smo = SMOTE(random_state=42)"
   ]
  },
  {
   "cell_type": "code",
   "execution_count": 9,
   "id": "feb9a158",
   "metadata": {},
   "outputs": [],
   "source": [
    "over_samples = SMOTE()\n",
    "X_train_resh, y_train_resh = over_samples.fit_resample(X_train, y_train)"
   ]
  },
  {
   "cell_type": "markdown",
   "id": "ee8e8295",
   "metadata": {},
   "source": [
    "Our data is now equal!"
   ]
  },
  {
   "cell_type": "markdown",
   "id": "3b8653cf",
   "metadata": {},
   "source": [
    "# 4. Models"
   ]
  },
  {
   "cell_type": "markdown",
   "id": "27e4e1e6",
   "metadata": {},
   "source": [
    "## 4.1 Scaling the Data"
   ]
  },
  {
   "cell_type": "code",
   "execution_count": 10,
   "id": "c777611c",
   "metadata": {},
   "outputs": [],
   "source": [
    "from sklearn.pipeline import Pipeline\n",
    "from sklearn.preprocessing import StandardScaler,LabelEncoder\n",
    "from sklearn.model_selection import train_test_split,cross_val_score"
   ]
  },
  {
   "cell_type": "code",
   "execution_count": 11,
   "id": "05f8c9e3",
   "metadata": {},
   "outputs": [],
   "source": [
    "from sklearn.linear_model import LinearRegression,LogisticRegression\n",
    "from sklearn.tree import DecisionTreeRegressor,DecisionTreeClassifier\n",
    "from sklearn.ensemble import RandomForestClassifier"
   ]
  },
  {
   "cell_type": "code",
   "execution_count": 12,
   "id": "de9f398b",
   "metadata": {},
   "outputs": [],
   "source": [
    "rf_pipeline = Pipeline(steps = [('scale',StandardScaler()),('RF',RandomForestClassifier(random_state=42))])\n",
    "logreg_pipeline = Pipeline(steps = [('scale',StandardScaler()),('LR',LogisticRegression(random_state=42))])"
   ]
  },
  {
   "cell_type": "markdown",
   "id": "850f5350",
   "metadata": {},
   "source": [
    "## 4.2 cross_val_score"
   ]
  },
  {
   "cell_type": "code",
   "execution_count": 13,
   "id": "c39a3df3",
   "metadata": {},
   "outputs": [],
   "source": [
    "rf_cv = cross_val_score(rf_pipeline,X_train_resh,y_train_resh,cv=10,scoring='f1')\n",
    "logreg_cv = cross_val_score(logreg_pipeline,X_train_resh,y_train_resh,cv=10,scoring='f1')"
   ]
  },
  {
   "cell_type": "code",
   "execution_count": 14,
   "id": "71e6d6d3",
   "metadata": {},
   "outputs": [
    {
     "name": "stdout",
     "output_type": "stream",
     "text": [
      "Mean f1 scores:\n",
      "Random Forest mean : 0.9455041593898017\n",
      "Logistic Regression mean : 0.8416339843893814\n"
     ]
    }
   ],
   "source": [
    "print('Mean f1 scores:')\n",
    "print('Random Forest mean :',cross_val_score(rf_pipeline,X_train_resh,y_train_resh,cv=10,scoring='f1').mean())\n",
    "print('Logistic Regression mean :',cross_val_score(logreg_pipeline,X_train_resh,y_train_resh,cv=10,scoring='f1').mean())"
   ]
  },
  {
   "cell_type": "markdown",
   "id": "f0de88a0",
   "metadata": {},
   "source": [
    "Random Forest performed the best. "
   ]
  },
  {
   "cell_type": "markdown",
   "id": "c5c3b6cc",
   "metadata": {},
   "source": [
    "## 4.3 Random Forest"
   ]
  },
  {
   "cell_type": "markdown",
   "id": "38bf99c0",
   "metadata": {},
   "source": [
    "We will try using a grid search to find the optimal parameters for our Random Forest."
   ]
  },
  {
   "cell_type": "code",
   "execution_count": 15,
   "id": "60d70952",
   "metadata": {},
   "outputs": [],
   "source": [
    "from sklearn import metrics\n",
    "import matplotlib.pyplot as plt\n",
    "\n",
    "from sklearn.metrics import confusion_matrix\n",
    "from sklearn.metrics import plot_confusion_matrix, classification_report\n",
    "from sklearn.metrics import classification_report, confusion_matrix\n",
    "from sklearn.metrics import accuracy_score, recall_score, roc_auc_score, precision_score, f1_score"
   ]
  },
  {
   "cell_type": "markdown",
   "id": "caa4937a",
   "metadata": {},
   "source": [
    "### cross validation"
   ]
  },
  {
   "cell_type": "code",
   "execution_count": 16,
   "id": "77061cce",
   "metadata": {},
   "outputs": [],
   "source": [
    "from sklearn.model_selection import GridSearchCV\n",
    "\n",
    "n_estimators =[64,100,128,200]\n",
    "max_features = [2,3,5,7]\n",
    "bootstrap = [True,False]\n",
    "\n",
    "param_grid = {'n_estimators':n_estimators,\n",
    "             'max_features':max_features,\n",
    "             'bootstrap':bootstrap}"
   ]
  },
  {
   "cell_type": "code",
   "execution_count": 17,
   "id": "5d1d009b",
   "metadata": {},
   "outputs": [],
   "source": [
    "rfc = RandomForestClassifier()"
   ]
  },
  {
   "cell_type": "code",
   "execution_count": 18,
   "id": "64a53a5f",
   "metadata": {},
   "outputs": [
    {
     "data": {
      "text/plain": [
       "GridSearchCV(estimator=RandomForestClassifier(),\n",
       "             param_grid={'bootstrap': [True, False],\n",
       "                         'max_features': [2, 3, 5, 7],\n",
       "                         'n_estimators': [64, 100, 128, 200]})"
      ]
     },
     "execution_count": 18,
     "metadata": {},
     "output_type": "execute_result"
    }
   ],
   "source": [
    "grid = GridSearchCV(rfc,param_grid)\n",
    "\n",
    "grid.fit(X_train,y_train)"
   ]
  },
  {
   "cell_type": "markdown",
   "id": "1aad3686",
   "metadata": {},
   "source": [
    "### the optimal parameters"
   ]
  },
  {
   "cell_type": "code",
   "execution_count": 19,
   "id": "08743c52",
   "metadata": {},
   "outputs": [
    {
     "data": {
      "text/plain": [
       "{'bootstrap': True, 'max_features': 5, 'n_estimators': 64}"
      ]
     },
     "execution_count": 19,
     "metadata": {},
     "output_type": "execute_result"
    }
   ],
   "source": [
    "grid.best_params_"
   ]
  },
  {
   "cell_type": "markdown",
   "id": "58946fa0",
   "metadata": {},
   "source": [
    "### model fitting"
   ]
  },
  {
   "cell_type": "code",
   "execution_count": 20,
   "id": "bcaa0d42",
   "metadata": {},
   "outputs": [
    {
     "data": {
      "text/plain": [
       "RandomForestClassifier(max_features=2)"
      ]
     },
     "execution_count": 20,
     "metadata": {},
     "output_type": "execute_result"
    }
   ],
   "source": [
    "rfc = RandomForestClassifier(max_features=2,n_estimators=100,bootstrap=True)\n",
    "\n",
    "rfc.fit(X_train_resh,y_train_resh)"
   ]
  },
  {
   "cell_type": "markdown",
   "id": "fdda0386",
   "metadata": {},
   "source": [
    "### model predict"
   ]
  },
  {
   "cell_type": "code",
   "execution_count": 21,
   "id": "c41f977a",
   "metadata": {},
   "outputs": [
    {
     "data": {
      "text/plain": [
       "array([0, 0, 0, ..., 0, 0, 0], dtype=int64)"
      ]
     },
     "execution_count": 21,
     "metadata": {},
     "output_type": "execute_result"
    }
   ],
   "source": [
    "rfc_tuned_pred = rfc.predict(X_test)\n",
    "rfc_tuned_pred"
   ]
  },
  {
   "cell_type": "markdown",
   "id": "6abf0342",
   "metadata": {},
   "source": [
    "### model evaluation"
   ]
  },
  {
   "cell_type": "code",
   "execution_count": 22,
   "id": "5582ee1e",
   "metadata": {},
   "outputs": [
    {
     "name": "stdout",
     "output_type": "stream",
     "text": [
      "              precision    recall  f1-score   support\n",
      "\n",
      "           0       0.96      0.91      0.94      3399\n",
      "           1       0.14      0.26      0.18       178\n",
      "\n",
      "    accuracy                           0.88      3577\n",
      "   macro avg       0.55      0.59      0.56      3577\n",
      "weighted avg       0.92      0.88      0.90      3577\n",
      "\n"
     ]
    }
   ],
   "source": [
    "class_report_1=classification_report(y_test,rfc_tuned_pred)\n",
    "print(class_report_1)"
   ]
  },
  {
   "cell_type": "code",
   "execution_count": 23,
   "id": "5f651b36",
   "metadata": {},
   "outputs": [
    {
     "data": {
      "text/plain": [
       "0.8817444786133631"
      ]
     },
     "execution_count": 23,
     "metadata": {},
     "output_type": "execute_result"
    }
   ],
   "source": [
    "accuracy_score_1=accuracy_score(y_test,rfc_tuned_pred)\n",
    "accuracy_score_1"
   ]
  },
  {
   "cell_type": "code",
   "execution_count": 24,
   "id": "fd744da6",
   "metadata": {},
   "outputs": [
    {
     "data": {
      "text/plain": [
       "0.17864077669902914"
      ]
     },
     "execution_count": 24,
     "metadata": {},
     "output_type": "execute_result"
    }
   ],
   "source": [
    "f1_score_1=f1_score(y_test,rfc_tuned_pred)\n",
    "f1_score_1"
   ]
  },
  {
   "cell_type": "markdown",
   "id": "16930038",
   "metadata": {},
   "source": [
    "### confusion_matrix"
   ]
  },
  {
   "cell_type": "code",
   "execution_count": 25,
   "id": "860e069f",
   "metadata": {},
   "outputs": [],
   "source": [
    "def generate_results(model, predictions, name):\n",
    "    cl_rep = classification_report(y_test, predictions)\n",
    "    print(\"\\nThe classification report for \" + name + \" is:\", cl_rep, sep = \"\\n\")\n",
    "    cm_model = confusion_matrix(y_test, predictions)\n",
    "    plt.figure(figsize = (8, 6))\n",
    "    sns.heatmap(cm_model, annot = True, cmap = 'Blues', annot_kws = {'size': 15}, square = True)\n",
    "    plt.title('Confusion Matrix for ' + name, size = 15)\n",
    "    plt.xticks(size = 15)\n",
    "    plt.yticks(size = 15)\n",
    "    plt.show() "
   ]
  },
  {
   "cell_type": "code",
   "execution_count": 26,
   "id": "e77a399b",
   "metadata": {},
   "outputs": [
    {
     "name": "stdout",
     "output_type": "stream",
     "text": [
      "\n",
      "The classification report for Random Forest is:\n",
      "              precision    recall  f1-score   support\n",
      "\n",
      "           0       0.96      0.91      0.94      3399\n",
      "           1       0.14      0.26      0.18       178\n",
      "\n",
      "    accuracy                           0.88      3577\n",
      "   macro avg       0.55      0.59      0.56      3577\n",
      "weighted avg       0.92      0.88      0.90      3577\n",
      "\n"
     ]
    },
    {
     "data": {
      "image/png": "[encoded data removed]",
      "text/plain": [
       "<Figure size 576x432 with 2 Axes>"
      ]
     },
     "metadata": {
      "needs_background": "light"
     },
     "output_type": "display_data"
    }
   ],
   "source": [
    "generate_results(rfc, rfc_tuned_pred, 'Random Forest')"
   ]
  },
  {
   "cell_type": "markdown",
   "id": "6346a7dd",
   "metadata": {},
   "source": [
    "### ROC Curve"
   ]
  },
  {
   "cell_type": "code",
   "execution_count": 27,
   "id": "85027fce",
   "metadata": {},
   "outputs": [
    {
     "data": {
      "image/png": "[encoded data removed]",
      "text/plain": [
       "<Figure size 432x288 with 1 Axes>"
      ]
     },
     "metadata": {
      "needs_background": "light"
     },
     "output_type": "display_data"
    }
   ],
   "source": [
    "y_score = rfc.predict_proba(X_test)[:,1]\n",
    "fpr,tpr,threshold = metrics.roc_curve(y_test, y_score)\n",
    "roc_auc = metrics.auc(fpr,tpr)\n",
    "\n",
    "plt.stackplot(fpr, tpr, color='steelblue', alpha = 0.5, edgecolor = 'black')\n",
    "plt.plot(fpr, tpr, color='black', lw = 1)\n",
    "plt.plot([0,1],[0,1], color = 'red', linestyle = '--')\n",
    "plt.text(0.5,0.3,'ROC curve (area = %0.2f)' % roc_auc)\n",
    "plt.xlabel('1-Specificity')\n",
    "plt.ylabel('Sensitivity')\n",
    "plt.show()"
   ]
  },
  {
   "cell_type": "markdown",
   "id": "721e9e8d",
   "metadata": {},
   "source": [
    "### KS Curve"
   ]
  },
  {
   "cell_type": "code",
   "execution_count": 28,
   "id": "d50d0049",
   "metadata": {},
   "outputs": [],
   "source": [
    "def plot_ks(y_test, y_score, positive_flag):\n",
    "    y_test.index = np.arange(len(y_test))\n",
    "  \n",
    "    target_data = pd.DataFrame({'y_test':y_test, 'y_score':y_score})\n",
    "    \n",
    "    target_data.sort_values(by = 'y_score', ascending = False, inplace = True)\n",
    "    \n",
    "    cuts = np.arange(0.1,1,0.1)\n",
    "    \n",
    "    index = len(target_data.y_score)*cuts\n",
    "    scores = np.array(target_data.y_score)[index.astype('int')]\n",
    "  \n",
    "    Sensitivity = []\n",
    "    Specificity = []\n",
    "    for score in scores:\n",
    "      \n",
    "        positive_recall = target_data.loc[(target_data.y_test == positive_flag) & (target_data.y_score>score),:].shape[0]\n",
    "        positive = sum(target_data.y_test == positive_flag)\n",
    "        \n",
    "        negative_recall = target_data.loc[(target_data.y_test != positive_flag) & (target_data.y_score<=score),:].shape[0]\n",
    "        negative = sum(target_data.y_test != positive_flag)\n",
    "        Sensitivity.append(positive_recall/positive)\n",
    "        Specificity.append(negative_recall/negative)\n",
    "\n",
    "    plot_data = pd.DataFrame({'cuts':cuts,'y1':1-np.array(Specificity),'y2':np.array(Sensitivity), \n",
    "                              'ks':np.array(Sensitivity)-(1-np.array(Specificity))})\n",
    "   \n",
    "    max_ks_index = np.argmax(plot_data.ks)\n",
    "    plt.plot([0]+cuts.tolist()+[1], [0]+plot_data.y1.tolist()+[1], label = '1-Specificity')\n",
    "    plt.plot([0]+cuts.tolist()+[1], [0]+plot_data.y2.tolist()+[1], label = 'Sensitivity')\n",
    "  \n",
    "    plt.vlines(plot_data.cuts[max_ks_index], ymin = plot_data.y1[max_ks_index], \n",
    "               ymax = plot_data.y2[max_ks_index], linestyles = '--')\n",
    "\n",
    "    plt.text(x = plot_data.cuts[max_ks_index]+0.01,\n",
    "             y = plot_data.y1[max_ks_index]+plot_data.ks[max_ks_index]/2,\n",
    "             s = 'KS= %.2f' %plot_data.ks[max_ks_index])\n",
    "  \n",
    "    plt.legend()\n",
    "\n",
    "    plt.show()"
   ]
  },
  {
   "cell_type": "code",
   "execution_count": 29,
   "id": "3c193e6e",
   "metadata": {},
   "outputs": [
    {
     "data": {
      "image/png": "[encoded data removed]",
      "text/plain": [
       "<Figure size 432x288 with 1 Axes>"
      ]
     },
     "metadata": {
      "needs_background": "light"
     },
     "output_type": "display_data"
    }
   ],
   "source": [
    "plot_ks(y_test, y_score, positive_flag=1)"
   ]
  },
  {
   "cell_type": "markdown",
   "id": "3f440e97",
   "metadata": {},
   "source": [
    "### feature importances"
   ]
  },
  {
   "cell_type": "code",
   "execution_count": 30,
   "id": "c2ac53e9",
   "metadata": {},
   "outputs": [
    {
     "data": {
      "image/png": "[encoded data removed]",
      "text/plain": [
       "<Figure size 432x288 with 1 Axes>"
      ]
     },
     "metadata": {
      "needs_background": "light"
     },
     "output_type": "display_data"
    }
   ],
   "source": [
    "importance = rfc.feature_importances_\n",
    "\n",
    "Impt_Series = pd.Series(importance, index = X_train.columns)\n",
    "\n",
    "Impt_Series.sort_values(ascending = True).plot(kind='barh')\n",
    "plt.show()"
   ]
  },
  {
   "cell_type": "markdown",
   "id": "67745e0d",
   "metadata": {},
   "source": [
    "## 4.4 Logistic Regression"
   ]
  },
  {
   "cell_type": "code",
   "execution_count": 31,
   "id": "e15b50b9",
   "metadata": {},
   "outputs": [],
   "source": [
    "from sklearn.linear_model import LogisticRegression\n",
    "\n",
    "from sklearn.metrics import classification_report\n",
    "from sklearn.metrics import confusion_matrix"
   ]
  },
  {
   "cell_type": "markdown",
   "id": "ec2cc19d",
   "metadata": {},
   "source": [
    "### cross validation"
   ]
  },
  {
   "cell_type": "code",
   "execution_count": 32,
   "id": "254eec88",
   "metadata": {},
   "outputs": [],
   "source": [
    "penalty = ['l1','l2']\n",
    "\n",
    "C = [0.001, 0.01, 0.1, 1, 10, 100] \n",
    "\n",
    "log_param_grid = {'penalty': penalty,'C': C}"
   ]
  },
  {
   "cell_type": "code",
   "execution_count": 33,
   "id": "a467f1a2",
   "metadata": {},
   "outputs": [],
   "source": [
    "logreg = LogisticRegression(max_iter=1000)"
   ]
  },
  {
   "cell_type": "code",
   "execution_count": 34,
   "id": "2845c103",
   "metadata": {},
   "outputs": [
    {
     "data": {
      "text/plain": [
       "GridSearchCV(estimator=LogisticRegression(max_iter=1000),\n",
       "             param_grid={'C': [0.001, 0.01, 0.1, 1, 10, 100],\n",
       "                         'penalty': ['l1', 'l2']})"
      ]
     },
     "execution_count": 34,
     "metadata": {},
     "output_type": "execute_result"
    }
   ],
   "source": [
    "grid = GridSearchCV(logreg,log_param_grid)\n",
    "\n",
    "grid.fit(X_train_resh,y_train_resh)"
   ]
  },
  {
   "cell_type": "markdown",
   "id": "ced4c83d",
   "metadata": {},
   "source": [
    "### the optimal parameters"
   ]
  },
  {
   "cell_type": "code",
   "execution_count": 35,
   "id": "29a56521",
   "metadata": {},
   "outputs": [
    {
     "data": {
      "text/plain": [
       "{'C': 1, 'penalty': 'l2'}"
      ]
     },
     "execution_count": 35,
     "metadata": {},
     "output_type": "execute_result"
    }
   ],
   "source": [
    "grid.best_params_"
   ]
  },
  {
   "cell_type": "markdown",
   "id": "2e78d0c6",
   "metadata": {},
   "source": [
    "### model fitting"
   ]
  },
  {
   "cell_type": "code",
   "execution_count": 36,
   "id": "db8a8918",
   "metadata": {},
   "outputs": [
    {
     "data": {
      "text/plain": [
       "Pipeline(steps=[('scale', StandardScaler()),\n",
       "                ('LR', LogisticRegression(C=0.1, random_state=42))])"
      ]
     },
     "execution_count": 36,
     "metadata": {},
     "output_type": "execute_result"
    }
   ],
   "source": [
    "logreg_pipeline = Pipeline(steps = [('scale',StandardScaler()),('LR',LogisticRegression(C=0.1,penalty='l2',random_state=42))])\n",
    "\n",
    "logreg_pipeline.fit(X_train_resh,y_train_resh)"
   ]
  },
  {
   "cell_type": "markdown",
   "id": "231be0c2",
   "metadata": {},
   "source": [
    "### model predict"
   ]
  },
  {
   "cell_type": "code",
   "execution_count": 37,
   "id": "03ab5cb7",
   "metadata": {},
   "outputs": [],
   "source": [
    "logreg_tuned_pred = logreg_pipeline.predict(X_test)"
   ]
  },
  {
   "cell_type": "markdown",
   "id": "e8afa0ed",
   "metadata": {},
   "source": [
    "### model evaluation"
   ]
  },
  {
   "cell_type": "code",
   "execution_count": 38,
   "id": "a2ad89aa",
   "metadata": {},
   "outputs": [
    {
     "name": "stdout",
     "output_type": "stream",
     "text": [
      "              precision    recall  f1-score   support\n",
      "\n",
      "           0       0.98      0.76      0.86      3399\n",
      "           1       0.13      0.71      0.23       178\n",
      "\n",
      "    accuracy                           0.76      3577\n",
      "   macro avg       0.56      0.73      0.54      3577\n",
      "weighted avg       0.94      0.76      0.82      3577\n",
      "\n"
     ]
    }
   ],
   "source": [
    "class_report_2=classification_report(y_test,logreg_tuned_pred)\n",
    "print(class_report_2)"
   ]
  },
  {
   "cell_type": "code",
   "execution_count": 39,
   "id": "1b426784",
   "metadata": {},
   "outputs": [
    {
     "data": {
      "text/plain": [
       "0.7573385518590998"
      ]
     },
     "execution_count": 39,
     "metadata": {},
     "output_type": "execute_result"
    }
   ],
   "source": [
    "accuracy_score_2=accuracy_score(y_test,logreg_tuned_pred)\n",
    "accuracy_score_2"
   ]
  },
  {
   "cell_type": "code",
   "execution_count": 40,
   "id": "4d75cc10",
   "metadata": {},
   "outputs": [
    {
     "data": {
      "text/plain": [
       "0.225"
      ]
     },
     "execution_count": 40,
     "metadata": {},
     "output_type": "execute_result"
    }
   ],
   "source": [
    "f1_score_2=f1_score(y_test,logreg_tuned_pred)\n",
    "f1_score_2"
   ]
  },
  {
   "cell_type": "markdown",
   "id": "171415f0",
   "metadata": {},
   "source": [
    "### confusion_matrix"
   ]
  },
  {
   "cell_type": "code",
   "execution_count": 41,
   "id": "8463c64c",
   "metadata": {},
   "outputs": [
    {
     "name": "stdout",
     "output_type": "stream",
     "text": [
      "\n",
      "The classification report for Logistic Regression is:\n",
      "              precision    recall  f1-score   support\n",
      "\n",
      "           0       0.98      0.76      0.86      3399\n",
      "           1       0.13      0.71      0.23       178\n",
      "\n",
      "    accuracy                           0.76      3577\n",
      "   macro avg       0.56      0.73      0.54      3577\n",
      "weighted avg       0.94      0.76      0.82      3577\n",
      "\n"
     ]
    },
    {
     "data": {
      "image/png": "[encoded data removed]",
      "text/plain": [
       "<Figure size 576x432 with 2 Axes>"
      ]
     },
     "metadata": {
      "needs_background": "light"
     },
     "output_type": "display_data"
    }
   ],
   "source": [
    "generate_results(logreg_pipeline,logreg_tuned_pred, 'Logistic Regression')"
   ]
  },
  {
   "cell_type": "markdown",
   "id": "cbe9b78f",
   "metadata": {},
   "source": [
    "### ROC Curve"
   ]
  },
  {
   "cell_type": "code",
   "execution_count": 42,
   "id": "437b7604",
   "metadata": {},
   "outputs": [
    {
     "data": {
      "image/png": "[encoded data removed]",
      "text/plain": [
       "<Figure size 432x288 with 1 Axes>"
      ]
     },
     "metadata": {
      "needs_background": "light"
     },
     "output_type": "display_data"
    }
   ],
   "source": [
    "y_score = logreg_pipeline.predict_proba(X_test)[:,1]\n",
    "fpr,tpr,threshold = metrics.roc_curve(y_test, y_score)\n",
    "roc_auc = metrics.auc(fpr,tpr)\n",
    "\n",
    "plt.stackplot(fpr, tpr, color='steelblue', alpha = 0.5, edgecolor = 'black')\n",
    "plt.plot(fpr, tpr, color='black', lw = 1)\n",
    "plt.plot([0,1],[0,1], color = 'red', linestyle = '--')\n",
    "plt.text(0.5,0.3,'ROC curve (area = %0.2f)' % roc_auc)\n",
    "plt.xlabel('1-Specificity')\n",
    "plt.ylabel('Sensitivity')\n",
    "plt.show()"
   ]
  },
  {
   "cell_type": "markdown",
   "id": "9e26c9ff",
   "metadata": {},
   "source": [
    "### KS Curve"
   ]
  },
  {
   "cell_type": "code",
   "execution_count": 43,
   "id": "32bb9e55",
   "metadata": {},
   "outputs": [
    {
     "data": {
      "image/png": "[encoded data removed]",
      "text/plain": [
       "<Figure size 432x288 with 1 Axes>"
      ]
     },
     "metadata": {
      "needs_background": "light"
     },
     "output_type": "display_data"
    }
   ],
   "source": [
    "plot_ks(y_test, y_score, positive_flag=1)"
   ]
  }
 ],
 "metadata": {
  "kernelspec": {
   "display_name": "Python 3 (ipykernel)",
   "language": "python",
   "name": "python3"
  },
  "language_info": {
   "codemirror_mode": {
    "name": "ipython",
    "version": 3
   },
   "file_extension": ".py",
   "mimetype": "text/x-python",
   "name": "python",
   "nbconvert_exporter": "python",
   "pygments_lexer": "ipython3",
   "version": "3.7.10"
  }
 },
 "nbformat": 4,
 "nbformat_minor": 5
}
